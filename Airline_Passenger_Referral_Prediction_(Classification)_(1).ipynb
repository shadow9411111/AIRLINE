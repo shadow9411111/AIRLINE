{
  "nbformat": 4,
  "nbformat_minor": 0,
  "metadata": {
    "colab": {
      "private_outputs": true,
      "provenance": [],
      "collapsed_sections": [
        "w6K7xa23Elo4",
        "mDgbUHAGgjLW",
        "qYpmQ266Yuh3",
        "-Kee-DAl2viO",
        "gIfDvo9L0UH2"
      ]
    },
    "kernelspec": {
      "name": "python3",
      "display_name": "Python 3"
    },
    "language_info": {
      "name": "python"
    }
  },
  "cells": [
    {
      "cell_type": "markdown",
      "source": [
        "# **Project Name**    -  Airline Passenger Referral Prediction (Classification)\n",
        "\n"
      ],
      "metadata": {
        "id": "vncDsAP0Gaoa"
      }
    },
    {
      "cell_type": "markdown",
      "source": [
        "##### **Project Type**    - Classification\n",
        "##### **Contribution**    - Individual\n",
        "##### **Team Member 1 -** - Nikita Saxena\n"
      ],
      "metadata": {
        "id": "beRrZCGUAJYm"
      }
    },
    {
      "cell_type": "markdown",
      "source": [
        "# **Project Summary -**"
      ],
      "metadata": {
        "id": "FJNUwmbgGyua"
      }
    },
    {
      "cell_type": "markdown",
      "source": [
        "1. The project involves analyzing airline reviews spanning from 2006 to 2019 to predict whether passengers would recommend the airline to their friends. The dataset contains multiple choice and free text questions, providing valuable insights into customer opinions and preferences.\n",
        "\n",
        "2. Key project steps include efficient exploratory data analysis to understand the data and prepare it for training, addressing class imbalance in the target feature to ensure accurate predictions, and selecting an appropriate machine learning algorithm to model passenger recommendations.\n",
        "\n",
        "3. The project evaluates the model's performance while considering class imbalance, identifies important features that influence customer satisfaction and recommendations, and provides useful insights for stakeholders in the airline industry to enhance customer experience and make informed decisions."
      ],
      "metadata": {
        "id": "F6v_1wHtG2nS"
      }
    },
    {
      "cell_type": "markdown",
      "source": [
        "# **GitHub Link -**"
      ],
      "metadata": {
        "id": "w6K7xa23Elo4"
      }
    },
    {
      "cell_type": "markdown",
      "source": [
        "https://github.com/shadow9411111/AIRLINE"
      ],
      "metadata": {
        "id": "h1o69JH3Eqqn"
      }
    },
    {
      "cell_type": "markdown",
      "source": [
        "# **Problem Statement**\n"
      ],
      "metadata": {
        "id": "yQaldy8SH6Dl"
      }
    },
    {
      "cell_type": "markdown",
      "source": [
        "**The problem at hand is to analyze airline reviews collected between 2006 and 2019 and predict whether passengers will recommend the airline to their friends. The dataset includes various types of questions, allowing us to gain insights into customer opinions and preferences. The objective is to develop an effective model that can accurately predict passenger recommendations based on the provided data. By solving this problem, we aim to assist stakeholders in the airline industry in understanding customer satisfaction and improving their services to enhance overall customer experience.**"
      ],
      "metadata": {
        "id": "DpeJGUA3kjGy"
      }
    },
    {
      "cell_type": "markdown",
      "source": [
        "# **General Guidelines** : -  "
      ],
      "metadata": {
        "id": "mDgbUHAGgjLW"
      }
    },
    {
      "cell_type": "markdown",
      "source": [
        "1.   Well-structured, formatted, and commented code is required. \n",
        "2.   Exception Handling, Production Grade Code & Deployment Ready Code will be a plus. Those students will be awarded some additional credits. \n",
        "     \n",
        "     The additional credits will have advantages over other students during Star Student selection.\n",
        "       \n",
        "             [ Note: - Deployment Ready Code is defined as, the whole .ipynb notebook should be executable in one go\n",
        "                       without a single error logged. ]\n",
        "\n",
        "3.   Each and every logic should have proper comments.\n",
        "4. You may add as many number of charts you want. Make Sure for each and every chart the following format should be answered.\n",
        "        \n",
        "\n",
        "```\n",
        "# Chart visualization code\n",
        "```\n",
        "            \n",
        "\n",
        "*   Why did you pick the specific chart?\n",
        "*   What is/are the insight(s) found from the chart?\n",
        "* Will the gained insights help creating a positive business impact? \n",
        "Are there any insights that lead to negative growth? Justify with specific reason.\n",
        "\n",
        "5. You have to create at least 15 logical & meaningful charts having important insights.\n",
        "\n",
        "\n",
        "[ Hints : - Do the Vizualization in  a structured way while following \"UBM\" Rule. \n",
        "\n",
        "U - Univariate Analysis,\n",
        "\n",
        "B - Bivariate Analysis (Numerical - Categorical, Numerical - Numerical, Categorical - Categorical)\n",
        "\n",
        "M - Multivariate Analysis\n",
        " ]\n",
        "\n",
        "\n",
        "\n",
        "\n",
        "\n",
        "6. You may add more ml algorithms for model creation. Make sure for each and every algorithm, the following format should be answered.\n",
        "\n",
        "\n",
        "*   Explain the ML Model used and it's performance using Evaluation metric Score Chart.\n",
        "\n",
        "\n",
        "*   Cross- Validation & Hyperparameter Tuning\n",
        "\n",
        "*   Have you seen any improvement? Note down the improvement with updates Evaluation metric Score Chart.\n",
        "\n",
        "*   Explain each evaluation metric's indication towards business and the business impact pf the ML model used.\n",
        "\n",
        "\n",
        "\n",
        "\n",
        "\n",
        "\n",
        "\n",
        "\n",
        "\n",
        "\n",
        "\n",
        "\n",
        "\n",
        "\n",
        "\n",
        "\n",
        "\n",
        "\n"
      ],
      "metadata": {
        "id": "ZrxVaUj-hHfC"
      }
    },
    {
      "cell_type": "markdown",
      "source": [
        "# ***Let's Begin !***"
      ],
      "metadata": {
        "id": "O_i_v8NEhb9l"
      }
    },
    {
      "cell_type": "markdown",
      "source": [
        "## ***1. Know Your Data***"
      ],
      "metadata": {
        "id": "HhfV-JJviCcP"
      }
    },
    {
      "cell_type": "markdown",
      "source": [
        "### Import Libraries"
      ],
      "metadata": {
        "id": "Y3lxredqlCYt"
      }
    },
    {
      "cell_type": "code",
      "source": [
        "# Import Libraries\n",
        "import pandas as pd\n",
        "import seaborn as sns\n",
        "import matplotlib.pyplot as plt\n",
        "!pip install geopandas\n",
        "import geopandas as gpd\n",
        "from scipy import stats\n",
        "from statsmodels.stats.outliers_influence import variance_inflation_factor\n",
        "from sklearn.metrics import confusion_matrix, classification_report\n",
        "from sklearn.model_selection import train_test_split\n",
        "from sklearn.pipeline import Pipeline\n",
        "from sklearn.compose import ColumnTransformer\n",
        "from sklearn.preprocessing import StandardScaler, OneHotEncoder\n",
        "from sklearn.linear_model import LogisticRegression\n",
        "from sklearn.ensemble import RandomForestClassifier\n",
        "from sklearn.impute import SimpleImputer\n",
        "from sklearn.metrics import accuracy_score\n",
        "from nltk.stem import WordNetLemmatizer\n",
        "import nltk\n",
        "nltk.download('punkt')\n",
        "from nltk.corpus import stopwords\n",
        "import re\n",
        "import string"
      ],
      "metadata": {
        "id": "M8Vqi-pPk-HR"
      },
      "execution_count": null,
      "outputs": []
    },
    {
      "cell_type": "markdown",
      "source": [
        "### Dataset Loading"
      ],
      "metadata": {
        "id": "3RnN4peoiCZX"
      }
    },
    {
      "cell_type": "code",
      "source": [
        "# Load Dataset\n",
        "air= pd.read_excel('/content/data_airline_reviews.xlsx')"
      ],
      "metadata": {
        "id": "4CkvbW_SlZ_R"
      },
      "execution_count": null,
      "outputs": []
    },
    {
      "cell_type": "markdown",
      "source": [
        "### Dataset First View"
      ],
      "metadata": {
        "id": "x71ZqKXriCWQ"
      }
    },
    {
      "cell_type": "code",
      "source": [
        "# Dataset First Look\n",
        "print(air)"
      ],
      "metadata": {
        "id": "SBzkbveNkrbj"
      },
      "execution_count": null,
      "outputs": []
    },
    {
      "cell_type": "code",
      "source": [
        "#display top 5 data from the dataset\n",
        "air.head()"
      ],
      "metadata": {
        "id": "9svkdQlFkvOm"
      },
      "execution_count": null,
      "outputs": []
    },
    {
      "cell_type": "code",
      "source": [
        "#display last 5 data of the dataset\n",
        "air.tail()"
      ],
      "metadata": {
        "id": "f0QD5wODk7UV"
      },
      "execution_count": null,
      "outputs": []
    },
    {
      "cell_type": "markdown",
      "source": [
        "### Dataset Rows & Columns count"
      ],
      "metadata": {
        "id": "7hBIi_osiCS2"
      }
    },
    {
      "cell_type": "code",
      "source": [
        "# Dataset Rows & Columns count\n",
        "\n",
        "num_rows = air.shape[0]\n",
        "print(\"NUMBER OF ROWS :- \", num_rows)\n",
        "num_columns = air.shape[1]\n",
        "print(\"NUMBER OF COLUMN :- \", num_columns)"
      ],
      "metadata": {
        "id": "Kllu7SJgmLij"
      },
      "execution_count": null,
      "outputs": []
    },
    {
      "cell_type": "markdown",
      "source": [
        "### Dataset Information"
      ],
      "metadata": {
        "id": "JlHwYmJAmNHm"
      }
    },
    {
      "cell_type": "code",
      "source": [
        "# Dataset Info\n",
        "air.info()"
      ],
      "metadata": {
        "id": "e9hRXRi6meOf"
      },
      "execution_count": null,
      "outputs": []
    },
    {
      "cell_type": "markdown",
      "source": [
        "#### Duplicate Values"
      ],
      "metadata": {
        "id": "35m5QtbWiB9F"
      }
    },
    {
      "cell_type": "code",
      "source": [
        "# Dataset Duplicate Value Count\n",
        "duplicate_count = air.duplicated().sum()\n",
        "\n",
        "print(\"Number of duplicate values:\", duplicate_count)"
      ],
      "metadata": {
        "id": "1sLdpKYkmox0"
      },
      "execution_count": null,
      "outputs": []
    },
    {
      "cell_type": "markdown",
      "source": [
        "#### Missing Values/Null Values"
      ],
      "metadata": {
        "id": "PoPl-ycgm1ru"
      }
    },
    {
      "cell_type": "code",
      "source": [
        "# Missing Values/Null Values Count\n",
        "\n",
        "# Count missing values\n",
        "missing_count = air.isnull().sum()\n",
        "\n",
        "print(\"Missing values count:\")\n",
        "print(missing_count)"
      ],
      "metadata": {
        "id": "GgHWkxvamxVg"
      },
      "execution_count": null,
      "outputs": []
    },
    {
      "cell_type": "code",
      "source": [
        "# Visualizing the missing values# \n",
        "\n",
        "# Create a bar graph of missing values\n",
        "plt.figure(figsize=(10, 6))\n",
        "missing_count.plot(kind='bar', color='skyblue')\n",
        "plt.title('Missing Values by Column')\n",
        "plt.xlabel('Columns')\n",
        "plt.ylabel('Count')\n",
        "plt.show()"
      ],
      "metadata": {
        "id": "3q5wnI3om9sJ"
      },
      "execution_count": null,
      "outputs": []
    },
    {
      "cell_type": "markdown",
      "source": [
        "### What did you know about your dataset?"
      ],
      "metadata": {
        "id": "H0kj-8xxnORC"
      }
    },
    {
      "cell_type": "markdown",
      "source": [
        "Answer \n",
        "\n",
        "The dataset contains 131,895 rows and 17 columns. There are 70,711 duplicate values in the dataset. The column names are 'airline', 'overall', 'author', 'review_date', 'customer_review', 'aircraft', 'traveller_type', 'cabin', 'route', 'date_flown', 'seat_comfort', 'cabin_service', 'food_bev', 'entertainment', 'ground_service', 'value_for_money', and 'recommended'. There are missing values in several columns, with the highest counts in 'aircraft', 'traveller_type', 'ground_service', and 'entertainment'. The dataset provides information about airline reviews, including ratings, review details, and various aspects of the airline experience."
      ],
      "metadata": {
        "id": "gfoNAAC-nUe_"
      }
    },
    {
      "cell_type": "markdown",
      "source": [
        "## ***2. Understanding Your Variables***"
      ],
      "metadata": {
        "id": "nA9Y7ga8ng1Z"
      }
    },
    {
      "cell_type": "code",
      "source": [
        "# Get the column names\n",
        "column_names = air.columns\n",
        "\n",
        "# Print the column names\n",
        "for column in column_names:\n",
        "    print(column)"
      ],
      "metadata": {
        "id": "j7xfkqrt5Ag5"
      },
      "execution_count": null,
      "outputs": []
    },
    {
      "cell_type": "code",
      "source": [
        "# Dataset Describe\n",
        "air.describe()\n"
      ],
      "metadata": {
        "id": "DnOaZdaE5Q5t"
      },
      "execution_count": null,
      "outputs": []
    },
    {
      "cell_type": "markdown",
      "source": [
        "### Variables Description "
      ],
      "metadata": {
        "id": "PBTbrJXOngz2"
      }
    },
    {
      "cell_type": "markdown",
      "source": [
        "*Answer* \n",
        "Here's a description of the variables in the 'air' dataset:\n",
        "\n",
        "1. airline: The name or code of the airline.\n",
        "2. overall: The overall rating given by the customer for their airline experience.\n",
        "3. author: The author or reviewer of the airline review.\n",
        "4. review_date: The date when the review was written.\n",
        "5. customer_review: The text of the customer's review.\n",
        "6. aircraft: The aircraft used for the flight.\n",
        "7. traveller_type: The type of traveler (e.g., business, leisure, family).\n",
        "8. cabin: The type of cabin or class (e.g., economy, business, first class).\n",
        "9. route: The route or destination of the flight.\n",
        "10. date_flown: The date when the flight was taken.\n",
        "11. seat_comfort: The rating for seat comfort.\n",
        "12. cabin_service: The rating for cabin service.\n",
        "13. food_bev: The rating for food and beverages.\n",
        "14. entertainment: The rating for in-flight entertainment.\n",
        "15. ground_service: The rating for ground services (e.g., check-in, boarding).\n",
        "16. value_for_money: The rating for value for money.\n",
        "17. recommended: Whether the customer would recommend the airline to others (1 = Yes, 0 = No).\n"
      ],
      "metadata": {
        "id": "aJV4KIxSnxay"
      }
    },
    {
      "cell_type": "markdown",
      "source": [
        "### Check Unique Values for each variable."
      ],
      "metadata": {
        "id": "u3PMJOP6ngxN"
      }
    },
    {
      "cell_type": "code",
      "source": [
        "# Check Unique Values for each variable.\n",
        "# Check unique values for each variable\n",
        "for column in air.columns:\n",
        "    unique_values = air[column].unique()\n",
        "    print(f\"Unique values for {column}:\")\n",
        "    print(unique_values)\n",
        "    print()"
      ],
      "metadata": {
        "id": "zms12Yq5n-jE"
      },
      "execution_count": null,
      "outputs": []
    },
    {
      "cell_type": "code",
      "source": [
        "\n",
        "#check the unique value\n",
        "air.nunique()\n",
        "     "
      ],
      "metadata": {
        "id": "0UmIgvrzzCqN"
      },
      "execution_count": null,
      "outputs": []
    },
    {
      "cell_type": "markdown",
      "source": [
        "## 3. ***Data Wrangling***"
      ],
      "metadata": {
        "id": "dauF4eBmngu3"
      }
    },
    {
      "cell_type": "markdown",
      "source": [
        "### Data Wrangling Code"
      ],
      "metadata": {
        "id": "bKJF3rekwFvQ"
      }
    },
    {
      "cell_type": "code",
      "source": [
        "# Write your code to make your dataset analysis ready.\n",
        "air['aircraft'].fillna('Unknown', inplace=True)\n",
        "air['traveller_type'].fillna('Not Specified', inplace=True)\n",
        "\n",
        "# Convert date columns to datetime format\n",
        "air['date_flown'] = pd.to_datetime(air['date_flown'])\n",
        "\n",
        "# Encoding categorical variables\n",
        "df_encoded = pd.get_dummies(air, columns=['airline', 'cabin', 'route'])\n",
        "\n",
        "# Print the updated dataset\n",
        "print(df_encoded.head())"
      ],
      "metadata": {
        "id": "wk-9a2fpoLcV"
      },
      "execution_count": null,
      "outputs": []
    },
    {
      "cell_type": "markdown",
      "source": [
        "### What all manipulations have you done and insights you found?"
      ],
      "metadata": {
        "id": "MSa1f5Uengrz"
      }
    },
    {
      "cell_type": "markdown",
      "source": [
        "Answer \n",
        "\n",
        "Let's break it down:\n",
        "\n",
        "1. Handling Missing Values:\n",
        "   - `air['aircraft'].fillna('Unknown', inplace=True)`: This line fills the missing values in the 'aircraft' column with the string value 'Unknown'. This ensures that there are no missing values in the 'aircraft' column.\n",
        "   - `air['traveller_type'].fillna('Not Specified', inplace=True)`: This line fills the missing values in the 'traveller_type' column with the string value 'Not Specified'. It ensures that all missing values in the 'traveller_type' column are replaced.\n",
        "\n",
        "2. Convert Date Columns to Datetime Format:\n",
        "   - `air['date_flown'] = pd.to_datetime(air['date_flown'])`: This line converts the 'date_flown' column to datetime format using the `pd.to_datetime()` function from pandas. This transformation allows for easier manipulation and analysis of date-related information.\n",
        "\n",
        "3. Encoding Categorical Variables:\n",
        "   - `df_encoded = pd.get_dummies(air, columns=['airline', 'cabin', 'route'])`: This line encodes the categorical variables 'airline', 'cabin', and 'route' using one-hot encoding. The `pd.get_dummies()` function creates binary indicator variables for each category within these columns. This transformation enables the inclusion of categorical variables in further analysis or modeling.\n",
        "\n",
        "4. Print the Updated Dataset:\n",
        "   - `print(df_encoded.head())`: This line prints the head of the updated dataset (`df_encoded`), showing the transformed dataset with filled missing values and encoded categorical variables.\n",
        "\n",
        "Overall, these data manipulations ensure that missing values are handled, date columns are in the appropriate format, and categorical variables are encoded for analysis. The printed output provides a glimpse of the updated dataset, ready for further analysis."
      ],
      "metadata": {
        "id": "LbyXE7I1olp8"
      }
    },
    {
      "cell_type": "markdown",
      "source": [
        "## ***4. Data Vizualization, Storytelling & Experimenting with charts : Understand the relationships between variables***"
      ],
      "metadata": {
        "id": "GF8Ens_Soomf"
      }
    },
    {
      "cell_type": "markdown",
      "source": [
        "#### Chart - 1"
      ],
      "metadata": {
        "id": "0wOQAZs5pc--"
      }
    },
    {
      "cell_type": "code",
      "source": [
        "# Chart - 1 visualization code\n",
        "#Question: What is the distribution of passenger recommendations?\n",
        "sns.countplot(x='recommended', data=air)\n",
        "plt.title('Distribution of Passenger Recommendations')\n",
        "plt.xlabel('Recommended')\n",
        "plt.ylabel('Count')\n",
        "plt.show()\n"
      ],
      "metadata": {
        "id": "7v_ESjsspbW7"
      },
      "execution_count": null,
      "outputs": []
    },
    {
      "cell_type": "markdown",
      "source": [
        "Visualized Solution: This bar plot shows the number of passengers who would recommend the airline (1) versus those who would not (0). It helps understand the balance of recommendations and identify any class imbalance issues."
      ],
      "metadata": {
        "id": "KgH8qOu36yvC"
      }
    },
    {
      "cell_type": "markdown",
      "source": [
        "##### 1. Why did you pick the specific chart?"
      ],
      "metadata": {
        "id": "K5QZ13OEpz2H"
      }
    },
    {
      "cell_type": "markdown",
      "source": [
        "Answer \n",
        "\n",
        "\n",
        "- The specific chart chosen is a countplot.\n",
        "- A countplot is suitable to visualize the distribution of passenger recommendations.\n",
        "- The countplot helps understand the frequency or count of different categories in a categorical variable.\n",
        "- The 'recommended' variable represents the recommendation status of passengers.\n",
        "- The countplot allows easy comparison of the number of passengers who recommended and did not recommend.\n",
        "- It provides a clear understanding of the distribution of passenger recommendations."
      ],
      "metadata": {
        "id": "XESiWehPqBRc"
      }
    },
    {
      "cell_type": "markdown",
      "source": [
        "##### 2. What is/are the insight(s) found from the chart?"
      ],
      "metadata": {
        "id": "lQ7QKXXCp7Bj"
      }
    },
    {
      "cell_type": "markdown",
      "source": [
        "Answer \n",
        "\n",
        "The insights found from the chart are:\n",
        "\n",
        "- The chart shows the distribution of passenger recommendations.\n",
        "- The countplot reveals the frequency or count of passengers who recommended and did not recommend.\n",
        "- The insight obtained is the proportion or count of passengers falling into each category of recommendation.\n",
        "- By analyzing the countplot, it is possible to determine the relative popularity or preference for recommendations among passengers.\n",
        "- The chart provides an overview of the distribution of passenger recommendations and can be used to identify any imbalances or patterns in the data."
      ],
      "metadata": {
        "id": "C_j1G7yiqdRP"
      }
    },
    {
      "cell_type": "markdown",
      "source": [
        "##### 3. Will the gained insights help creating a positive business impact? \n",
        "Are there any insights that lead to negative growth? Justify with specific reason."
      ],
      "metadata": {
        "id": "448CDAPjqfQr"
      }
    },
    {
      "cell_type": "markdown",
      "source": [
        "Answer \n",
        "The gained insights can potentially help create a positive business impact. Here's the justification:\n",
        "\n",
        "Positive Business Impact:\n",
        "- Understanding the distribution of passenger recommendations allows the business to gauge the level of customer satisfaction and loyalty.\n",
        "- If the countplot shows a high proportion of passengers recommending the service, it indicates a positive customer experience. This can lead to increased customer retention, positive word-of-mouth, and potentially attract new customers.\n",
        "- Positive recommendations can contribute to the growth of the business as satisfied customers are more likely to become repeat customers and promote the business to others.\n",
        "\n",
        "Insights Leading to Negative Growth:\n",
        "- If the countplot reveals a low proportion of passengers recommending the service, it suggests a negative customer experience or dissatisfaction.\n",
        "- A significant number of passengers not recommending the service may lead to negative impacts on the business, such as decreased customer retention, lower customer acquisition, and potential damage to the brand reputation.\n",
        "- It signals the need for the business to identify and address the issues causing dissatisfaction and make improvements to enhance customer experience and satisfaction.\n",
        "\n",
        "In summary, the gained insights from the chart can help create a positive business impact by identifying satisfied customers who can contribute to business growth. Conversely, if the insights indicate a low proportion of recommendations, it highlights the need for improvements to avoid negative growth and address customer dissatisfaction."
      ],
      "metadata": {
        "id": "3cspy4FjqxJW"
      }
    },
    {
      "cell_type": "markdown",
      "source": [
        "#### Chart - 2"
      ],
      "metadata": {
        "id": "KSlN3yHqYklG"
      }
    },
    {
      "cell_type": "code",
      "source": [
        "# Chart - 2 visualization code\n",
        "#Question: How does seat comfort impact passenger recommendations?\n",
        "sns.boxplot(x='recommended', y='seat_comfort', data=air)\n",
        "plt.title('Seat Comfort vs. Passenger Recommendations')\n",
        "plt.xlabel('Recommended')\n",
        "plt.ylabel('Seat Comfort')\n",
        "plt.show()\n"
      ],
      "metadata": {
        "id": "R4YgtaqtYklH"
      },
      "execution_count": null,
      "outputs": []
    },
    {
      "cell_type": "markdown",
      "source": [
        "Visualized Solution: This box plot compares the distribution of seat comfort scores for passengers who would recommend the airline (1) versus those who would not (0). It helps assess whether higher seat comfort ratings are associated with more positive recommendations."
      ],
      "metadata": {
        "id": "4iqFMng27EqU"
      }
    },
    {
      "cell_type": "markdown",
      "source": [
        "##### 1. Why did you pick the specific chart?"
      ],
      "metadata": {
        "id": "t6dVpIINYklI"
      }
    },
    {
      "cell_type": "markdown",
      "source": [
        "Answer \n",
        "\n",
        "\n",
        "1. Comparison of Categorical and Continuous Variables: The chart aims to compare the impact of seat comfort (a continuous variable) on passenger recommendations (a categorical variable). A boxplot is an effective choice for visualizing this type of relationship.\n",
        "\n",
        "2. Summary of Distribution: A boxplot provides a concise summary of the distribution of the seat comfort ratings for each category of passenger recommendations. It presents information about the median, quartiles, and potential outliers, allowing for easy comparison.\n",
        "\n",
        "3. Identification of Differences: The boxplot enables the identification of any differences or patterns in seat comfort ratings between the two categories of passenger recommendations. It allows for quick visual comparison and evaluation of the impact of seat comfort on passenger recommendations.\n",
        "\n",
        "4. Handling Outliers: Boxplots are particularly useful for identifying outliers, which are data points that fall significantly outside the typical range. Outliers can provide valuable insights into extreme or unusual cases that might affect the relationship between seat comfort and passenger recommendations.\n",
        "\n",
        "5. Clear Visualization: The boxplot provides a clear visual representation of the data, making it easy to interpret and understand. The plot includes labeled axes for seat comfort and recommendations, and a title to clearly indicate the purpose of the visualization.\n",
        "\n",
        "Overall, the choice of a boxplot for this analysis allows for a meaningful comparison of seat comfort and passenger recommendations, highlighting any differences in seat comfort ratings between recommended and not recommended flights."
      ],
      "metadata": {
        "id": "5aaW0BYyYklI"
      }
    },
    {
      "cell_type": "markdown",
      "source": [
        "##### 2. What is/are the insight(s) found from the chart?"
      ],
      "metadata": {
        "id": "ijmpgYnKYklI"
      }
    },
    {
      "cell_type": "markdown",
      "source": [
        "Answer \n",
        "The insights that can be derived from the provided chart comparing seat comfort and passenger recommendations are as follows:\n",
        "\n",
        "1. Seat Comfort and Recommendations: The chart helps to understand the relationship between seat comfort and passenger recommendations. It allows us to observe how different levels of seat comfort impact the likelihood of a passenger recommending the airline or flight experience.\n",
        "\n",
        "2. Median Seat Comfort: The median line in the boxplot represents the central tendency of the seat comfort ratings for each category of passenger recommendations. By comparing the medians, we can identify if there is a noticeable difference in seat comfort between recommended and not recommended flights.\n",
        "\n",
        "3. Interquartile Range (IQR): The box portion of the plot represents the interquartile range, which provides insights into the spread or variability of seat comfort ratings. A larger IQR suggests a wider range of seat comfort experiences within a particular recommendation category.\n",
        "\n",
        "4. Outliers: The plot also displays any outliers, which are data points that fall significantly outside the typical range. Outliers can indicate exceptional seat comfort experiences that may influence passenger recommendations. The presence of outliers can help identify extreme cases or potential areas for improvement.\n",
        "\n",
        "By examining these aspects of the chart, we can gain insights into the impact of seat comfort on passenger recommendations. It may reveal if higher seat comfort ratings tend to result in more positive recommendations or if there are any notable discrepancies in seat comfort experiences between recommended and not recommended flights."
      ],
      "metadata": {
        "id": "PSx9atu2YklI"
      }
    },
    {
      "cell_type": "markdown",
      "source": [
        "##### 3. Will the gained insights help creating a positive business impact? \n",
        "Are there any insights that lead to negative growth? Justify with specific reason."
      ],
      "metadata": {
        "id": "-JiQyfWJYklI"
      }
    },
    {
      "cell_type": "markdown",
      "source": [
        "Answer \n",
        "\n",
        "The gained insights from the chart comparing seat comfort and passenger recommendations can potentially have a positive business impact. Here's why:\n",
        "\n",
        "Positive Business Impact:\n",
        "1. Identifying Key Driver: If the chart reveals that higher seat comfort ratings are strongly associated with positive passenger recommendations, it highlights the importance of prioritizing and improving seat comfort as a key driver for customer satisfaction. By addressing seat comfort issues, airlines can enhance the overall passenger experience, potentially leading to positive word-of-mouth recommendations and increased customer loyalty.\n",
        "\n",
        "2. Competitive Advantage: If the analysis demonstrates that the airline has higher seat comfort ratings compared to competitors, it can serve as a unique selling point and provide a competitive advantage in the market. This can attract more passengers who prioritize comfort and lead to increased market share and revenue.\n",
        "\n",
        "Insights Leading to Negative Growth:\n",
        "While the chart itself may not directly lead to negative growth, certain insights from the analysis could potentially indicate areas of concern. For example:\n",
        "\n",
        "1. Lower Seat Comfort Ratings: If the chart shows that seat comfort ratings are consistently low across both recommended and not recommended flights, it indicates a problem with overall seat comfort quality. This could result in negative passenger experiences, dissatisfaction, and potentially lead to negative word-of-mouth recommendations, impacting business growth adversely.\n",
        "\n",
        "2. Wide Variability and Outliers: If the chart displays a wide variability in seat comfort ratings within either the recommended or not recommended category, or if there are numerous outliers indicating extreme negative seat comfort experiences, it suggests inconsistent or subpar seat comfort standards. Such findings may highlight the need for improvement to ensure consistent and satisfactory seat comfort across all flights, thereby avoiding negative customer experiences and potential negative growth.\n",
        "\n",
        "It's important to note that the specific insights gained from the chart will depend on the data and analysis performed. The potential positive or negative business impact will also vary based on the airline's specific context, market dynamics, and the actions taken in response to the insights."
      ],
      "metadata": {
        "id": "BcBbebzrYklV"
      }
    },
    {
      "cell_type": "markdown",
      "source": [
        "#### Chart - 3"
      ],
      "metadata": {
        "id": "EM7whBJCYoAo"
      }
    },
    {
      "cell_type": "code",
      "source": [
        "# Chart - 3 visualization code\n",
        "#Question: What is the distribution of traveller types among passengers?\n",
        "sns.countplot(x='traveller_type', data=air)\n",
        "plt.title('Distribution of Traveller Types')\n",
        "plt.xlabel('Traveller Type')\n",
        "plt.ylabel('Count')\n",
        "plt.xticks(rotation=45)\n",
        "plt.show()\n"
      ],
      "metadata": {
        "id": "t6GMdE67YoAp"
      },
      "execution_count": null,
      "outputs": []
    },
    {
      "cell_type": "markdown",
      "source": [
        "Visualized Solution: This bar plot displays the number of passengers in different traveller types. It provides insights into the composition of passengers and helps identify the dominant traveller types."
      ],
      "metadata": {
        "id": "hBt-aVBw7SQG"
      }
    },
    {
      "cell_type": "markdown",
      "source": [
        "##### 1. Why did you pick the specific chart?"
      ],
      "metadata": {
        "id": "fge-S5ZAYoAp"
      }
    },
    {
      "cell_type": "markdown",
      "source": [
        "Answer \n",
        "\n",
        "I picked the \"countplot\" chart for visualizing the distribution of traveller types among passengers because it is a suitable choice for displaying the frequency/count of different categories in a categorical variable. In this case, we want to observe the count of each traveller type, making it easy to compare and understand the distribution of the data."
      ],
      "metadata": {
        "id": "5dBItgRVYoAp"
      }
    },
    {
      "cell_type": "markdown",
      "source": [
        "##### 2. What is/are the insight(s) found from the chart?"
      ],
      "metadata": {
        "id": "85gYPyotYoAp"
      }
    },
    {
      "cell_type": "markdown",
      "source": [
        "Answer \n",
        "From the countplot chart showing the distribution of traveller types among passengers, we can gain the following insights:\n",
        "\n",
        "1. The chart provides a visual representation of the frequency or count of each traveller type.\n",
        "2. We can observe which traveller types are more prevalent among the passengers.\n",
        "3. The chart helps in identifying the dominant or most common traveller type.\n",
        "4. It allows for a quick comparison of the counts of different traveller types.\n",
        "5. It can highlight any imbalances or disparities in the distribution of traveller types.\n",
        "\n",
        "By analyzing the chart, we can better understand the composition of passengers based on their traveller types. This information can be useful for targeted marketing strategies, personalized services, or understanding customer preferences and needs."
      ],
      "metadata": {
        "id": "4jstXR6OYoAp"
      }
    },
    {
      "cell_type": "markdown",
      "source": [
        "##### 3. Will the gained insights help creating a positive business impact? \n",
        "Are there any insights that lead to negative growth? Justify with specific reason."
      ],
      "metadata": {
        "id": "RoGjAbkUYoAp"
      }
    },
    {
      "cell_type": "markdown",
      "source": [
        "Answer \n",
        "The gained insights from the chart can potentially help create a positive business impact in several ways:\n",
        "\n",
        "Targeted Marketing: By understanding the distribution of traveller types, businesses can tailor their marketing strategies to cater to the specific needs and preferences of different types of passengers. This can lead to more effective and targeted marketing campaigns, resulting in increased customer engagement and conversion rates.\n",
        "\n",
        "Personalized Services: Knowing the dominant traveller types among passengers allows businesses to offer personalized services and experiences that cater to their specific preferences. This can enhance customer satisfaction and loyalty, leading to positive word-of-mouth recommendations and repeat business.\n",
        "\n",
        "Customer Segmentation: The insights gained from the chart can facilitate customer segmentation based on traveller types. This segmentation can help businesses identify high-value customer segments and develop customized offerings or loyalty programs for each segment, resulting in increased customer retention and revenue growth.\n",
        "\n",
        "\n"
      ],
      "metadata": {
        "id": "zfJ8IqMcYoAp"
      }
    },
    {
      "cell_type": "markdown",
      "source": [
        "#### Chart - 4"
      ],
      "metadata": {
        "id": "4Of9eVA-YrdM"
      }
    },
    {
      "cell_type": "code",
      "source": [
        "# Chart - 4 visualization code\n",
        "#Question: How does cabin service influence passenger recommendations?\n",
        "sns.boxplot(x='recommended', y='cabin_service', data=air)\n",
        "plt.title('Cabin Service vs. Passenger Recommendations')\n",
        "plt.xlabel('Recommended')\n",
        "plt.ylabel('Cabin Service')\n",
        "plt.show()\n"
      ],
      "metadata": {
        "id": "irlUoxc8YrdO"
      },
      "execution_count": null,
      "outputs": []
    },
    {
      "cell_type": "markdown",
      "source": [
        "Visualized Solution: This box plot illustrates the relationship between cabin service ratings and passenger recommendations. It helps determine whether higher cabin service scores are associated with more positive recommendations."
      ],
      "metadata": {
        "id": "jWD1_grf7fG5"
      }
    },
    {
      "cell_type": "markdown",
      "source": [
        "##### 1. Why did you pick the specific chart?"
      ],
      "metadata": {
        "id": "iky9q4vBYrdO"
      }
    },
    {
      "cell_type": "markdown",
      "source": [
        "Answer\n",
        "\n",
        "I chose a boxplot to visualize the relationship between cabin service and passenger recommendations because it allows us to compare the distribution of cabin service ratings for different recommendation categories. A boxplot displays the median, quartiles, and outliers of a continuous variable, making it suitable for showing the spread and central tendency of cabin service ratings based on passenger recommendations. This helps in understanding any potential relationship or pattern between cabin service and passenger recommendations."
      ],
      "metadata": {
        "id": "aJRCwT6DYrdO"
      }
    },
    {
      "cell_type": "markdown",
      "source": [
        "##### 2. What is/are the insight(s) found from the chart?"
      ],
      "metadata": {
        "id": "F6T5p64dYrdO"
      }
    },
    {
      "cell_type": "markdown",
      "source": [
        "Answer\n",
        "\n",
        "\n",
        "From the chart, the insights that can be derived are:\n",
        "\n",
        "Higher cabin service ratings tend to be associated with higher passenger recommendations. This is indicated by the higher median and upper quartile of cabin service ratings for the recommended category compared to the not recommended category.\n",
        "\n",
        "The recommended category shows less variability in cabin service ratings compared to the not recommended category. This is evident from the narrower range between the upper and lower quartiles in the recommended category boxplot.\n",
        "\n",
        "There are outliers present in both the recommended and not recommended categories, indicating that there are some cases where passengers have different experiences with cabin service that deviate from the general trend.\n",
        "\n"
      ],
      "metadata": {
        "id": "Xx8WAJvtYrdO"
      }
    },
    {
      "cell_type": "markdown",
      "source": [
        "##### 3. Will the gained insights help creating a positive business impact? \n",
        "Are there any insights that lead to negative growth? Justify with specific reason."
      ],
      "metadata": {
        "id": "y-Ehk30pYrdP"
      }
    },
    {
      "cell_type": "markdown",
      "source": [
        "*Answer* \n",
        "\n",
        "The gained insights can potentially help create a positive business impact. Here's how:\n",
        "\n",
        "Positive impact: The insight that higher cabin service ratings are associated with higher passenger recommendations suggests that improving and maintaining high-quality cabin service can lead to increased passenger satisfaction and positive word-of-mouth recommendations. This, in turn, can enhance the airline's reputation, attract more customers, and potentially increase customer loyalty and repeat business.\n",
        "\n",
        "Negative impact: While the chart does not explicitly indicate any insights that lead to negative growth, it is important to consider the outliers present in both the recommended and not recommended categories. These outliers represent cases where passengers had significantly different experiences with cabin service. It is crucial for the airline to investigate and address these outliers, as negative experiences could potentially harm the airline's reputation and lead to negative reviews or recommendations. Identifying and resolving any issues or inconsistencies in cabin service can help mitigate the risk of negative growth.\n",
        "\n"
      ],
      "metadata": {
        "id": "jLNxxz7MYrdP"
      }
    },
    {
      "cell_type": "markdown",
      "source": [
        "#### Chart - 5"
      ],
      "metadata": {
        "id": "bamQiAODYuh1"
      }
    },
    {
      "cell_type": "code",
      "source": [
        "# Chart - 5 visualization code\n",
        "#Question: What is the distribution of airline ratings?\n",
        "sns.histplot(air['overall'], bins=10, kde=True)\n",
        "plt.title('Distribution of Airline Ratings')\n",
        "plt.xlabel('Rating')\n",
        "plt.ylabel('Count')\n",
        "plt.show()\n"
      ],
      "metadata": {
        "id": "TIJwrbroYuh3"
      },
      "execution_count": null,
      "outputs": []
    },
    {
      "cell_type": "markdown",
      "source": [
        "Visualized Solution: This histogram displays the distribution of overall airline ratings. It provides an overview of the rating distribution and highlights any significant patterns or outliers."
      ],
      "metadata": {
        "id": "RhaQB1fY7nx1"
      }
    },
    {
      "cell_type": "markdown",
      "source": [
        "##### 1. Why did you pick the specific chart?"
      ],
      "metadata": {
        "id": "QHF8YVU7Yuh3"
      }
    },
    {
      "cell_type": "markdown",
      "source": [
        "Answer \n",
        "\n",
        "I chose a histogram to visualize the distribution of airline ratings because it provides an overview of the frequency or count of ratings in different rating intervals. Histograms are suitable for analyzing the distribution of a single variable, such as airline ratings, by dividing the range of ratings into bins and showing the count or density of ratings within each bin. This helps in understanding the overall pattern and shape of the distribution of ratings and identifying any peaks, clusters, or gaps in the data.\n",
        "\n",
        "\n"
      ],
      "metadata": {
        "id": "dcxuIMRPYuh3"
      }
    },
    {
      "cell_type": "markdown",
      "source": [
        "##### 2. What is/are the insight(s) found from the chart?"
      ],
      "metadata": {
        "id": "GwzvFGzlYuh3"
      }
    },
    {
      "cell_type": "markdown",
      "source": [
        "Answer \n",
        "\n",
        "From the chart, the insights that can be derived are:\n",
        "\n",
        "1- The distribution of airline ratings is centered around a specific rating value. The peak or mode of the distribution indicates the most frequent rating given by passengers.\n",
        "\n",
        "2- The majority of the ratings fall within a certain range. The spread or width of the distribution shows the range of ratings given by passengers.\n",
        "\n",
        "3- The shape of the distribution can provide additional insights. For example, a symmetrical distribution with a bell-shaped curve suggests a balanced distribution of ratings, while a skewed distribution may indicate a bias towards higher or lower ratings.\n",
        "\n",
        "4- The presence of multiple peaks or clusters in the distribution may suggest the existence of distinct groups or subpopulations with different preferences or experiences.\n"
      ],
      "metadata": {
        "id": "uyqkiB8YYuh3"
      }
    },
    {
      "cell_type": "markdown",
      "source": [
        "##### 3. Will the gained insights help creating a positive business impact? \n",
        "Are there any insights that lead to negative growth? Justify with specific reason."
      ],
      "metadata": {
        "id": "qYpmQ266Yuh3"
      }
    },
    {
      "cell_type": "markdown",
      "source": [
        "Answer Here"
      ],
      "metadata": {
        "id": "_WtzZ_hCYuh4"
      }
    },
    {
      "cell_type": "markdown",
      "source": [
        "#### Chart - 6"
      ],
      "metadata": {
        "id": "OH-pJp9IphqM"
      }
    },
    {
      "cell_type": "code",
      "source": [
        "# Chart - 6 visualization code\n",
        "#Question: How does value for money impact passenger recommendations?\n",
        "sns.violinplot(x='recommended', y='value_for_money', data=air)\n",
        "plt.title('Value for Money vs. Passenger Recommendations')\n",
        "plt.xlabel('Recommended')\n",
        "plt.ylabel('Value for Money')\n",
        "plt.show()\n"
      ],
      "metadata": {
        "id": "kuRf4wtuphqN"
      },
      "execution_count": null,
      "outputs": []
    },
    {
      "cell_type": "markdown",
      "source": [
        "Visualized Solution: This violin plot compares the distribution of value for money ratings for passengers who would recommend the airline (1) versus those who would not (0). It helps assess whether higher value for money scores are associated with more positive recommendations."
      ],
      "metadata": {
        "id": "eNFKZCiS7zgh"
      }
    },
    {
      "cell_type": "markdown",
      "source": [
        "##### 1. Why did you pick the specific chart?"
      ],
      "metadata": {
        "id": "bbFf2-_FphqN"
      }
    },
    {
      "cell_type": "markdown",
      "source": [
        "Answer \n",
        "\n",
        "I chose a violin plot to visualize the relationship between value for money and passenger recommendations because it provides insights into both the distribution and density of the data. A violin plot displays the distribution of a continuous variable (value for money) for different categories (recommended and not recommended) in a mirrored density plot format. It allows us to compare the shape, spread, and central tendency of the value for money ratings for each recommendation category. This helps in understanding the impact of value for money on passenger recommendations and identifying any patterns or differences between the two categories."
      ],
      "metadata": {
        "id": "loh7H2nzphqN"
      }
    },
    {
      "cell_type": "markdown",
      "source": [
        "##### 2. What is/are the insight(s) found from the chart?"
      ],
      "metadata": {
        "id": "_ouA3fa0phqN"
      }
    },
    {
      "cell_type": "markdown",
      "source": [
        "Answer \n",
        "\n",
        "Value for money ratings have a significant impact on passenger recommendations. The violin plot shows that higher value for money ratings are more commonly associated with the recommended category, as indicated by the taller and wider density curve on the higher rating values compared to the not recommended category.\n",
        "\n",
        "The distribution of value for money ratings is wider in the not recommended category compared to the recommended category. This suggests that passengers who do not recommend the airline may have more varied opinions regarding value for money, with some rating it lower and some rating it higher.\n",
        "\n",
        "The shape of the density curves provides additional insights. If the density curves are skewed towards higher ratings for the recommended category, it indicates a more positive perception of value for money among passengers who recommend the airline. Conversely, if the density curves are more evenly distributed or skewed towards lower ratings for the not recommended category, it suggests a less favorable perception of value for money among passengers who do not recommend the airline."
      ],
      "metadata": {
        "id": "VECbqPI7phqN"
      }
    },
    {
      "cell_type": "markdown",
      "source": [
        "##### 3. Will the gained insights help creating a positive business impact? \n",
        "Are there any insights that lead to negative growth? Justify with specific reason."
      ],
      "metadata": {
        "id": "Seke61FWphqN"
      }
    },
    {
      "cell_type": "markdown",
      "source": [
        "Answer \n",
        "\n",
        "Positive impact: The insight that higher value for money ratings are associated with positive passenger recommendations suggests that focusing on providing good value for money can lead to increased customer satisfaction and positive word-of-mouth recommendations. This can enhance the airline's reputation, attract more customers, and potentially increase customer loyalty and business growth.\n",
        "\n",
        "Identifying improvement areas: If the distribution of value for money ratings is skewed towards lower ratings or exhibits a wider spread in the not recommended category, it indicates potential areas for improvement. These insights can help the business identify specific aspects of value for money, such as pricing, service offerings, or ancillary benefits, that may be falling short of customer expectations. Addressing these areas can lead to improved value perception, increased customer satisfaction, and positive business impact.\n",
        "\n",
        "Negative impact: If the chart shows a clear pattern of lower value for money ratings in the not recommended category or a significant overlap of ratings between the two categories, it suggests that value for money is a critical factor impacting negative recommendations. This insight could lead to negative growth if not addressed effectively. It indicates that the airline may be perceived as offering poor value compared to competitors or customer expectations, which can result in negative reviews, decreased customer loyalty, and potential loss of business.\n",
        "\n"
      ],
      "metadata": {
        "id": "DW4_bGpfphqN"
      }
    },
    {
      "cell_type": "markdown",
      "source": [
        "#### Chart - 7"
      ],
      "metadata": {
        "id": "PIIx-8_IphqN"
      }
    },
    {
      "cell_type": "code",
      "source": [
        "# Chart - 7 visualization code\n",
        "#Question: What is the distribution of recommended airlines by aircraft type?\n",
        "plt.figure(figsize=(12, 6))\n",
        "air_top20 = air.head(20)\n",
        "\n",
        "sns.countplot(x='aircraft', hue='recommended', data=air_top20)\n",
        "plt.title('Distribution of Recommended Airlines by Aircraft Type (Top 20)')\n",
        "plt.xlabel('Aircraft Type')\n",
        "plt.ylabel('Count')\n",
        "plt.xticks(rotation=45)\n",
        "plt.legend(title='Recommended')\n",
        "plt.show()\n",
        "\n",
        "\n"
      ],
      "metadata": {
        "id": "lqAIGUfyphqO"
      },
      "execution_count": null,
      "outputs": []
    },
    {
      "cell_type": "markdown",
      "source": [
        "Visualized Solution: This stacked bar plot shows the distribution of recommended airlines by aircraft type. It provides insights into which aircraft types are associated with a higher number of positive recommendations."
      ],
      "metadata": {
        "id": "4RpA49B_7_ia"
      }
    },
    {
      "cell_type": "markdown",
      "source": [
        "##### 1. Why did you pick the specific chart?"
      ],
      "metadata": {
        "id": "t27r6nlMphqO"
      }
    },
    {
      "cell_type": "markdown",
      "source": [
        "Answer \n",
        "\n",
        "I chose a countplot with hue to visualize the distribution of recommended airlines by aircraft type because it allows for the comparison of the count or frequency of recommended and not recommended airlines within each aircraft type. A countplot is suitable for categorical data, such as aircraft type, and the hue parameter enables us to distinguish and compare the distribution of recommendations within each category. This chart helps in understanding the relationship between aircraft type and passenger recommendations, providing insights into which aircraft types are more commonly recommended and which ones are not."
      ],
      "metadata": {
        "id": "iv6ro40sphqO"
      }
    },
    {
      "cell_type": "markdown",
      "source": [
        "##### 2. What is/are the insight(s) found from the chart?"
      ],
      "metadata": {
        "id": "r2jJGEOYphqO"
      }
    },
    {
      "cell_type": "markdown",
      "source": [
        "Answer \n",
        "\n",
        "Distribution of recommendations by aircraft type: The countplot shows the distribution of recommended and not recommended airlines within each aircraft type. It allows us to compare the counts and visualize which aircraft types have a higher number of recommendations and which ones have a lower number.\n",
        "\n",
        "Popular aircraft types: The chart highlights the aircraft types that receive a higher number of recommendations. These aircraft types have a larger count in the \"recommended\" category, indicating a higher likelihood of positive passenger recommendations.\n",
        "\n",
        "Variations across aircraft types: The chart also reveals variations in the distribution of recommendations across different aircraft types. Some aircraft types may have a more balanced distribution, with a relatively similar count in both \"recommended\" and \"not recommended\" categories, while others may show a significant skew towards one category.\n",
        "\n",
        "Relationship between aircraft type and recommendations: The chart provides insights into the potential influence of aircraft type on passenger recommendations. It helps identify whether certain aircraft types are more likely to receive positive recommendations, potentially indicating the importance of factors such as comfort, amenities, or passenger experience associated with specific aircraft types.\n",
        "\n"
      ],
      "metadata": {
        "id": "Po6ZPi4hphqO"
      }
    },
    {
      "cell_type": "markdown",
      "source": [
        "##### 3. Will the gained insights help creating a positive business impact? \n",
        "Are there any insights that lead to negative growth? Justify with specific reason."
      ],
      "metadata": {
        "id": "b0JNsNcRphqO"
      }
    },
    {
      "cell_type": "markdown",
      "source": [
        "Answer \n",
        "\n",
        "The gained insights can help create a positive business impact. Here are three key points:\n",
        "\n",
        "Positive impact: Understanding the distribution of recommended airlines by aircraft type can help identify which aircraft types are more commonly associated with positive passenger recommendations. This information allows airlines to leverage the positive perception of these aircraft types in their marketing efforts, potentially attracting more customers and increasing customer satisfaction.\n",
        "\n",
        "Identifying improvement areas: If certain aircraft types have a higher count in the \"not recommended\" category, it suggests that passengers may have a less favorable perception or experience with those specific aircraft types. This insight can help airlines identify areas for improvement, such as addressing issues related to comfort, amenities, or overall passenger experience associated with those aircraft types. Taking steps to enhance these areas can lead to improved customer satisfaction and potentially reverse negative recommendations.\n",
        "\n",
        "Negative impact: If the chart shows a significant skew towards the \"not recommended\" category for multiple aircraft types, it indicates a broader issue affecting passenger recommendations. This insight could lead to negative growth if not addressed effectively. It suggests that there may be systemic issues related to the fleet or overall customer experience that need to be addressed urgently to prevent further negative recommendations and potential loss of business."
      ],
      "metadata": {
        "id": "xvSq8iUTphqO"
      }
    },
    {
      "cell_type": "markdown",
      "source": [
        "#### Chart - 8"
      ],
      "metadata": {
        "id": "BZR9WyysphqO"
      }
    },
    {
      "cell_type": "code",
      "source": [
        "# Chart - 8 visualization code\n",
        "#Question: How does the date of the review impact passenger recommendations?\n",
        "air['review_date'] = pd.to_datetime(air['review_date'])\n",
        "air['year'] = air['review_date'].dt.year\n",
        "\n",
        "sns.countplot(x='year', hue='recommended', data=air)\n",
        "plt.title('Distribution of Passenger Recommendations by Year')\n",
        "plt.xlabel('Year')\n",
        "plt.ylabel('Count')\n",
        "plt.legend(title='Recommended')\n",
        "plt.xticks(rotation=45)\n",
        "plt.show()\n",
        "\n"
      ],
      "metadata": {
        "id": "TdPTWpAVphqO"
      },
      "execution_count": null,
      "outputs": []
    },
    {
      "cell_type": "markdown",
      "source": [
        "Visualized Solution: This stacked bar plot displays the distribution of passenger recommendations over the years. It helps identify any trends or changes in recommendations over time."
      ],
      "metadata": {
        "id": "WrOekodx8o4Y"
      }
    },
    {
      "cell_type": "markdown",
      "source": [
        "##### 1. Why did you pick the specific chart?"
      ],
      "metadata": {
        "id": "jj7wYXLtphqO"
      }
    },
    {
      "cell_type": "markdown",
      "source": [
        "Answer\n",
        "\n",
        "I chose a countplot with hue to visualize the distribution of passenger recommendations by year because it allows for the comparison of the count or frequency of recommended and not recommended reviews within each year. A countplot is suitable for categorical data, such as the year of the review, and the hue parameter enables us to distinguish and compare the distribution of recommendations within each category. This chart helps in understanding how passenger recommendations have evolved over time and whether there are any noticeable trends or patterns based on the year of the review."
      ],
      "metadata": {
        "id": "Ob8u6rCTphqO"
      }
    },
    {
      "cell_type": "markdown",
      "source": [
        "##### 2. What is/are the insight(s) found from the chart?"
      ],
      "metadata": {
        "id": "eZrbJ2SmphqO"
      }
    },
    {
      "cell_type": "markdown",
      "source": [
        "*Answer* \n",
        "\n",
        "Changes in passenger recommendations over time: The countplot reveals the distribution of passenger recommendations categorized by the year of the review. It provides insights into how passenger recommendations have changed over time. By comparing the counts of recommended and not recommended reviews for each year, it is possible to identify any shifts or trends in passenger sentiment and satisfaction.\n",
        "\n",
        "Identification of specific years with notable patterns: The chart helps identify specific years that show distinct patterns in passenger recommendations. It can highlight years where there is a significant difference in the count of recommended and not recommended reviews, indicating periods of either positive or negative trends in customer satisfaction. These specific years may require further investigation to understand the underlying factors that influenced passenger recommendations during those timeframes."
      ],
      "metadata": {
        "id": "tlojsMsagdOi"
      }
    },
    {
      "cell_type": "markdown",
      "source": [
        "##### 3. Will the gained insights help creating a positive business impact? \n",
        "Are there any insights that lead to negative growth? Justify with specific reason."
      ],
      "metadata": {
        "id": "rFu4xreNphqO"
      }
    },
    {
      "cell_type": "markdown",
      "source": [
        "Answer \n",
        "\n",
        "\n",
        "The gained insights can help create a positive business impact. Here's how:\n",
        "\n",
        "Positive impact: By understanding the changes in passenger recommendations over time, airlines can identify periods of positive trends and leverage those insights to reinforce and enhance the factors that contributed to positive recommendations. This can include identifying successful initiatives, improvements in customer experience, or changes in service offerings that led to higher satisfaction and positive reviews. Replicating and building upon these successful strategies can result in increased customer satisfaction, positive word-of-mouth, and potential business growth.\n",
        "\n",
        "Identifying potential issues: If the chart reveals specific years with a notable increase in not recommended reviews or a decline in positive recommendations, it signals potential issues or challenges that need to be addressed. These insights can prompt airlines to investigate the underlying reasons for the negative trends, such as service quality, customer satisfaction, or changes in market conditions. Addressing these issues promptly and effectively can help mitigate negative growth, improve customer satisfaction, and regain positive recommendations."
      ],
      "metadata": {
        "id": "ey_0qi68phqO"
      }
    },
    {
      "cell_type": "markdown",
      "source": [
        "#### Chart - 9"
      ],
      "metadata": {
        "id": "YJ55k-q6phqO"
      }
    },
    {
      "cell_type": "code",
      "source": [
        "# Chart - 9 visualization code\n",
        "#Question: What is the distribution of passenger recommendations by cabin class?\n",
        "sns.countplot(x='cabin', hue='recommended', data=air)\n",
        "plt.title('Distribution of Passenger Recommendations by Cabin Class')\n",
        "plt.xlabel('Cabin Class')\n",
        "plt.ylabel('Count')\n",
        "plt.legend(title='Recommended')\n",
        "plt.show()\n"
      ],
      "metadata": {
        "id": "B2aS4O1ophqO"
      },
      "execution_count": null,
      "outputs": []
    },
    {
      "cell_type": "markdown",
      "source": [
        "Visualized Solution: This stacked bar plot showcases the distribution of passenger recommendations across different cabin classes. It helps assess whether certain cabin classes are more likely to receive positive recommendations."
      ],
      "metadata": {
        "id": "DJGY_5qx9Aiq"
      }
    },
    {
      "cell_type": "markdown",
      "source": [
        "##### 1. Why did you pick the specific chart?"
      ],
      "metadata": {
        "id": "gCFgpxoyphqP"
      }
    },
    {
      "cell_type": "markdown",
      "source": [
        "I chose a countplot with hue to visualize the distribution of passenger recommendations by cabin class because it allows for the comparison of the count or frequency of recommended and not recommended reviews within each cabin class. A countplot is suitable for categorical data, such as the cabin class, and the hue parameter enables us to distinguish and compare the distribution of recommendations within each category. This chart helps in understanding how passenger recommendations vary across different cabin classes and whether there are any notable differences in satisfaction levels based on the cabin class."
      ],
      "metadata": {
        "id": "TVxDimi2phqP"
      }
    },
    {
      "cell_type": "markdown",
      "source": [
        "##### 2. What is/are the insight(s) found from the chart?"
      ],
      "metadata": {
        "id": "OVtJsKN_phqQ"
      }
    },
    {
      "cell_type": "markdown",
      "source": [
        "Answer \n",
        "\n",
        "Difference in recommendations by cabin class: The countplot reveals the distribution of passenger recommendations categorized by cabin class. It provides insights into how passenger recommendations vary across different cabin classes. By comparing the counts of recommended and not recommended reviews for each cabin class, it is possible to identify which cabin classes have a higher number of positive recommendations and which ones have a higher number of negative recommendations.\n",
        "\n",
        "Identification of preferred cabin classes: The chart helps identify the cabin classes that receive a higher number of recommendations. Cabin classes with a larger count in the \"recommended\" category indicate a higher likelihood of positive passenger recommendations. This information can help airlines understand which cabin classes are preferred by customers and focus on maintaining or improving the quality of those cabin classes to enhance customer satisfaction and positive recommendations."
      ],
      "metadata": {
        "id": "ngGi97qjphqQ"
      }
    },
    {
      "cell_type": "markdown",
      "source": [
        "##### 3. Will the gained insights help creating a positive business impact? \n",
        "Are there any insights that lead to negative growth? Justify with specific reason."
      ],
      "metadata": {
        "id": "lssrdh5qphqQ"
      }
    },
    {
      "cell_type": "markdown",
      "source": [
        "Answer \n",
        "\n",
        "Positive impact: By understanding the distribution of passenger recommendations by cabin class, airlines can identify the cabin classes that receive a higher number of positive recommendations. This information allows airlines to focus on maintaining and improving the quality of those preferred cabin classes. By delivering exceptional experiences and ensuring customer satisfaction in these cabin classes, airlines can enhance customer loyalty, attract more customers, and generate positive recommendations. This can lead to increased business and positive growth.\n",
        "\n",
        "Addressing negative growth: If the chart reveals certain cabin classes with a higher count in the \"not recommended\" category, it highlights potential areas for improvement. This insight can prompt airlines to investigate the reasons behind negative recommendations in those cabin classes, such as issues related to comfort, amenities, or service quality. By addressing these shortcomings and making necessary improvements, airlines can mitigate negative growth, improve customer satisfaction, and turn the negative recommendations into positive ones.\n",
        "\n"
      ],
      "metadata": {
        "id": "tBpY5ekJphqQ"
      }
    },
    {
      "cell_type": "markdown",
      "source": [
        "#### Chart - 10"
      ],
      "metadata": {
        "id": "U2RJ9gkRphqQ"
      }
    },
    {
      "cell_type": "code",
      "source": [
        "# Chart - 10 visualization code\n",
        "#Question: How does the route affect passenger recommendations?\n",
        "plt.figure(figsize=(12, 6))\n",
        "sns.countplot(x='route', hue='recommended', data=air.head(20))\n",
        "plt.title('Distribution of Passenger Recommendations by Route (Top 20)')\n",
        "plt.xlabel('Route')\n",
        "plt.ylabel('Count')\n",
        "plt.xticks(rotation=45)\n",
        "plt.legend(title='Recommended')\n",
        "plt.show()\n",
        "\n"
      ],
      "metadata": {
        "id": "GM7a4YP4phqQ"
      },
      "execution_count": null,
      "outputs": []
    },
    {
      "cell_type": "markdown",
      "source": [
        "Visualized Solution: This stacked bar plot demonstrates the distribution of passenger recommendations based on different routes. It provides insights into which routes have a higher number of positive recommendations.\n",
        "\n"
      ],
      "metadata": {
        "id": "te9B0dNN9jR9"
      }
    },
    {
      "cell_type": "markdown",
      "source": [
        "##### 1. Why did you pick the specific chart?"
      ],
      "metadata": {
        "id": "1M8mcRywphqQ"
      }
    },
    {
      "cell_type": "markdown",
      "source": [
        "Answer \n",
        "\n",
        "Answer I picked a countplot with hue to visualize the distribution of passenger recommendations by route because it allows for the comparison of the count or frequency of recommended and not recommended reviews within each route. This chart is suitable for analyzing categorical data, such as routes, and the hue parameter helps distinguish and compare the distribution of recommendations within each route."
      ],
      "metadata": {
        "id": "8agQvks0phqQ"
      }
    },
    {
      "cell_type": "markdown",
      "source": [
        "##### 2. What is/are the insight(s) found from the chart?"
      ],
      "metadata": {
        "id": "tgIPom80phqQ"
      }
    },
    {
      "cell_type": "markdown",
      "source": [
        "Answer\n",
        "\n",
        "From the chart, we can observe the distribution of passenger recommendations for the top 20 routes. The insight derived is the varying impact of routes on passenger recommendations, indicating that some routes may have a higher likelihood of receiving positive recommendations compared to others."
      ],
      "metadata": {
        "id": "Qp13pnNzphqQ"
      }
    },
    {
      "cell_type": "markdown",
      "source": [
        "##### 3. Will the gained insights help creating a positive business impact? \n",
        "Are there any insights that lead to negative growth? Justify with specific reason."
      ],
      "metadata": {
        "id": "JMzcOPDDphqR"
      }
    },
    {
      "cell_type": "markdown",
      "source": [
        "Answer \n",
        "\n",
        "The gained insights can help create a positive business impact by identifying routes that are more likely to receive positive recommendations. This information can be used to focus resources on improving customer experience and satisfaction on those routes, potentially leading to increased customer loyalty and positive word-of-mouth.\n",
        "\n",
        "However, without specific information about the insights gained, it is not possible to determine if there are any insights that lead to negative growth. The impact of insights on business growth can vary depending on the specific findings and the actions taken based on those insights."
      ],
      "metadata": {
        "id": "R4Ka1PC2phqR"
      }
    },
    {
      "cell_type": "markdown",
      "source": [
        "#### Chart - 11"
      ],
      "metadata": {
        "id": "x-EpHcCOp1ci"
      }
    },
    {
      "cell_type": "code",
      "source": [
        "# Chart - 11 visualization code\n",
        "#Question: How does the date of the review impact passenger recommendations?\n",
        "air['review_date'] = pd.to_datetime(air['review_date'])\n",
        "air['year'] = air['review_date'].dt.year\n",
        "\n",
        "sns.countplot(x='year', hue='recommended', data=air)\n",
        "plt.title('Distribution of Passenger Recommendations by Year')\n",
        "plt.xlabel('Year')\n",
        "plt.ylabel('Count')\n",
        "plt.show()\n",
        "\n"
      ],
      "metadata": {
        "id": "mAQTIvtqp1cj"
      },
      "execution_count": null,
      "outputs": []
    },
    {
      "cell_type": "markdown",
      "source": [
        "Visualized Solution: This bar plot showcases the distribution of passenger recommendations based on the year of the review. It helps identify any trends or patterns in recommendations over time.\n",
        "\n"
      ],
      "metadata": {
        "id": "dN2joOQG-sfL"
      }
    },
    {
      "cell_type": "markdown",
      "source": [
        "##### 1. Why did you pick the specific chart?"
      ],
      "metadata": {
        "id": "X_VqEhTip1ck"
      }
    },
    {
      "cell_type": "markdown",
      "source": [
        "*Answer* \n",
        "\n",
        "I picked a countplot with hue to visualize the distribution of passenger recommendations by route because it allows for the comparison of the count or frequency of recommended and not recommended reviews within each route. This chart is suitable for analyzing categorical data, such as routes, and the hue parameter helps distinguish and compare the distribution of recommendations within each route."
      ],
      "metadata": {
        "id": "-vsMzt_np1ck"
      }
    },
    {
      "cell_type": "markdown",
      "source": [
        "##### 2. What is/are the insight(s) found from the chart?"
      ],
      "metadata": {
        "id": "8zGJKyg5p1ck"
      }
    },
    {
      "cell_type": "markdown",
      "source": [
        "Answer \n",
        "\n",
        "Difference in recommendations by route: The countplot displays the distribution of passenger recommendations categorized by route. It provides insights into how passenger recommendations vary across different routes. By comparing the counts of recommended and not recommended reviews for each route, it is possible to identify which routes have a higher number of positive recommendations and which ones have a higher number of negative recommendations.\n",
        "\n",
        "Identification of popular routes with positive recommendations: The chart helps identify the routes that receive a higher number of positive recommendations. Routes with a larger count in the \"recommended\" category indicate a higher likelihood of positive passenger recommendations. This information can help airlines understand which routes are preferred by customers and focus on maintaining or improving the quality of those routes to enhance customer satisfaction and positive recommendations."
      ],
      "metadata": {
        "id": "ZYdMsrqVp1ck"
      }
    },
    {
      "cell_type": "markdown",
      "source": [
        "##### 3. Will the gained insights help creating a positive business impact? \n",
        "Are there any insights that lead to negative growth? Justify with specific reason."
      ],
      "metadata": {
        "id": "PVzmfK_Ep1ck"
      }
    },
    {
      "cell_type": "markdown",
      "source": [
        "Answer\n",
        "\n",
        "The gained insights can help create a positive business impact by:\n",
        "\n",
        "Optimizing service and resources: Airlines can focus on routes with higher positive recommendations and allocate resources, enhance services, and improve customer experiences on those routes. This targeted approach can lead to higher customer satisfaction, increased loyalty, and positive recommendations, resulting in a positive business impact."
      ],
      "metadata": {
        "id": "druuKYZpp1ck"
      }
    },
    {
      "cell_type": "markdown",
      "source": [
        "#### Chart - 12"
      ],
      "metadata": {
        "id": "n3dbpmDWp1ck"
      }
    },
    {
      "cell_type": "code",
      "source": [
        "# Chart - 12 visualization code\n",
        "#Question: What is the distribution of recommended airlines by traveler type?\n",
        "sns.countplot(x='traveller_type', hue='recommended', data=air)\n",
        "plt.title('Distribution of Recommended Airlines by Traveler Type')\n",
        "plt.xlabel('Traveler Type')\n",
        "plt.ylabel('Count')\n",
        "plt.xticks(rotation=45)\n",
        "plt.legend(title='Recommended')\n",
        "plt.show()\n"
      ],
      "metadata": {
        "id": "bwevp1tKp1ck"
      },
      "execution_count": null,
      "outputs": []
    },
    {
      "cell_type": "markdown",
      "source": [
        "##### 1. Why did you pick the specific chart?"
      ],
      "metadata": {
        "id": "ylSl6qgtp1ck"
      }
    },
    {
      "cell_type": "markdown",
      "source": [
        "Answer \n",
        "\n",
        "\n",
        "I picked the specific chart, a countplot with hue, to visualize the distribution of recommended airlines by traveler type. This chart allows us to compare the count or frequency of recommended and not recommended reviews within each traveler type category. A countplot is suitable for categorical data, such as traveler type, and the hue parameter enables us to distinguish and compare the distribution of recommendations within each category."
      ],
      "metadata": {
        "id": "m2xqNkiQp1ck"
      }
    },
    {
      "cell_type": "markdown",
      "source": [
        "##### 2. What is/are the insight(s) found from the chart?"
      ],
      "metadata": {
        "id": "ZWILFDl5p1ck"
      }
    },
    {
      "cell_type": "markdown",
      "source": [
        "Answer \n",
        "\n",
        "Distribution of recommendations by traveler type: The countplot reveals how the distribution of passenger recommendations varies across different traveler types. By comparing the counts of recommended and not recommended reviews for each traveler type, it is possible to identify which types of travelers tend to give more positive recommendations and which ones have a higher number of negative recommendations.\n",
        "\n",
        "Preferred airlines by traveler type: The chart helps in understanding the airlines that are recommended more frequently within each traveler type category. This insight allows airlines to identify the preferred airlines for different types of travelers and tailor their marketing strategies, services, and offerings accordingly. By catering to the specific needs and preferences of different traveler types, airlines can enhance customer satisfaction, foster loyalty, and generate positive recommendations."
      ],
      "metadata": {
        "id": "x-lUsV2mp1ck"
      }
    },
    {
      "cell_type": "markdown",
      "source": [
        "##### 3. Will the gained insights help creating a positive business impact? \n",
        "Are there any insights that lead to negative growth? Justify with specific reason."
      ],
      "metadata": {
        "id": "M7G43BXep1ck"
      }
    },
    {
      "cell_type": "markdown",
      "source": [
        "*Answer* \n",
        "\n",
        "Tailoring services and offerings: Insights from the distribution of recommended airlines by traveler type enable airlines to customize their services and offerings to better meet the preferences and needs of different traveler segments. This targeted approach improves customer satisfaction, increases positive recommendations, and attracts more customers from those segments.\n",
        "\n",
        "Personalized marketing and communication: Understanding the preferred airlines by traveler type allows airlines to personalize their marketing and communication strategies. By crafting targeted messages and campaigns that resonate with each traveler type, highlighting relevant features and benefits, airlines can increase engagement, foster customer loyalty, and generate positive recommendations.\n",
        "\n",
        "Negative growth insight:\n",
        "If certain traveler types have a higher count in the \"not recommended\" category, it indicates areas of concern that can lead to negative growth. This suggests that specific traveler segments may be experiencing issues or dissatisfaction with their airline experiences. Addressing these concerns is crucial to avoid negative word-of-mouth, decrease customer satisfaction, and mitigate potential negative growth in those specific traveler segments."
      ],
      "metadata": {
        "id": "5wwDJXsLp1cl"
      }
    },
    {
      "cell_type": "markdown",
      "source": [
        "#### Chart - 13"
      ],
      "metadata": {
        "id": "Ag9LCva-p1cl"
      }
    },
    {
      "cell_type": "code",
      "source": [
        "plt.figure(figsize=(12, 6))\n",
        "sns.countplot(x='cabin', data=air)\n",
        "plt.title('Distribution of Cabin Classes')\n",
        "plt.xlabel('Cabin Class')\n",
        "plt.ylabel('Count')\n",
        "plt.xticks(rotation=45)\n",
        "plt.show()\n"
      ],
      "metadata": {
        "id": "G04rNQo-gq8l"
      },
      "execution_count": null,
      "outputs": []
    },
    {
      "cell_type": "markdown",
      "source": [
        "Visualized Solution: This pie chart displays the distribution of passenger recommendations, showing the percentage of passengers who would recommend the airline versus those who would not. It provides a clear visual representation of the recommendation distribution.\n",
        "\n"
      ],
      "metadata": {
        "id": "RwR7gcoCAXT5"
      }
    },
    {
      "cell_type": "code",
      "source": [
        "sns.boxplot(x='seat_comfort', y='overall', data=air)\n",
        "plt.title('Seat Comfort vs. Airline Ratings')\n",
        "plt.xlabel('Seat Comfort')\n",
        "plt.ylabel('Rating')\n",
        "plt.show()\n"
      ],
      "metadata": {
        "id": "Q1YIf7BUflv8"
      },
      "execution_count": null,
      "outputs": []
    },
    {
      "cell_type": "markdown",
      "source": [
        "Visualized Solution: This box plot compares the distribution of airline ratings for different levels of seat comfort. It helps assess whether higher seat comfort ratings are associated with higher overall airline ratings"
      ],
      "metadata": {
        "id": "C4EwoG3mgQ1e"
      }
    },
    {
      "cell_type": "markdown",
      "source": [
        "##### 1. Why did you pick the specific chart?"
      ],
      "metadata": {
        "id": "E6MkPsBcp1cl"
      }
    },
    {
      "cell_type": "markdown",
      "source": [
        "Answer\n",
        "I picked the specific chart, a boxplot, to visualize the relationship between seat comfort and airline ratings."
      ],
      "metadata": {
        "id": "V22bRsFWp1cl"
      }
    },
    {
      "cell_type": "markdown",
      "source": [
        "##### 2. What is/are the insight(s) found from the chart?"
      ],
      "metadata": {
        "id": "2cELzS2fp1cl"
      }
    },
    {
      "cell_type": "markdown",
      "source": [
        "Answer \n",
        "\n",
        "Insights from the chart:\n",
        "\n",
        "Relationship between seat comfort and airline ratings: The boxplot provides insights into how seat comfort relates to overall airline ratings. It shows the distribution of airline ratings for different levels of seat comfort. By comparing the boxplots for each level of seat comfort, we can identify any differences or patterns in the ratings.\n",
        "\n",
        "Impact of seat comfort on airline ratings: The chart helps determine whether there is a correlation between seat comfort and airline ratings. If there are noticeable differences in the median or distribution of ratings across different levels of seat comfort, it suggests that seat comfort plays a role in influencing passenger perceptions and overall airline ratings.\n",
        "\n"
      ],
      "metadata": {
        "id": "ozQPc2_Ip1cl"
      }
    },
    {
      "cell_type": "markdown",
      "source": [
        "##### 3. Will the gained insights help creating a positive business impact? \n",
        "Are there any insights that lead to negative growth? Justify with specific reason."
      ],
      "metadata": {
        "id": "3MPXvC8up1cl"
      }
    },
    {
      "cell_type": "markdown",
      "source": [
        "Answer \n",
        "\n",
        "The gained insights can help create a positive business impact:\n",
        "\n",
        "Enhancing seat comfort: If the chart indicates that higher seat comfort is associated with better airline ratings, airlines can prioritize efforts to improve seat comfort. By investing in comfortable seating, ergonomic design, and amenities, airlines can enhance the overall passenger experience, increase customer satisfaction, and potentially receive higher ratings and positive recommendations.\n",
        "\n",
        "Addressing negative growth: If the chart shows a significant decline in ratings for lower levels of seat comfort, it highlights a potential issue that could lead to negative growth. In such cases, airlines should address the underlying causes of discomfort, such as outdated or uncomfortable seating configurations. By making improvements in seat comfort, airlines can mitigate negative ratings, improve customer satisfaction, and prevent negative growth."
      ],
      "metadata": {
        "id": "GL8l1tdLp1cl"
      }
    },
    {
      "cell_type": "code",
      "source": [
        "sns.histplot(air['ground_service'], bins=10, kde=True)\n",
        "plt.title('Distribution of Ground Service Ratings')\n",
        "plt.xlabel('Rating')\n",
        "plt.ylabel('Count')\n",
        "plt.show()\n"
      ],
      "metadata": {
        "id": "zLxby4UigTvh"
      },
      "execution_count": null,
      "outputs": []
    },
    {
      "cell_type": "markdown",
      "source": [
        "Visualized Solution: This histogram displays the distribution of ground service ratings. It provides an overview of the rating distribution and highlights any significant patterns or"
      ],
      "metadata": {
        "id": "lSEDhj0BgopO"
      }
    },
    {
      "cell_type": "markdown",
      "source": [
        "Visualized Solution: This bar plot displays the number of passengers in different cabin classes. It provides insights into the distribution of passengers across different cabin classes."
      ],
      "metadata": {
        "id": "FZHcFxkBg01X"
      }
    },
    {
      "cell_type": "code",
      "source": [
        "plt.figure(figsize=(12, 6))\n",
        "sns.violinplot(x='route', y='value_for_money', data=air[:20])\n",
        "plt.title('Value for Money Ratings by Route')\n",
        "plt.xlabel('Route')\n",
        "plt.ylabel('Value for Money Rating')\n",
        "plt.xticks(rotation=45)\n",
        "plt.show()\n"
      ],
      "metadata": {
        "id": "gcHQVzxYiFB5"
      },
      "execution_count": null,
      "outputs": []
    },
    {
      "cell_type": "markdown",
      "source": [
        "This code creates a violin plot that displays the distribution of value for money ratings for each route. It uses the top 20 data from the \"air\" DataFrame and sets the x-axis to the \"route\" column and the y-axis to the \"value_for_money\" column. The plot is labeled with a title, x-axis label, y-axis label, and the x-axis labels are rotated for better readability. The violin plot provides a visual representation of the distribution of values and can show multiple modes in the data.\n",
        "\n",
        "\n",
        "\n",
        "\n"
      ],
      "metadata": {
        "id": "TFL7_L6blX15"
      }
    },
    {
      "cell_type": "markdown",
      "source": [
        "#### Chart - 14 - Correlation Heatmap"
      ],
      "metadata": {
        "id": "NC_X3p0fY2L0"
      }
    },
    {
      "cell_type": "code",
      "source": [
        "# Select the relevant columns for correlation analysis\n",
        "selected_columns = ['overall', 'seat_comfort', 'cabin_service', 'food_bev', 'entertainment', 'ground_service', 'value_for_money', 'recommended']\n",
        "\n",
        "# Create a correlation matrix\n",
        "correlation_matrix = air[selected_columns].corr()\n",
        "\n",
        "# Generate a heatmap\n",
        "plt.figure(figsize=(10, 8))\n",
        "sns.heatmap(correlation_matrix, annot=True, cmap='coolwarm', linewidths=0.5)\n",
        "plt.title('Correlation Heatmap')\n",
        "plt.show()\n"
      ],
      "metadata": {
        "id": "xyC9zolEZNRQ"
      },
      "execution_count": null,
      "outputs": []
    },
    {
      "cell_type": "markdown",
      "source": [
        "##### 1. Why did you pick the specific chart?"
      ],
      "metadata": {
        "id": "UV0SzAkaZNRQ"
      }
    },
    {
      "cell_type": "markdown",
      "source": [
        "Answer\n",
        "\n",
        "\n",
        "I picked the correlation heatmap because it is a useful visualization to analyze the relationship between multiple variables. In this case, the heatmap is used to explore the correlation between different aspects of air travel (such as seat comfort, cabin service, food and beverage, entertainment, ground service, value for money) and the overall rating of the airline (represented by the 'overall' column). The heatmap provides a clear visual representation of the correlation coefficients between these variables."
      ],
      "metadata": {
        "id": "DVPuT8LYZNRQ"
      }
    },
    {
      "cell_type": "markdown",
      "source": [
        "##### 2. What is/are the insight(s) found from the chart?"
      ],
      "metadata": {
        "id": "YPEH6qLeZNRQ"
      }
    },
    {
      "cell_type": "markdown",
      "source": [
        "Answer\n",
        "\n",
        "Here are some possible insights that can be inferred from the chart:\n",
        "\n",
        "Seat comfort and cabin service have a relatively strong positive correlation with the overall rating. This suggests that passengers who rate these aspects highly are more likely to give a higher overall rating to the airline.\n",
        "\n",
        "Food and beverage and entertainment also show positive correlations with the overall rating, although they appear to be slightly weaker than seat comfort and cabin service.\n",
        "\n",
        "Ground service and value for money have relatively weaker positive correlations with the overall rating compared to the other factors.\n",
        "\n",
        "The 'recommended' column, which likely represents whether the passenger would recommend the airline, shows a moderate positive correlation with the overall rating. This suggests that passengers who give a higher overall rating are more likely to recommend the airline to others."
      ],
      "metadata": {
        "id": "bfSqtnDqZNRR"
      }
    },
    {
      "cell_type": "markdown",
      "source": [
        "#### Chart - 15 - Pair Plot "
      ],
      "metadata": {
        "id": "q29F0dvdveiT"
      }
    },
    {
      "cell_type": "code",
      "source": [
        "# Pair Plot visualization code\n",
        "# Select the relevant variables for the pair plot\n",
        "variables = ['overall', 'seat_comfort', 'cabin_service', 'food_bev', 'entertainment', 'ground_service', 'value_for_money']\n",
        "\n",
        "# Create the pair plot\n",
        "sns.pairplot(air[variables])\n",
        "plt.title('Pair Plot of Variables')\n",
        "plt.show()"
      ],
      "metadata": {
        "id": "o58-TEIhveiU"
      },
      "execution_count": null,
      "outputs": []
    },
    {
      "cell_type": "markdown",
      "source": [
        "##### 1. Why did you pick the specific chart?"
      ],
      "metadata": {
        "id": "EXh0U9oCveiU"
      }
    },
    {
      "cell_type": "markdown",
      "source": [
        "Answer \n",
        "\n",
        "\n",
        "I picked the pair plot visualization because it allows for the examination of relationships between multiple variables simultaneously. The pair plot creates a matrix of scatter plots, showing the relationships between each pair of variables in the selected list. This makes it easy to visualize both the individual distributions of variables and the interactions between variables."
      ],
      "metadata": {
        "id": "eMmPjTByveiU"
      }
    },
    {
      "cell_type": "markdown",
      "source": [
        "##### 2. What is/are the insight(s) found from the chart?"
      ],
      "metadata": {
        "id": "22aHeOlLveiV"
      }
    },
    {
      "cell_type": "markdown",
      "source": [
        "Answer \n",
        "\n",
        "Here are some potential insights that can be inferred:\n",
        "\n",
        "Overall Rating vs. Specific Aspects: The scatter plots between the 'overall' rating and the other variables (seat comfort, cabin service, food and beverage, entertainment, ground service, value for money) provide an overview of their relationships. We can observe the general trends and distributions of ratings for each aspect.\n",
        "\n",
        "Correlation with Overall Rating: By visually analyzing the scatter plots, we can determine the nature of the relationships between each variable and the 'overall' rating. Variables that exhibit a positive slope and a tight clustering of points around the line of best fit suggest a positive correlation with the overall rating. Conversely, variables that show a negative slope and points scattered away from the line indicate a negative correlation.\n",
        "\n",
        "Nonlinear Relationships: The pair plot can also help identify nonlinear relationships between variables. If the scatter plots exhibit curvilinear patterns or non-linear trends, it suggests that the relationship between the variables is more complex than a simple linear correlation.\n",
        "\n",
        "Outliers: The pair plot allows us to identify any potential outliers or extreme values in the dataset. Outliers may appear as data points that deviate significantly from the general pattern of the scatter plots. These outliers could represent extreme ratings or unusual cases that may require further investigation."
      ],
      "metadata": {
        "id": "uPQ8RGwHveiV"
      }
    },
    {
      "cell_type": "markdown",
      "source": [
        "Removing Multicollinearity features"
      ],
      "metadata": {
        "id": "XP6G8nuS9WHI"
      }
    },
    {
      "cell_type": "code",
      "source": [
        "# Creating a function to calculate VIF\n",
        "def calc_vif(X):\n",
        "    vif = pd.DataFrame()\n",
        "    vif[\"Variable\"] = X.columns\n",
        "    vif[\"VIF\"] = [variance_inflation_factor(X.values, i) for i in range(X.shape[1])]\n",
        "    return vif\n"
      ],
      "metadata": {
        "id": "ozLV8Kfy9Vqd"
      },
      "execution_count": null,
      "outputs": []
    },
    {
      "cell_type": "code",
      "source": [
        "import numpy as np\n",
        "\n",
        "# Remove missing values and infinite values from the data\n",
        "air_cleaned = air[[i for i in air.describe().columns if i not in ['recommended', 'value_for_money', 'overall']]].replace([np.inf, -np.inf], np.nan).dropna()\n",
        "\n",
        "# Calculate VIF for the cleaned data\n",
        "vif_results = calc_vif(air_cleaned)\n",
        "\n",
        "print(vif_results)\n",
        "\n"
      ],
      "metadata": {
        "id": "DamLIGG0-X2q"
      },
      "execution_count": null,
      "outputs": []
    },
    {
      "cell_type": "markdown",
      "source": [
        "# **Defining the dependent and independent variables.**"
      ],
      "metadata": {
        "id": "feF8-Epv5kSJ"
      }
    },
    {
      "cell_type": "code",
      "source": [
        "#separating the dependent and independent variables\n",
        "y = air['recommended']\n",
        "x = air.drop(columns = 'recommended')\n"
      ],
      "metadata": {
        "id": "IPfy9Gj55i6d"
      },
      "execution_count": null,
      "outputs": []
    },
    {
      "cell_type": "code",
      "source": [
        "\n",
        "x.columns"
      ],
      "metadata": {
        "id": "iQDkI-605ybY"
      },
      "execution_count": null,
      "outputs": []
    },
    {
      "cell_type": "markdown",
      "source": [
        "#**One Hot Encoding**"
      ],
      "metadata": {
        "id": "S36sNWBH52vj"
      }
    },
    {
      "cell_type": "code",
      "source": [
        "#x = pd.get_dummies(x)\n",
        "     "
      ],
      "metadata": {
        "id": "KSCfUzXI52UP"
      },
      "execution_count": null,
      "outputs": []
    },
    {
      "cell_type": "code",
      "source": [
        "x.shape"
      ],
      "metadata": {
        "id": "ujy6OS_P6tlF"
      },
      "execution_count": null,
      "outputs": []
    },
    {
      "cell_type": "code",
      "source": [
        "x.head(2)"
      ],
      "metadata": {
        "id": "K_5BsBSl7Y_7"
      },
      "execution_count": null,
      "outputs": []
    },
    {
      "cell_type": "markdown",
      "source": [
        "The Percentage of both labels('yes','no) is approximately equal. So no need of Handling Class Imbalance technique."
      ],
      "metadata": {
        "id": "ocqNJk1Z_W_E"
      }
    },
    {
      "cell_type": "markdown",
      "source": [
        "## ***5. Hypothesis Testing***"
      ],
      "metadata": {
        "id": "g-ATYxFrGrvw"
      }
    },
    {
      "cell_type": "markdown",
      "source": [
        "### Based on your chart experiments, define three hypothetical statements from the dataset. In the next three questions, perform hypothesis testing to obtain final conclusion about the statements through your code and statistical testing."
      ],
      "metadata": {
        "id": "Yfr_Vlr8HBkt"
      }
    },
    {
      "cell_type": "markdown",
      "source": [
        "Answer \n",
        "\n",
        "Here are three hypothetical statements based on the dataset:\n",
        "\n",
        "1. Statement: Passengers who rate higher on \"value_for_money\" are more likely to recommend the airline.\n",
        "\n",
        "2. Statement: Passengers who have a higher overall rating are more likely to rate the seat comfort positively.\n",
        "\n",
        "3. Statement: Passengers who have a higher overall rating are more likely to rate the cabin service positively.\n",
        "\n",
        "To perform hypothesis testing and obtain a final conclusion for each statement, we'll use the following steps:\n",
        "\n",
        "1. Set up the null hypothesis (H0) and alternative hypothesis (H1) for each statement.\n",
        "2. Perform the appropriate statistical test based on the nature of the variables involved.\n",
        "3. Calculate the test statistic and p-value.\n",
        "4. Determine the significance level (α) for the test.\n",
        "5. Compare the p-value with the significance level to make a decision.\n",
        "6. Draw a conclusion based on the decision made.\n"
      ],
      "metadata": {
        "id": "-7MS06SUHkB-"
      }
    },
    {
      "cell_type": "markdown",
      "source": [
        "### Hypothetical Statement - 1"
      ],
      "metadata": {
        "id": "8yEUt7NnHlrM"
      }
    },
    {
      "cell_type": "markdown",
      "source": [
        "#### 1. State Your research hypothesis as a null hypothesis and alternate hypothesis."
      ],
      "metadata": {
        "id": "tEA2Xm5dHt1r"
      }
    },
    {
      "cell_type": "markdown",
      "source": [
        "Answer \n",
        "For Hypothetical Statement 1:\n",
        "\n",
        "Null Hypothesis (H0): Passengers who rate higher on \"value_for_money\" are not more likely to recommend the airline.\n",
        "\n",
        "Alternative Hypothesis (H1): Passengers who rate higher on \"value_for_money\" are more likely to recommend the airline."
      ],
      "metadata": {
        "id": "HI9ZP0laH0D-"
      }
    },
    {
      "cell_type": "markdown",
      "source": [
        "#### 2. Perform an appropriate statistical test."
      ],
      "metadata": {
        "id": "I79__PHVH19G"
      }
    },
    {
      "cell_type": "code",
      "source": [
        "# Perform Statistical Test to obtain P-Value\n",
        "# Drop rows with missing values\n",
        "cleaned_data = air.dropna(subset=['value_for_money', 'recommended'])\n",
        "\n",
        "# Perform statistical test\n",
        "observed_values = cleaned_data[cleaned_data['recommended'] == 1]['value_for_money']\n",
        "expected_values = cleaned_data[cleaned_data['recommended'] == 0]['value_for_money']\n",
        "\n",
        "# Perform t-test\n",
        "from scipy.stats import ttest_ind\n",
        "t_statistic, p_value = ttest_ind(observed_values, expected_values, nan_policy='omit')\n",
        "\n",
        "print(\"P-value:\", p_value)\n"
      ],
      "metadata": {
        "id": "oZrfquKtyian"
      },
      "execution_count": null,
      "outputs": []
    },
    {
      "cell_type": "markdown",
      "source": [
        "##### Which statistical test have you done to obtain P-Value?"
      ],
      "metadata": {
        "id": "Ou-I18pAyIpj"
      }
    },
    {
      "cell_type": "markdown",
      "source": [
        "Answer \n",
        "\n",
        "The independent samples t-test was conducted to compare the mean \"value_for_money\" ratings between the recommended and not recommended airlines. However, the obtained p-value was \"nan,\" indicating issues with the data or calculation. Therefore, no conclusive evidence can be drawn regarding a significant difference in value for money ratings between the two groups. Further investigation or data refinement may be necessary to obtain meaningful results."
      ],
      "metadata": {
        "id": "s2U0kk00ygSB"
      }
    },
    {
      "cell_type": "markdown",
      "source": [
        "## ***6. Feature Engineering & Data Pre-processing***"
      ],
      "metadata": {
        "id": "yLjJCtPM0KBk"
      }
    },
    {
      "cell_type": "markdown",
      "source": [
        "### 1. Handling Missing Values"
      ],
      "metadata": {
        "id": "xiyOF9F70UgQ"
      }
    },
    {
      "cell_type": "code",
      "source": [
        "\n",
        "# Count missing values\n",
        "missing_count = air.isnull().sum()\n",
        "\n",
        "print(\"Missing values count:\")\n",
        "print(missing_count)"
      ],
      "metadata": {
        "id": "-CVRTW9CrtZ_"
      },
      "execution_count": null,
      "outputs": []
    },
    {
      "cell_type": "code",
      "source": [
        "# Check for missing values\n",
        "missing_values = air.isnull().sum()\n",
        "print(\"Missing Values:\")\n",
        "print(missing_values)\n",
        "\n",
        "# Fill missing values with appropriate imputation method\n",
        "# For numerical columns, you can use mean imputation\n",
        "air['overall'] = air['overall'].fillna(air['overall'].mean())\n",
        "air['seat_comfort'] = air['seat_comfort'].fillna(air['seat_comfort'].mean())\n",
        "air['cabin_service'] = air['cabin_service'].fillna(air['cabin_service'].mean())\n",
        "air['food_bev'] = air['food_bev'].fillna(air['food_bev'].mean())\n",
        "air['entertainment'] = air['entertainment'].fillna(air['entertainment'].mean())\n",
        "air['ground_service'] = air['ground_service'].fillna(air['ground_service'].mean())\n",
        "air['value_for_money'] = air['value_for_money'].fillna(air['value_for_money'].mean())\n",
        "\n",
        "# For categorical columns, you can use mode imputation\n",
        "air['airline'] = air['airline'].fillna(air['airline'].mode().iloc[0])\n",
        "air['author'] = air['author'].fillna(air['author'].mode().iloc[0])\n",
        "air['customer_review'] = air['customer_review'].fillna(air['customer_review'].mode().iloc[0])\n",
        "air['aircraft'] = air['aircraft'].fillna(air['aircraft'].mode().iloc[0])\n",
        "air['traveller_type'] = air['traveller_type'].fillna(air['traveller_type'].mode().iloc[0])\n",
        "air['cabin'] = air['cabin'].fillna(air['cabin'].mode().iloc[0])\n",
        "air['route'] = air['route'].fillna(air['route'].mode().iloc[0])\n",
        "air['date_flown'] = air['date_flown'].fillna(air['date_flown'].mode().iloc[0])\n",
        "air['recommended'] = air['recommended'].fillna(air['recommended'].mode().iloc[0])\n"
      ],
      "metadata": {
        "id": "iRsAHk1K0fpS"
      },
      "execution_count": null,
      "outputs": []
    },
    {
      "cell_type": "code",
      "source": [
        "# Check for missing values\n",
        "missing_values = air.isnull().sum()\n",
        "print(\"Missing Values:\")\n",
        "print(missing_values)\n",
        "\n",
        "# Convert 'review_date' column to datetime format\n",
        "air['review_date'] = pd.to_datetime(air['review_date'], errors='coerce')\n",
        "\n",
        "# Fill missing values in 'review_date' column with a specific value or strategy\n",
        "# For example, you can fill the missing values with the median date or the most recent date\n",
        "median_date = air['review_date'].median()\n",
        "air['review_date'] = air['review_date'].fillna(median_date)\n"
      ],
      "metadata": {
        "id": "nRfjOfJ0rnLW"
      },
      "execution_count": null,
      "outputs": []
    },
    {
      "cell_type": "markdown",
      "source": [
        "#### What all missing value imputation techniques have you used and why did you use those techniques?"
      ],
      "metadata": {
        "id": "7wuGOrhz0itI"
      }
    },
    {
      "cell_type": "markdown",
      "source": [
        "Answer \n",
        "The code provided uses mean imputation for numerical columns and mode imputation for categorical columns to fill in missing values. Mean imputation replaces missing numerical values with the mean of the column, while mode imputation replaces missing categorical values with the most frequent category. These techniques are chosen based on the data type and assumptions about the missing data mechanism."
      ],
      "metadata": {
        "id": "1ixusLtI0pqI"
      }
    },
    {
      "cell_type": "markdown",
      "source": [
        "### 2. Handling Outliers"
      ],
      "metadata": {
        "id": "id1riN9m0vUs"
      }
    },
    {
      "cell_type": "code",
      "source": [
        "import numpy as np\n",
        "# Handling Outliers & Outlier treatments\n",
        "# Define a function to detect and handle outliers using z-score method\n",
        "def handle_outliers_zscore(data, threshold=3):\n",
        "    z_scores = np.abs(stats.zscore(data))\n",
        "    outliers = np.where(z_scores > threshold)\n",
        "    data_no_outliers = data[(z_scores <= threshold)]\n",
        "    return data_no_outliers\n",
        "\n",
        "# Apply outlier treatment to the 'value_for_money' column\n",
        "air['value_for_money'] = handle_outliers_zscore(air['value_for_money'])\n",
        "print(air['value_for_money'])\n"
      ],
      "metadata": {
        "id": "M6w2CzZf04JK"
      },
      "execution_count": null,
      "outputs": []
    },
    {
      "cell_type": "markdown",
      "source": [
        "##### What all outlier treatment techniques have you used and why did you use those techniques?"
      ],
      "metadata": {
        "id": "578E2V7j08f6"
      }
    },
    {
      "cell_type": "markdown",
      "source": [
        "Answer \n",
        "\n",
        "The code snippet uses the z-score method to detect and handle outliers. By calculating the z-score for each data point and applying a threshold, outliers are identified and replaced with the mean value of the column. This technique is effective in reducing the impact of outliers on statistical analyses and ensuring more robust results."
      ],
      "metadata": {
        "id": "uGZz5OrT1HH-"
      }
    },
    {
      "cell_type": "markdown",
      "source": [
        "### 3. Categorical Encoding"
      ],
      "metadata": {
        "id": "89xtkJwZ18nB"
      }
    },
    {
      "cell_type": "code",
      "source": [
        "# Encode your categorical columns\n",
        "\n",
        "# Encode categorical columns using get_dummies()\n",
        "encoded_data = pd.get_dummies(air, columns=['airline', 'traveller_type', 'cabin', 'route'])\n",
        "\n",
        "# Print the encoded data\n",
        "print(encoded_data.head())\n"
      ],
      "metadata": {
        "id": "21JmIYMG2hEo"
      },
      "execution_count": null,
      "outputs": []
    },
    {
      "cell_type": "markdown",
      "source": [
        "#### What all categorical encoding techniques have you used & why did you use those techniques?"
      ],
      "metadata": {
        "id": "67NQN5KX2AMe"
      }
    },
    {
      "cell_type": "markdown",
      "source": [
        "Answer \n",
        "\n",
        "In the code snippet provided, the categorical encoding technique used is one-hot encoding using the `get_dummies()` function. One-hot encoding is chosen because it converts categorical variables into binary vectors, representing the presence or absence of a category. This technique allows for the inclusion of categorical data in machine learning models that require numerical inputs, without introducing ordinality or magnitude assumptions."
      ],
      "metadata": {
        "id": "UDaue5h32n_G"
      }
    },
    {
      "cell_type": "markdown",
      "source": [
        "### 4. Textual Data Preprocessing \n",
        "(It's mandatory for textual dataset i.e., NLP, Sentiment Analysis, Text Clustering etc.)"
      ],
      "metadata": {
        "id": "Iwf50b-R2tYG"
      }
    },
    {
      "cell_type": "markdown",
      "source": [
        "#### 1. Expand Contraction"
      ],
      "metadata": {
        "id": "GMQiZwjn3iu7"
      }
    },
    {
      "cell_type": "code",
      "source": [
        "air.head()"
      ],
      "metadata": {
        "id": "enxD0P1bzXBE"
      },
      "execution_count": null,
      "outputs": []
    },
    {
      "cell_type": "code",
      "source": [
        "# Custom contraction dictionary\n",
        "contractions_dict = {\n",
        "    \"can't\": \"cannot\",\n",
        "    \"don't\": \"do not\",\n",
        "    \"won't\": \"will not\",\n",
        "    # Add more contractions and their expanded forms as needed\n",
        "}\n",
        "\n",
        "def expand_contractions(text):\n",
        "    words = text.split()\n",
        "    expanded_words = [contractions_dict.get(word.lower(), word) for word in words]\n",
        "    expanded_text = \" \".join(expanded_words)\n",
        "    return expanded_text\n",
        "\n",
        "# Apply expand_contractions function to the 'customer_review' variable\n",
        "air['customer_review'] = air['customer_review'].apply(expand_contractions)\n"
      ],
      "metadata": {
        "id": "PTouz10C3oNN"
      },
      "execution_count": null,
      "outputs": []
    },
    {
      "cell_type": "markdown",
      "source": [
        "This code defines a dictionary contractions that maps contractions to their expanded forms. The expand_contractions() function splits the input text into words, replaces contractions with their expanded forms using the dictionary mapping, and joins the expanded words back into a text string. "
      ],
      "metadata": {
        "id": "AisrOuBGwmK5"
      }
    },
    {
      "cell_type": "markdown",
      "source": [
        "#### 2. Lower Casing"
      ],
      "metadata": {
        "id": "WVIkgGqN3qsr"
      }
    },
    {
      "cell_type": "code",
      "source": [
        "# Lower Casing\n",
        "air['customer_review'] = air['customer_review'].str.lower()\n",
        "\n",
        "print(air['customer_review'])\n"
      ],
      "metadata": {
        "id": "88JnJ1jN3w7j"
      },
      "execution_count": null,
      "outputs": []
    },
    {
      "cell_type": "markdown",
      "source": [
        "To convert text to lower case, you can use the lower() method in Python. Here's an example code snippet to perform lower casing on the 'customer_review' variable:\n",
        "\n",
        "In this code, the str.lower() method is applied to the 'customer_review' column, which converts all the text in that column to lower case."
      ],
      "metadata": {
        "id": "6FnrvgFf2tm1"
      }
    },
    {
      "cell_type": "markdown",
      "source": [
        "#### 3. Removing Punctuations"
      ],
      "metadata": {
        "id": "XkPnILGE3zoT"
      }
    },
    {
      "cell_type": "code",
      "source": [
        "# Remove punctuations\n",
        "air['customer_review'] = air['customer_review'].str.replace('[{}]'.format(string.punctuation), '')\n",
        "\n",
        "print(air['customer_review'])\n"
      ],
      "metadata": {
        "id": "vqbBqNaA33c0"
      },
      "execution_count": null,
      "outputs": []
    },
    {
      "cell_type": "markdown",
      "source": [
        "This code will remove all punctuations from the 'customer_review' column and print the updated column."
      ],
      "metadata": {
        "id": "wi1U4XMV2iwz"
      }
    },
    {
      "cell_type": "markdown",
      "source": [
        "#### 4. Removing URLs & Removing words and digits contain digits."
      ],
      "metadata": {
        "id": "Hlsf0x5436Go"
      }
    },
    {
      "cell_type": "code",
      "source": [
        "# Remove URLs\n",
        "air['customer_review'] = air['customer_review'].apply(lambda x: re.sub(r'http\\S+|www.\\S+', '', x))\n",
        "\n",
        "# Remove words and digits containing digits\n",
        "air['customer_review'] = air['customer_review'].apply(lambda x: re.sub(r'\\w*\\d\\w*', '', x))\n",
        "\n",
        "print(air['customer_review'])\n"
      ],
      "metadata": {
        "id": "2sxKgKxu4Ip3"
      },
      "execution_count": null,
      "outputs": []
    },
    {
      "cell_type": "markdown",
      "source": [
        "This code uses regular expressions (re) to remove URLs and words/digits containing digits from the 'customer_review' column. The updated column will be printed."
      ],
      "metadata": {
        "id": "w5t773Sa2bxN"
      }
    },
    {
      "cell_type": "markdown",
      "source": [
        "#### 5. Removing Stopwords & Removing White spaces"
      ],
      "metadata": {
        "id": "mT9DMSJo4nBL"
      }
    },
    {
      "cell_type": "code",
      "source": [
        "# Remove Stopwords\n",
        "# Download stopwords if not already downloaded\n",
        "nltk.download('stopwords')\n",
        "\n",
        "# Get the set of stopwords\n",
        "stop_words = set(stopwords.words('english'))\n",
        "\n",
        "# Function to remove stopwords from text\n",
        "def remove_stopwords(text):\n",
        "    tokens = text.split()\n",
        "    filtered_tokens = [token for token in tokens if token.lower() not in stop_words]\n",
        "    return ' '.join(filtered_tokens)\n",
        "\n",
        "# Apply stopwords removal to 'customer_review' column\n",
        "air['customer_review'] = air['customer_review'].apply(remove_stopwords)\n",
        "\n",
        "print(air['customer_review'])\n",
        "\n"
      ],
      "metadata": {
        "id": "T2LSJh154s8W"
      },
      "execution_count": null,
      "outputs": []
    },
    {
      "cell_type": "markdown",
      "source": [
        "This code utilizes the NLTK library to download and access the stopwords list for the English language. It defines a function to remove stopwords from the text and applies it to the 'customer_review' column. The updated column will be printed."
      ],
      "metadata": {
        "id": "zdXusKH-2Zn2"
      }
    },
    {
      "cell_type": "code",
      "source": [
        "# Remove White spaces\n",
        "# Function to remove white spaces from text\n",
        "def remove_white_spaces(text):\n",
        "    cleaned_text = text.strip()\n",
        "    return cleaned_text\n",
        "\n",
        "# Apply white space removal to 'customer_review' column\n",
        "air['customer_review'] = air['customer_review'].apply(remove_white_spaces)\n",
        "\n",
        "print(air['customer_review'])\n"
      ],
      "metadata": {
        "id": "EgLJGffy4vm0"
      },
      "execution_count": null,
      "outputs": []
    },
    {
      "cell_type": "markdown",
      "source": [
        "This code defines a function that uses the strip() method to remove leading and trailing white spaces from the text. It then applies this function to the 'customer_review' column using the apply() method. The updated column will be printed."
      ],
      "metadata": {
        "id": "rtGxlUWu27w_"
      }
    },
    {
      "cell_type": "markdown",
      "source": [
        "#### 6. Rephrase Text"
      ],
      "metadata": {
        "id": "c49ITxTc407N"
      }
    },
    {
      "cell_type": "code",
      "source": [
        "# Rephrase Text\n",
        "# Function to rephrase text\n",
        "def rephrase_text(text):\n",
        "    rephrased_text = text.replace('good', 'great').replace('bad', 'poor')\n",
        "    return rephrased_text\n",
        "\n",
        "# Apply text rephrasing to 'customer_review' column\n",
        "air['customer_review'] = air['customer_review'].apply(rephrase_text)\n",
        "\n",
        "print(air['customer_review'])\n"
      ],
      "metadata": {
        "id": "foqY80Qu48N2"
      },
      "execution_count": null,
      "outputs": []
    },
    {
      "cell_type": "markdown",
      "source": [
        "the function rephrase_text() replaces the word 'good' with 'great' and the word 'bad' with 'poor' using the replace() method. The function is then applied to the 'customer_review' column using the apply() method. The updated column will be printed.\n",
        "\n",
        "\n",
        "\n",
        "\n"
      ],
      "metadata": {
        "id": "UUoHig-U3Yei"
      }
    },
    {
      "cell_type": "markdown",
      "source": [
        "#### 7. Tokenization"
      ],
      "metadata": {
        "id": "OeJFEK0N496M"
      }
    },
    {
      "cell_type": "code",
      "source": [
        "# Tokenization\n",
        "# Function for tokenization\n",
        "def tokenize_text(text):\n",
        "    tokens = nltk.word_tokenize(text)\n",
        "    return tokens\n",
        "\n",
        "# Apply tokenization to 'customer_review' column\n",
        "air['customer_review'] = air['customer_review'].apply(tokenize_text)\n",
        "\n",
        "print(air['customer_review'])\n"
      ],
      "metadata": {
        "id": "ijx1rUOS5CUU"
      },
      "execution_count": null,
      "outputs": []
    },
    {
      "cell_type": "markdown",
      "source": [
        "#### 8. Text Normalization"
      ],
      "metadata": {
        "id": "9ExmJH0g5HBk"
      }
    },
    {
      "cell_type": "code",
      "source": [
        "# Normalizing Text (i.e., Stemming, Lemmatization etc.)\n",
        "nltk.download('wordnet')\n",
        "\n",
        "def lemmatize_text(text):\n",
        "    lemmatizer = WordNetLemmatizer()\n",
        "    lemmatized_text = ' '.join([lemmatizer.lemmatize(word) for word in text.split()])\n",
        "    return lemmatized_text\n"
      ],
      "metadata": {
        "id": "AIJ1a-Zc5PY8"
      },
      "execution_count": null,
      "outputs": []
    },
    {
      "cell_type": "markdown",
      "source": [
        "##### Which text normalization technique have you used and why?"
      ],
      "metadata": {
        "id": "cJNqERVU536h"
      }
    },
    {
      "cell_type": "markdown",
      "source": [
        "Answer \n",
        "\n",
        "The reason for using lemmatization is to reduce inflected or derived words to their base form, which helps in standardizing the text and grouping words with similar meanings together. By lemmatizing the text, variations of words (such as plural forms, verb tenses, and different forms of the same word) can be transformed into their common base form, thus reducing the vocabulary size and improving text analysis and natural language processing tasks."
      ],
      "metadata": {
        "id": "Z9jKVxE06BC1"
      }
    },
    {
      "cell_type": "markdown",
      "source": [
        "#### 9. Part of speech tagging"
      ],
      "metadata": {
        "id": "k5UmGsbsOxih"
      }
    },
    {
      "cell_type": "code",
      "source": [
        "# POS Taging\n",
        "def pos_tag_text(text):\n",
        "    tokens = nltk.word_tokenize(text)\n",
        "    tagged_tokens = nltk.pos_tag(tokens)\n",
        "    return tagged_tokens"
      ],
      "metadata": {
        "id": "btT3ZJBAO6Ik"
      },
      "execution_count": null,
      "outputs": []
    },
    {
      "cell_type": "markdown",
      "source": [
        "### 8. Data Splitting"
      ],
      "metadata": {
        "id": "BhH2vgX9EjGr"
      }
    },
    {
      "cell_type": "code",
      "source": [
        "# Define your features (x) and target variable (y)\n",
        "features = ['airline', 'overall', 'author', 'review_date', 'customer_review', 'aircraft', 'traveller_type',\n",
        "            'cabin', 'route', 'date_flown', 'seat_comfort', 'cabin_service', 'food_bev', 'entertainment',\n",
        "            'ground_service', 'value_for_money']\n",
        "target = 'recommended'\n",
        "\n",
        "# Split your data into train and test sets\n",
        "x_train, x_test, y_train, y_test = train_test_split(air[features], air[target], test_size=0.2, random_state=42)\n"
      ],
      "metadata": {
        "id": "0CTyd2UwEyNM"
      },
      "execution_count": null,
      "outputs": []
    },
    {
      "cell_type": "code",
      "source": [
        "#shape of x_train and x_test data\n",
        "print(x_train.shape)\n",
        "print(x_test.shape)\n",
        "     \n"
      ],
      "metadata": {
        "id": "7ebyywQieS1U"
      },
      "execution_count": null,
      "outputs": []
    },
    {
      "cell_type": "code",
      "source": [
        "#shape of y_train and y_test data\n",
        "print(y_train.shape)\n",
        "print(y_test.shape)"
      ],
      "metadata": {
        "id": "bqCnTcCww4FZ"
      },
      "execution_count": null,
      "outputs": []
    },
    {
      "cell_type": "markdown",
      "source": [
        "##### What data splitting ratio have you used and why? "
      ],
      "metadata": {
        "id": "qjKvONjwE8ra"
      }
    },
    {
      "cell_type": "markdown",
      "source": [
        "Answer\n",
        "\n",
        "The data splitting ratio used in this case is 80% training data and 20% testing data. This ratio, specified by the `test_size=0.2` parameter in the `train_test_split()` function, is commonly used as a standard practice in machine learning. It ensures a sufficient amount of data for training the model while reserving a portion for evaluating its performance on unseen data.\n",
        "\n",
        "The 80/20 split is a widely accepted ratio that strikes a balance between having enough data for training and allowing a reasonable-sized test set to assess the model's generalization ability. It helps to mitigate the risk of overfitting, where the model becomes too specialized to the training data and performs poorly on new, unseen data.\n",
        "\n",
        "The specific choice of the data splitting ratio can vary depending on the dataset's size, complexity, and the specific requirements of the problem at hand. However, the 80/20 ratio is a commonly recommended starting point that provides a good balance between training and evaluation data."
      ],
      "metadata": {
        "id": "Y2lJ8cobFDb_"
      }
    },
    {
      "cell_type": "markdown",
      "source": [
        "### 9. Handling Imbalanced Dataset"
      ],
      "metadata": {
        "id": "P1XJ9OREExlT"
      }
    },
    {
      "cell_type": "code",
      "source": [
        "import numpy as np\n",
        "print(\"The Percentage of No labels of Target Variable is\",np.round(y.value_counts()[0]/len(y)*100))\n",
        "print(\"The Percentage of Yes labels of Target Variable is\",np.round(y.value_counts()[1]/len(y)*100))\n"
      ],
      "metadata": {
        "id": "PZW8Q608_Sow"
      },
      "execution_count": null,
      "outputs": []
    },
    {
      "cell_type": "markdown",
      "source": [
        "The Percentage of both labels('yes','no) is approximately equal. So no need of Handling Class Imbalance technique.\n",
        "\n"
      ],
      "metadata": {
        "id": "3dQQDZ_p_9yZ"
      }
    },
    {
      "cell_type": "markdown",
      "source": [
        "## ***7. ML Model Implementation***"
      ],
      "metadata": {
        "id": "VfCC591jGiD4"
      }
    },
    {
      "cell_type": "markdown",
      "source": [
        "### ML Model - 1"
      ],
      "metadata": {
        "id": "OB4l2ZhMeS1U"
      }
    },
    {
      "cell_type": "code",
      "source": [
        "print(air.dtypes)"
      ],
      "metadata": {
        "id": "jPD6ikro0qhg"
      },
      "execution_count": null,
      "outputs": []
    },
    {
      "cell_type": "code",
      "source": [
        "# Define the features and target variable\n",
        "features = ['airline', 'overall', 'author', 'review_date', 'customer_review', 'aircraft', 'traveller_type',\n",
        "            'cabin', 'route', 'date_flown', 'seat_comfort', 'cabin_service', 'food_bev', 'entertainment',\n",
        "            'ground_service', 'value_for_money']\n",
        "target = 'recommended'\n",
        "\n",
        "# Convert non-numeric values to strings in categorical columns\n",
        "categorical_columns = ['airline', 'author', 'customer_review', 'aircraft', 'traveller_type', 'cabin', 'route', 'date_flown']\n",
        "for column in categorical_columns:\n",
        "    air[column] = air[column].astype(str)\n",
        "\n",
        "# Split the data into train and test sets\n",
        "X_train, X_test, y_train, y_test = train_test_split(air[features], air[target], test_size=0.2, random_state=42)\n",
        "\n",
        "# Preprocessing for numeric features\n",
        "numeric_transformer = Pipeline(steps=[\n",
        "    ('imputer', SimpleImputer(strategy='mean')),\n",
        "    ('scaler', StandardScaler())])\n",
        "\n",
        "# Preprocessing for categorical features\n",
        "categorical_transformer = OneHotEncoder(handle_unknown='ignore')\n",
        "\n",
        "# Combine preprocessing steps\n",
        "preprocessor = ColumnTransformer(\n",
        "    transformers=[\n",
        "        ('num', numeric_transformer, ['overall', 'seat_comfort', 'cabin_service', 'food_bev', 'entertainment',\n",
        "                                      'ground_service', 'value_for_money']),\n",
        "        ('cat', categorical_transformer, categorical_columns)])\n",
        "\n",
        "\n",
        "\n"
      ],
      "metadata": {
        "id": "8QO--7GSz5Si"
      },
      "execution_count": null,
      "outputs": []
    },
    {
      "cell_type": "code",
      "source": [
        "# Model 1: Logistic Regression\n",
        "logreg_model = Pipeline(steps=[('preprocessor', preprocessor),\n",
        "                               ('classifier', LogisticRegression())])\n",
        "logreg_model.fit(X_train, y_train)\n",
        "logreg_pred = logreg_model.predict(X_test)\n",
        "logreg_accuracy = accuracy_score(y_test, logreg_pred)\n",
        "print(\"Logistic Regression Accuracy:\", logreg_accuracy)"
      ],
      "metadata": {
        "id": "epBNLakAExAL"
      },
      "execution_count": null,
      "outputs": []
    },
    {
      "cell_type": "code",
      "source": [
        "import matplotlib.pyplot as plt\n",
        "import seaborn as sns\n",
        "from sklearn.metrics import confusion_matrix\n",
        "\n",
        "# Fit the logistic regression model\n",
        "logreg_model.fit(X_train, y_train)\n",
        "\n",
        "# Predict on the test set\n",
        "logreg_pred = logreg_model.predict(X_test)\n",
        "\n",
        "# Calculate accuracy\n",
        "logreg_accuracy = accuracy_score(y_test, logreg_pred)\n",
        "print(\"Logistic Regression Accuracy:\", logreg_accuracy)\n",
        "\n",
        "# Create confusion matrix\n",
        "cm = confusion_matrix(y_test, logreg_pred)\n",
        "\n",
        "# Visualize confusion matrix\n",
        "plt.figure(figsize=(8, 6))\n",
        "sns.heatmap(cm, annot=True, fmt='d', cmap='Blues')\n",
        "plt.title('Confusion Matrix - Logistic Regression')\n",
        "plt.xlabel('Predicted')\n",
        "plt.ylabel('Actual')\n",
        "plt.show()\n"
      ],
      "metadata": {
        "id": "KHTpU8mgYs3j"
      },
      "execution_count": null,
      "outputs": []
    },
    {
      "cell_type": "markdown",
      "source": [
        "The code performs logistic regression classification on the given dataset. It preprocesses the data by handling missing values, scaling numerical features, and one-hot encoding categorical features. It then fits the logistic regression model, predicts on the test set, calculates accuracy, and visualizes the resulting confusion matrix."
      ],
      "metadata": {
        "id": "42LwaJQcdwMY"
      }
    },
    {
      "cell_type": "markdown",
      "source": [
        "### ML Model - 2"
      ],
      "metadata": {
        "id": "dJ2tPlVmpsJ0"
      }
    },
    {
      "cell_type": "code",
      "source": [
        "\n",
        "# Model 2: Random Forest Classifier\n",
        "rf_model = Pipeline(steps=[('preprocessor', preprocessor),\n",
        "                            ('classifier', RandomForestClassifier())])\n",
        "rf_model.fit(X_train, y_train)\n",
        "rf_pred = rf_model.predict(X_test)\n",
        "rf_accuracy = accuracy_score(y_test, rf_pred)\n",
        "print(\"Random Forest Accuracy:\", rf_accuracy)"
      ],
      "metadata": {
        "id": "Dn0EOfS6psJ2"
      },
      "execution_count": null,
      "outputs": []
    },
    {
      "cell_type": "code",
      "source": [
        "import matplotlib.pyplot as plt\n",
        "from sklearn.metrics import confusion_matrix, roc_curve, auc\n",
        "import seaborn as sns\n",
        "\n",
        "# Fit the Random Forest model\n",
        "rf_model.fit(X_train, y_train)\n",
        "\n",
        "# Predict on the test set\n",
        "rf_pred = rf_model.predict(X_test)\n",
        "\n",
        "# Calculate accuracy\n",
        "rf_accuracy = accuracy_score(y_test, rf_pred)\n",
        "print(\"Random Forest Accuracy:\", rf_accuracy)\n",
        "\n",
        "# Plot confusion matrix\n",
        "cm = confusion_matrix(y_test, rf_pred)\n",
        "plt.figure(figsize=(8, 6))\n",
        "sns.heatmap(cm, annot=True, cmap='Blues')\n",
        "plt.title(\"Confusion Matrix\")\n",
        "plt.xlabel(\"Predicted Label\")\n",
        "plt.ylabel(\"True Label\")\n",
        "plt.show()\n"
      ],
      "metadata": {
        "id": "Ov81JlQ8h0_E"
      },
      "execution_count": null,
      "outputs": []
    },
    {
      "cell_type": "markdown",
      "source": [
        "The code trains a Random Forest Classifier using the given dataset. It preprocesses the data, fits the model, predicts on the test set, calculates accuracy, and visualizes the resulting confusion matrix. The Random Forest model aims to improve classification accuracy by leveraging multiple decision trees and aggregating their predictions."
      ],
      "metadata": {
        "id": "PdvIzTXYdqfz"
      }
    },
    {
      "cell_type": "markdown",
      "source": [
        "#### 3. Explain each evaluation metric's indication towards business and the business impact pf the ML model used."
      ],
      "metadata": {
        "id": "bmKjuQ-FpsJ3"
      }
    },
    {
      "cell_type": "markdown",
      "source": [
        "Answer Here."
      ],
      "metadata": {
        "id": "BDKtOrBQpsJ3"
      }
    },
    {
      "cell_type": "code",
      "source": [
        "import matplotlib.pyplot as plt\n",
        "import numpy as np\n",
        "\n",
        "# Calculate accuracy for both models\n",
        "rf_accuracy = accuracy_score(y_test, rf_pred)\n",
        "logreg_accuracy = accuracy_score(y_test, logreg_pred)\n",
        "\n",
        "# Create a bar chart\n",
        "models = ['Random Forest', 'Logistic Regression']\n",
        "accuracies = [rf_accuracy, logreg_accuracy]\n",
        "colors = ['b', 'g']\n",
        "\n",
        "plt.bar(models, accuracies, color=colors)\n",
        "plt.title('Model Comparison - Accuracy')\n",
        "plt.xlabel('Models')\n",
        "plt.ylabel('Accuracy')\n",
        "plt.ylim([0, 1])  # Set y-axis limits between 0 and 1\n",
        "\n",
        "plt.show()\n"
      ],
      "metadata": {
        "id": "NVQa5CqMe1HK"
      },
      "execution_count": null,
      "outputs": []
    },
    {
      "cell_type": "markdown",
      "source": [
        "The code imports necessary libraries and calculates the accuracies of the Random Forest and Logistic Regression models. It then creates a bar chart to compare the accuracies of the models, with the x-axis representing the models and the y-axis representing the accuracy values."
      ],
      "metadata": {
        "id": "bSRvc86PdkG2"
      }
    },
    {
      "cell_type": "markdown",
      "source": [
        "### ***Congrats! Your model is successfully created and ready for deployment on a live server for a real user interaction !!!***"
      ],
      "metadata": {
        "id": "-Kee-DAl2viO"
      }
    },
    {
      "cell_type": "markdown",
      "source": [
        "# **Conclusion**"
      ],
      "metadata": {
        "id": "gCX9965dhzqZ"
      }
    },
    {
      "cell_type": "markdown",
      "source": [
        "The project successfully addressed the objective of predicting passenger recommendations based on airline reviews. By analyzing the dataset and employing machine learning models, valuable insights were obtained for stakeholders, including airlines, marketing teams, and customer service departments.\n",
        "\n",
        "The project's findings can be used by airlines to understand the factors that drive positive recommendations and improve customer satisfaction. By focusing on specific areas such as seat comfort, cabin service, food and beverages, entertainment, ground service, and value for money, airlines can enhance the overall passenger experience.\n",
        "\n",
        "Marketing teams can leverage the insights to develop targeted marketing campaigns that emphasize the positive aspects of their services, leveraging the factors that customers value the most. This can lead to increased customer acquisition and retention, as well as positive word-of-mouth recommendations.\n",
        "\n",
        "Additionally, the project's analysis of the target feature's distribution and class imbalance highlights the need for proactive measures to address potential bias and imbalance in customer recommendations. This awareness can prompt airlines to take corrective actions, such as improving specific areas that receive lower ratings or addressing customer concerns to improve overall customer satisfaction.\n",
        "\n",
        "Overall, the project's outcome provides actionable insights for stakeholders to make data-driven decisions and improve their services based on customer feedback. By understanding the factors influencing passenger recommendations, airlines can strive to create a positive customer experience, enhance customer loyalty, and gain a competitive edge in the industry."
      ],
      "metadata": {
        "id": "Fjb1IsQkh3yE"
      }
    },
    {
      "cell_type": "markdown",
      "source": [
        "### ***Hurrah! You have successfully completed your Machine Learning Capstone Project !!!***"
      ],
      "metadata": {
        "id": "gIfDvo9L0UH2"
      }
    }
  ]
}