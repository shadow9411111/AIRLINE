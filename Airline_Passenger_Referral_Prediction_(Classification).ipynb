{
  "nbformat": 4,
  "nbformat_minor": 0,
  "metadata": {
    "colab": {
      "private_outputs": true,
      "provenance": [],
      "collapsed_sections": [
        "w6K7xa23Elo4",
        "mDgbUHAGgjLW",
        "K5QZ13OEpz2H",
        "lQ7QKXXCp7Bj",
        "448CDAPjqfQr",
        "t6dVpIINYklI",
        "ijmpgYnKYklI",
        "-JiQyfWJYklI",
        "fge-S5ZAYoAp",
        "85gYPyotYoAp",
        "RoGjAbkUYoAp",
        "iky9q4vBYrdO",
        "F6T5p64dYrdO",
        "y-Ehk30pYrdP",
        "QHF8YVU7Yuh3",
        "GwzvFGzlYuh3",
        "qYpmQ266Yuh3",
        "bbFf2-_FphqN",
        "_ouA3fa0phqN",
        "Seke61FWphqN",
        "t27r6nlMphqO",
        "r2jJGEOYphqO",
        "b0JNsNcRphqO",
        "jj7wYXLtphqO",
        "eZrbJ2SmphqO",
        "rFu4xreNphqO",
        "gCFgpxoyphqP",
        "OVtJsKN_phqQ",
        "lssrdh5qphqQ",
        "1M8mcRywphqQ",
        "tgIPom80phqQ",
        "X_VqEhTip1ck",
        "8zGJKyg5p1ck",
        "PVzmfK_Ep1ck",
        "ylSl6qgtp1ck",
        "ZWILFDl5p1ck",
        "M7G43BXep1ck",
        "UV0SzAkaZNRQ",
        "YPEH6qLeZNRQ",
        "EXh0U9oCveiU",
        "pEMng2IbBLp7",
        "kexQrXU-DjzY",
        "PiV4Ypx8fxKe",
        "-Kee-DAl2viO",
        "gCX9965dhzqZ",
        "gIfDvo9L0UH2"
      ]
    },
    "kernelspec": {
      "name": "python3",
      "display_name": "Python 3"
    },
    "language_info": {
      "name": "python"
    }
  },
  "cells": [
    {
      "cell_type": "markdown",
      "source": [
        "# **Project Name**    -  Airline Passenger Referral Prediction (Classification)\n",
        "\n"
      ],
      "metadata": {
        "id": "vncDsAP0Gaoa"
      }
    },
    {
      "cell_type": "markdown",
      "source": [
        "##### **Project Type**    - Classification\n",
        "##### **Contribution**    - Individual\n",
        "##### **Team Member 1 -** - Nikita Saxena\n"
      ],
      "metadata": {
        "id": "beRrZCGUAJYm"
      }
    },
    {
      "cell_type": "markdown",
      "source": [
        "# **Project Summary -**"
      ],
      "metadata": {
        "id": "FJNUwmbgGyua"
      }
    },
    {
      "cell_type": "markdown",
      "source": [
        "1. The project involves analyzing airline reviews spanning from 2006 to 2019 to predict whether passengers would recommend the airline to their friends. The dataset contains multiple choice and free text questions, providing valuable insights into customer opinions and preferences.\n",
        "\n",
        "2. Key project steps include efficient exploratory data analysis to understand the data and prepare it for training, addressing class imbalance in the target feature to ensure accurate predictions, and selecting an appropriate machine learning algorithm to model passenger recommendations.\n",
        "\n",
        "3. The project evaluates the model's performance while considering class imbalance, identifies important features that influence customer satisfaction and recommendations, and provides useful insights for stakeholders in the airline industry to enhance customer experience and make informed decisions."
      ],
      "metadata": {
        "id": "F6v_1wHtG2nS"
      }
    },
    {
      "cell_type": "markdown",
      "source": [
        "# **GitHub Link -**"
      ],
      "metadata": {
        "id": "w6K7xa23Elo4"
      }
    },
    {
      "cell_type": "markdown",
      "source": [
        "Provide your GitHub Link here."
      ],
      "metadata": {
        "id": "h1o69JH3Eqqn"
      }
    },
    {
      "cell_type": "markdown",
      "source": [
        "# **Problem Statement**\n"
      ],
      "metadata": {
        "id": "yQaldy8SH6Dl"
      }
    },
    {
      "cell_type": "markdown",
      "source": [
        "**The problem at hand is to analyze airline reviews collected between 2006 and 2019 and predict whether passengers will recommend the airline to their friends. The dataset includes various types of questions, allowing us to gain insights into customer opinions and preferences. The objective is to develop an effective model that can accurately predict passenger recommendations based on the provided data. By solving this problem, we aim to assist stakeholders in the airline industry in understanding customer satisfaction and improving their services to enhance overall customer experience.**"
      ],
      "metadata": {
        "id": "DpeJGUA3kjGy"
      }
    },
    {
      "cell_type": "markdown",
      "source": [
        "# **General Guidelines** : -  "
      ],
      "metadata": {
        "id": "mDgbUHAGgjLW"
      }
    },
    {
      "cell_type": "markdown",
      "source": [
        "1.   Well-structured, formatted, and commented code is required. \n",
        "2.   Exception Handling, Production Grade Code & Deployment Ready Code will be a plus. Those students will be awarded some additional credits. \n",
        "     \n",
        "     The additional credits will have advantages over other students during Star Student selection.\n",
        "       \n",
        "             [ Note: - Deployment Ready Code is defined as, the whole .ipynb notebook should be executable in one go\n",
        "                       without a single error logged. ]\n",
        "\n",
        "3.   Each and every logic should have proper comments.\n",
        "4. You may add as many number of charts you want. Make Sure for each and every chart the following format should be answered.\n",
        "        \n",
        "\n",
        "```\n",
        "# Chart visualization code\n",
        "```\n",
        "            \n",
        "\n",
        "*   Why did you pick the specific chart?\n",
        "*   What is/are the insight(s) found from the chart?\n",
        "* Will the gained insights help creating a positive business impact? \n",
        "Are there any insights that lead to negative growth? Justify with specific reason.\n",
        "\n",
        "5. You have to create at least 15 logical & meaningful charts having important insights.\n",
        "\n",
        "\n",
        "[ Hints : - Do the Vizualization in  a structured way while following \"UBM\" Rule. \n",
        "\n",
        "U - Univariate Analysis,\n",
        "\n",
        "B - Bivariate Analysis (Numerical - Categorical, Numerical - Numerical, Categorical - Categorical)\n",
        "\n",
        "M - Multivariate Analysis\n",
        " ]\n",
        "\n",
        "\n",
        "\n",
        "\n",
        "\n",
        "6. You may add more ml algorithms for model creation. Make sure for each and every algorithm, the following format should be answered.\n",
        "\n",
        "\n",
        "*   Explain the ML Model used and it's performance using Evaluation metric Score Chart.\n",
        "\n",
        "\n",
        "*   Cross- Validation & Hyperparameter Tuning\n",
        "\n",
        "*   Have you seen any improvement? Note down the improvement with updates Evaluation metric Score Chart.\n",
        "\n",
        "*   Explain each evaluation metric's indication towards business and the business impact pf the ML model used.\n",
        "\n",
        "\n",
        "\n",
        "\n",
        "\n",
        "\n",
        "\n",
        "\n",
        "\n",
        "\n",
        "\n",
        "\n",
        "\n",
        "\n",
        "\n",
        "\n",
        "\n",
        "\n"
      ],
      "metadata": {
        "id": "ZrxVaUj-hHfC"
      }
    },
    {
      "cell_type": "markdown",
      "source": [
        "# ***Let's Begin !***"
      ],
      "metadata": {
        "id": "O_i_v8NEhb9l"
      }
    },
    {
      "cell_type": "markdown",
      "source": [
        "## ***1. Know Your Data***"
      ],
      "metadata": {
        "id": "HhfV-JJviCcP"
      }
    },
    {
      "cell_type": "markdown",
      "source": [
        "### Import Libraries"
      ],
      "metadata": {
        "id": "Y3lxredqlCYt"
      }
    },
    {
      "cell_type": "code",
      "source": [
        "# Import Libraries\n",
        "import pandas as pd\n",
        "import seaborn as sns\n",
        "import matplotlib.pyplot as plt\n",
        "!pip install geopandas\n",
        "import geopandas as gpd\n",
        "from scipy import stats\n",
        "from statsmodels.stats.outliers_influence import variance_inflation_factor\n",
        "from sklearn.metrics import confusion_matrix, classification_report\n",
        "from sklearn.model_selection import train_test_split\n",
        "from sklearn.pipeline import Pipeline\n",
        "from sklearn.compose import ColumnTransformer\n",
        "from sklearn.preprocessing import StandardScaler, OneHotEncoder\n",
        "from sklearn.linear_model import LogisticRegression\n",
        "from sklearn.ensemble import RandomForestClassifier\n",
        "from sklearn.impute import SimpleImputer\n",
        "from sklearn.metrics import accuracy_score\n",
        "from nltk.stem import WordNetLemmatizer\n",
        "import nltk\n",
        "nltk.download('punkt')\n",
        "from nltk.corpus import stopwords\n",
        "import re\n",
        "import string"
      ],
      "metadata": {
        "id": "M8Vqi-pPk-HR"
      },
      "execution_count": null,
      "outputs": []
    },
    {
      "cell_type": "markdown",
      "source": [
        "### Dataset Loading"
      ],
      "metadata": {
        "id": "3RnN4peoiCZX"
      }
    },
    {
      "cell_type": "code",
      "source": [
        "# Load Dataset\n",
        "air= pd.read_excel('/content/data_airline_reviews.xlsx')"
      ],
      "metadata": {
        "id": "4CkvbW_SlZ_R"
      },
      "execution_count": null,
      "outputs": []
    },
    {
      "cell_type": "markdown",
      "source": [
        "### Dataset First View"
      ],
      "metadata": {
        "id": "x71ZqKXriCWQ"
      }
    },
    {
      "cell_type": "code",
      "source": [
        "# Dataset First Look\n",
        "print(air)"
      ],
      "metadata": {
        "id": "SBzkbveNkrbj"
      },
      "execution_count": null,
      "outputs": []
    },
    {
      "cell_type": "code",
      "source": [
        "#display top 5 data from the dataset\n",
        "air.head()"
      ],
      "metadata": {
        "id": "9svkdQlFkvOm"
      },
      "execution_count": null,
      "outputs": []
    },
    {
      "cell_type": "code",
      "source": [
        "#display last 5 data of the dataset\n",
        "air.tail()"
      ],
      "metadata": {
        "id": "f0QD5wODk7UV"
      },
      "execution_count": null,
      "outputs": []
    },
    {
      "cell_type": "markdown",
      "source": [
        "### Dataset Rows & Columns count"
      ],
      "metadata": {
        "id": "7hBIi_osiCS2"
      }
    },
    {
      "cell_type": "code",
      "source": [
        "# Dataset Rows & Columns count\n",
        "\n",
        "num_rows = air.shape[0]\n",
        "print(\"NUMBER OF ROWS :- \", num_rows)\n",
        "num_columns = air.shape[1]\n",
        "print(\"NUMBER OF COLUMN :- \", num_columns)"
      ],
      "metadata": {
        "id": "Kllu7SJgmLij"
      },
      "execution_count": null,
      "outputs": []
    },
    {
      "cell_type": "markdown",
      "source": [
        "### Dataset Information"
      ],
      "metadata": {
        "id": "JlHwYmJAmNHm"
      }
    },
    {
      "cell_type": "code",
      "source": [
        "# Dataset Info\n",
        "air.info()"
      ],
      "metadata": {
        "id": "e9hRXRi6meOf"
      },
      "execution_count": null,
      "outputs": []
    },
    {
      "cell_type": "markdown",
      "source": [
        "#### Duplicate Values"
      ],
      "metadata": {
        "id": "35m5QtbWiB9F"
      }
    },
    {
      "cell_type": "code",
      "source": [
        "# Dataset Duplicate Value Count\n",
        "duplicate_count = air.duplicated().sum()\n",
        "\n",
        "print(\"Number of duplicate values:\", duplicate_count)"
      ],
      "metadata": {
        "id": "1sLdpKYkmox0"
      },
      "execution_count": null,
      "outputs": []
    },
    {
      "cell_type": "markdown",
      "source": [
        "#### Missing Values/Null Values"
      ],
      "metadata": {
        "id": "PoPl-ycgm1ru"
      }
    },
    {
      "cell_type": "code",
      "source": [
        "# Missing Values/Null Values Count\n",
        "\n",
        "# Count missing values\n",
        "missing_count = air.isnull().sum()\n",
        "\n",
        "print(\"Missing values count:\")\n",
        "print(missing_count)"
      ],
      "metadata": {
        "id": "GgHWkxvamxVg"
      },
      "execution_count": null,
      "outputs": []
    },
    {
      "cell_type": "code",
      "source": [
        "# Visualizing the missing values# \n",
        "\n",
        "# Create a bar graph of missing values\n",
        "plt.figure(figsize=(10, 6))\n",
        "missing_count.plot(kind='bar', color='skyblue')\n",
        "plt.title('Missing Values by Column')\n",
        "plt.xlabel('Columns')\n",
        "plt.ylabel('Count')\n",
        "plt.show()"
      ],
      "metadata": {
        "id": "3q5wnI3om9sJ"
      },
      "execution_count": null,
      "outputs": []
    },
    {
      "cell_type": "markdown",
      "source": [
        "### What did you know about your dataset?"
      ],
      "metadata": {
        "id": "H0kj-8xxnORC"
      }
    },
    {
      "cell_type": "markdown",
      "source": [
        "Answer \n",
        "\n",
        "The dataset contains 131,895 rows and 17 columns. There are 70,711 duplicate values in the dataset. The column names are 'airline', 'overall', 'author', 'review_date', 'customer_review', 'aircraft', 'traveller_type', 'cabin', 'route', 'date_flown', 'seat_comfort', 'cabin_service', 'food_bev', 'entertainment', 'ground_service', 'value_for_money', and 'recommended'. There are missing values in several columns, with the highest counts in 'aircraft', 'traveller_type', 'ground_service', and 'entertainment'. The dataset provides information about airline reviews, including ratings, review details, and various aspects of the airline experience."
      ],
      "metadata": {
        "id": "gfoNAAC-nUe_"
      }
    },
    {
      "cell_type": "markdown",
      "source": [
        "## ***2. Understanding Your Variables***"
      ],
      "metadata": {
        "id": "nA9Y7ga8ng1Z"
      }
    },
    {
      "cell_type": "code",
      "source": [
        "# Get the column names\n",
        "column_names = air.columns\n",
        "\n",
        "# Print the column names\n",
        "for column in column_names:\n",
        "    print(column)"
      ],
      "metadata": {
        "id": "j7xfkqrt5Ag5"
      },
      "execution_count": null,
      "outputs": []
    },
    {
      "cell_type": "code",
      "source": [
        "# Dataset Describe\n",
        "air.describe()\n"
      ],
      "metadata": {
        "id": "DnOaZdaE5Q5t"
      },
      "execution_count": null,
      "outputs": []
    },
    {
      "cell_type": "markdown",
      "source": [
        "### Variables Description "
      ],
      "metadata": {
        "id": "PBTbrJXOngz2"
      }
    },
    {
      "cell_type": "markdown",
      "source": [
        "*Answer* \n",
        "Here's a description of the variables in the 'air' dataset:\n",
        "\n",
        "1. airline: The name or code of the airline.\n",
        "2. overall: The overall rating given by the customer for their airline experience.\n",
        "3. author: The author or reviewer of the airline review.\n",
        "4. review_date: The date when the review was written.\n",
        "5. customer_review: The text of the customer's review.\n",
        "6. aircraft: The aircraft used for the flight.\n",
        "7. traveller_type: The type of traveler (e.g., business, leisure, family).\n",
        "8. cabin: The type of cabin or class (e.g., economy, business, first class).\n",
        "9. route: The route or destination of the flight.\n",
        "10. date_flown: The date when the flight was taken.\n",
        "11. seat_comfort: The rating for seat comfort.\n",
        "12. cabin_service: The rating for cabin service.\n",
        "13. food_bev: The rating for food and beverages.\n",
        "14. entertainment: The rating for in-flight entertainment.\n",
        "15. ground_service: The rating for ground services (e.g., check-in, boarding).\n",
        "16. value_for_money: The rating for value for money.\n",
        "17. recommended: Whether the customer would recommend the airline to others (1 = Yes, 0 = No).\n"
      ],
      "metadata": {
        "id": "aJV4KIxSnxay"
      }
    },
    {
      "cell_type": "markdown",
      "source": [
        "### Check Unique Values for each variable."
      ],
      "metadata": {
        "id": "u3PMJOP6ngxN"
      }
    },
    {
      "cell_type": "code",
      "source": [
        "# Check Unique Values for each variable.\n",
        "# Check unique values for each variable\n",
        "for column in air.columns:\n",
        "    unique_values = air[column].unique()\n",
        "    print(f\"Unique values for {column}:\")\n",
        "    print(unique_values)\n",
        "    print()"
      ],
      "metadata": {
        "id": "zms12Yq5n-jE"
      },
      "execution_count": null,
      "outputs": []
    },
    {
      "cell_type": "code",
      "source": [
        "\n",
        "#check the unique value\n",
        "air.nunique()\n",
        "     "
      ],
      "metadata": {
        "id": "0UmIgvrzzCqN"
      },
      "execution_count": null,
      "outputs": []
    },
    {
      "cell_type": "markdown",
      "source": [
        "## 3. ***Data Wrangling***"
      ],
      "metadata": {
        "id": "dauF4eBmngu3"
      }
    },
    {
      "cell_type": "markdown",
      "source": [
        "### Data Wrangling Code"
      ],
      "metadata": {
        "id": "bKJF3rekwFvQ"
      }
    },
    {
      "cell_type": "code",
      "source": [
        "# Write your code to make your dataset analysis ready.\n",
        "air['aircraft'].fillna('Unknown', inplace=True)\n",
        "air['traveller_type'].fillna('Not Specified', inplace=True)\n",
        "\n",
        "# Convert date columns to datetime format\n",
        "air['date_flown'] = pd.to_datetime(air['date_flown'])\n",
        "\n",
        "# Encoding categorical variables\n",
        "df_encoded = pd.get_dummies(air, columns=['airline', 'cabin', 'route'])\n",
        "\n",
        "# Print the updated dataset\n",
        "print(df_encoded.head())"
      ],
      "metadata": {
        "id": "wk-9a2fpoLcV"
      },
      "execution_count": null,
      "outputs": []
    },
    {
      "cell_type": "markdown",
      "source": [
        "### What all manipulations have you done and insights you found?"
      ],
      "metadata": {
        "id": "MSa1f5Uengrz"
      }
    },
    {
      "cell_type": "markdown",
      "source": [
        "Answer \n",
        "\n",
        "Let's break it down:\n",
        "\n",
        "1. Handling Missing Values:\n",
        "   - `air['aircraft'].fillna('Unknown', inplace=True)`: This line fills the missing values in the 'aircraft' column with the string value 'Unknown'. This ensures that there are no missing values in the 'aircraft' column.\n",
        "   - `air['traveller_type'].fillna('Not Specified', inplace=True)`: This line fills the missing values in the 'traveller_type' column with the string value 'Not Specified'. It ensures that all missing values in the 'traveller_type' column are replaced.\n",
        "\n",
        "2. Convert Date Columns to Datetime Format:\n",
        "   - `air['date_flown'] = pd.to_datetime(air['date_flown'])`: This line converts the 'date_flown' column to datetime format using the `pd.to_datetime()` function from pandas. This transformation allows for easier manipulation and analysis of date-related information.\n",
        "\n",
        "3. Encoding Categorical Variables:\n",
        "   - `df_encoded = pd.get_dummies(air, columns=['airline', 'cabin', 'route'])`: This line encodes the categorical variables 'airline', 'cabin', and 'route' using one-hot encoding. The `pd.get_dummies()` function creates binary indicator variables for each category within these columns. This transformation enables the inclusion of categorical variables in further analysis or modeling.\n",
        "\n",
        "4. Print the Updated Dataset:\n",
        "   - `print(df_encoded.head())`: This line prints the head of the updated dataset (`df_encoded`), showing the transformed dataset with filled missing values and encoded categorical variables.\n",
        "\n",
        "Overall, these data manipulations ensure that missing values are handled, date columns are in the appropriate format, and categorical variables are encoded for analysis. The printed output provides a glimpse of the updated dataset, ready for further analysis."
      ],
      "metadata": {
        "id": "LbyXE7I1olp8"
      }
    },
    {
      "cell_type": "markdown",
      "source": [
        "## ***4. Data Vizualization, Storytelling & Experimenting with charts : Understand the relationships between variables***"
      ],
      "metadata": {
        "id": "GF8Ens_Soomf"
      }
    },
    {
      "cell_type": "markdown",
      "source": [
        "#### Chart - 1"
      ],
      "metadata": {
        "id": "0wOQAZs5pc--"
      }
    },
    {
      "cell_type": "code",
      "source": [
        "# Chart - 1 visualization code\n",
        "#Question: What is the distribution of passenger recommendations?\n",
        "sns.countplot(x='recommended', data=air)\n",
        "plt.title('Distribution of Passenger Recommendations')\n",
        "plt.xlabel('Recommended')\n",
        "plt.ylabel('Count')\n",
        "plt.show()\n"
      ],
      "metadata": {
        "id": "7v_ESjsspbW7"
      },
      "execution_count": null,
      "outputs": []
    },
    {
      "cell_type": "markdown",
      "source": [
        "Visualized Solution: This bar plot shows the number of passengers who would recommend the airline (1) versus those who would not (0). It helps understand the balance of recommendations and identify any class imbalance issues."
      ],
      "metadata": {
        "id": "KgH8qOu36yvC"
      }
    },
    {
      "cell_type": "markdown",
      "source": [
        "##### 1. Why did you pick the specific chart?"
      ],
      "metadata": {
        "id": "K5QZ13OEpz2H"
      }
    },
    {
      "cell_type": "markdown",
      "source": [
        "Answer Here."
      ],
      "metadata": {
        "id": "XESiWehPqBRc"
      }
    },
    {
      "cell_type": "markdown",
      "source": [
        "##### 2. What is/are the insight(s) found from the chart?"
      ],
      "metadata": {
        "id": "lQ7QKXXCp7Bj"
      }
    },
    {
      "cell_type": "markdown",
      "source": [
        "Answer Here"
      ],
      "metadata": {
        "id": "C_j1G7yiqdRP"
      }
    },
    {
      "cell_type": "markdown",
      "source": [
        "##### 3. Will the gained insights help creating a positive business impact? \n",
        "Are there any insights that lead to negative growth? Justify with specific reason."
      ],
      "metadata": {
        "id": "448CDAPjqfQr"
      }
    },
    {
      "cell_type": "markdown",
      "source": [
        "Answer Here"
      ],
      "metadata": {
        "id": "3cspy4FjqxJW"
      }
    },
    {
      "cell_type": "markdown",
      "source": [
        "#### Chart - 2"
      ],
      "metadata": {
        "id": "KSlN3yHqYklG"
      }
    },
    {
      "cell_type": "code",
      "source": [
        "# Chart - 2 visualization code\n",
        "#Question: How does seat comfort impact passenger recommendations?\n",
        "sns.boxplot(x='recommended', y='seat_comfort', data=air)\n",
        "plt.title('Seat Comfort vs. Passenger Recommendations')\n",
        "plt.xlabel('Recommended')\n",
        "plt.ylabel('Seat Comfort')\n",
        "plt.show()\n"
      ],
      "metadata": {
        "id": "R4YgtaqtYklH"
      },
      "execution_count": null,
      "outputs": []
    },
    {
      "cell_type": "markdown",
      "source": [
        "Visualized Solution: This box plot compares the distribution of seat comfort scores for passengers who would recommend the airline (1) versus those who would not (0). It helps assess whether higher seat comfort ratings are associated with more positive recommendations."
      ],
      "metadata": {
        "id": "4iqFMng27EqU"
      }
    },
    {
      "cell_type": "markdown",
      "source": [
        "##### 1. Why did you pick the specific chart?"
      ],
      "metadata": {
        "id": "t6dVpIINYklI"
      }
    },
    {
      "cell_type": "markdown",
      "source": [
        "Answer Here."
      ],
      "metadata": {
        "id": "5aaW0BYyYklI"
      }
    },
    {
      "cell_type": "markdown",
      "source": [
        "##### 2. What is/are the insight(s) found from the chart?"
      ],
      "metadata": {
        "id": "ijmpgYnKYklI"
      }
    },
    {
      "cell_type": "markdown",
      "source": [
        "Answer Here"
      ],
      "metadata": {
        "id": "PSx9atu2YklI"
      }
    },
    {
      "cell_type": "markdown",
      "source": [
        "##### 3. Will the gained insights help creating a positive business impact? \n",
        "Are there any insights that lead to negative growth? Justify with specific reason."
      ],
      "metadata": {
        "id": "-JiQyfWJYklI"
      }
    },
    {
      "cell_type": "markdown",
      "source": [
        "Answer Here"
      ],
      "metadata": {
        "id": "BcBbebzrYklV"
      }
    },
    {
      "cell_type": "markdown",
      "source": [
        "#### Chart - 3"
      ],
      "metadata": {
        "id": "EM7whBJCYoAo"
      }
    },
    {
      "cell_type": "code",
      "source": [
        "# Chart - 3 visualization code\n",
        "#Question: What is the distribution of traveller types among passengers?\n",
        "sns.countplot(x='traveller_type', data=air)\n",
        "plt.title('Distribution of Traveller Types')\n",
        "plt.xlabel('Traveller Type')\n",
        "plt.ylabel('Count')\n",
        "plt.xticks(rotation=45)\n",
        "plt.show()\n"
      ],
      "metadata": {
        "id": "t6GMdE67YoAp"
      },
      "execution_count": null,
      "outputs": []
    },
    {
      "cell_type": "markdown",
      "source": [
        "Visualized Solution: This bar plot displays the number of passengers in different traveller types. It provides insights into the composition of passengers and helps identify the dominant traveller types."
      ],
      "metadata": {
        "id": "hBt-aVBw7SQG"
      }
    },
    {
      "cell_type": "markdown",
      "source": [
        "##### 1. Why did you pick the specific chart?"
      ],
      "metadata": {
        "id": "fge-S5ZAYoAp"
      }
    },
    {
      "cell_type": "markdown",
      "source": [
        "Answer Here."
      ],
      "metadata": {
        "id": "5dBItgRVYoAp"
      }
    },
    {
      "cell_type": "markdown",
      "source": [
        "##### 2. What is/are the insight(s) found from the chart?"
      ],
      "metadata": {
        "id": "85gYPyotYoAp"
      }
    },
    {
      "cell_type": "markdown",
      "source": [
        "Answer Here"
      ],
      "metadata": {
        "id": "4jstXR6OYoAp"
      }
    },
    {
      "cell_type": "markdown",
      "source": [
        "##### 3. Will the gained insights help creating a positive business impact? \n",
        "Are there any insights that lead to negative growth? Justify with specific reason."
      ],
      "metadata": {
        "id": "RoGjAbkUYoAp"
      }
    },
    {
      "cell_type": "markdown",
      "source": [
        "Answer Here"
      ],
      "metadata": {
        "id": "zfJ8IqMcYoAp"
      }
    },
    {
      "cell_type": "markdown",
      "source": [
        "#### Chart - 4"
      ],
      "metadata": {
        "id": "4Of9eVA-YrdM"
      }
    },
    {
      "cell_type": "code",
      "source": [
        "# Chart - 4 visualization code\n",
        "#Question: How does cabin service influence passenger recommendations?\n",
        "sns.boxplot(x='recommended', y='cabin_service', data=air)\n",
        "plt.title('Cabin Service vs. Passenger Recommendations')\n",
        "plt.xlabel('Recommended')\n",
        "plt.ylabel('Cabin Service')\n",
        "plt.show()\n"
      ],
      "metadata": {
        "id": "irlUoxc8YrdO"
      },
      "execution_count": null,
      "outputs": []
    },
    {
      "cell_type": "markdown",
      "source": [
        "Visualized Solution: This box plot illustrates the relationship between cabin service ratings and passenger recommendations. It helps determine whether higher cabin service scores are associated with more positive recommendations."
      ],
      "metadata": {
        "id": "jWD1_grf7fG5"
      }
    },
    {
      "cell_type": "markdown",
      "source": [
        "##### 1. Why did you pick the specific chart?"
      ],
      "metadata": {
        "id": "iky9q4vBYrdO"
      }
    },
    {
      "cell_type": "markdown",
      "source": [
        "Answer Here."
      ],
      "metadata": {
        "id": "aJRCwT6DYrdO"
      }
    },
    {
      "cell_type": "markdown",
      "source": [
        "##### 2. What is/are the insight(s) found from the chart?"
      ],
      "metadata": {
        "id": "F6T5p64dYrdO"
      }
    },
    {
      "cell_type": "markdown",
      "source": [
        "Answer Here"
      ],
      "metadata": {
        "id": "Xx8WAJvtYrdO"
      }
    },
    {
      "cell_type": "markdown",
      "source": [
        "##### 3. Will the gained insights help creating a positive business impact? \n",
        "Are there any insights that lead to negative growth? Justify with specific reason."
      ],
      "metadata": {
        "id": "y-Ehk30pYrdP"
      }
    },
    {
      "cell_type": "markdown",
      "source": [
        "Answer Here"
      ],
      "metadata": {
        "id": "jLNxxz7MYrdP"
      }
    },
    {
      "cell_type": "markdown",
      "source": [
        "#### Chart - 5"
      ],
      "metadata": {
        "id": "bamQiAODYuh1"
      }
    },
    {
      "cell_type": "code",
      "source": [
        "# Chart - 5 visualization code\n",
        "#Question: What is the distribution of airline ratings?\n",
        "sns.histplot(air['overall'], bins=10, kde=True)\n",
        "plt.title('Distribution of Airline Ratings')\n",
        "plt.xlabel('Rating')\n",
        "plt.ylabel('Count')\n",
        "plt.show()\n"
      ],
      "metadata": {
        "id": "TIJwrbroYuh3"
      },
      "execution_count": null,
      "outputs": []
    },
    {
      "cell_type": "markdown",
      "source": [
        "Visualized Solution: This histogram displays the distribution of overall airline ratings. It provides an overview of the rating distribution and highlights any significant patterns or outliers."
      ],
      "metadata": {
        "id": "RhaQB1fY7nx1"
      }
    },
    {
      "cell_type": "markdown",
      "source": [
        "##### 1. Why did you pick the specific chart?"
      ],
      "metadata": {
        "id": "QHF8YVU7Yuh3"
      }
    },
    {
      "cell_type": "markdown",
      "source": [
        "Answer Here."
      ],
      "metadata": {
        "id": "dcxuIMRPYuh3"
      }
    },
    {
      "cell_type": "markdown",
      "source": [
        "##### 2. What is/are the insight(s) found from the chart?"
      ],
      "metadata": {
        "id": "GwzvFGzlYuh3"
      }
    },
    {
      "cell_type": "markdown",
      "source": [
        "Answer Here"
      ],
      "metadata": {
        "id": "uyqkiB8YYuh3"
      }
    },
    {
      "cell_type": "markdown",
      "source": [
        "##### 3. Will the gained insights help creating a positive business impact? \n",
        "Are there any insights that lead to negative growth? Justify with specific reason."
      ],
      "metadata": {
        "id": "qYpmQ266Yuh3"
      }
    },
    {
      "cell_type": "markdown",
      "source": [
        "Answer Here"
      ],
      "metadata": {
        "id": "_WtzZ_hCYuh4"
      }
    },
    {
      "cell_type": "markdown",
      "source": [
        "#### Chart - 6"
      ],
      "metadata": {
        "id": "OH-pJp9IphqM"
      }
    },
    {
      "cell_type": "code",
      "source": [
        "# Chart - 6 visualization code\n",
        "#Question: How does value for money impact passenger recommendations?\n",
        "sns.violinplot(x='recommended', y='value_for_money', data=air)\n",
        "plt.title('Value for Money vs. Passenger Recommendations')\n",
        "plt.xlabel('Recommended')\n",
        "plt.ylabel('Value for Money')\n",
        "plt.show()\n"
      ],
      "metadata": {
        "id": "kuRf4wtuphqN"
      },
      "execution_count": null,
      "outputs": []
    },
    {
      "cell_type": "markdown",
      "source": [
        "Visualized Solution: This violin plot compares the distribution of value for money ratings for passengers who would recommend the airline (1) versus those who would not (0). It helps assess whether higher value for money scores are associated with more positive recommendations."
      ],
      "metadata": {
        "id": "eNFKZCiS7zgh"
      }
    },
    {
      "cell_type": "markdown",
      "source": [
        "##### 1. Why did you pick the specific chart?"
      ],
      "metadata": {
        "id": "bbFf2-_FphqN"
      }
    },
    {
      "cell_type": "markdown",
      "source": [
        "Answer Here."
      ],
      "metadata": {
        "id": "loh7H2nzphqN"
      }
    },
    {
      "cell_type": "markdown",
      "source": [
        "##### 2. What is/are the insight(s) found from the chart?"
      ],
      "metadata": {
        "id": "_ouA3fa0phqN"
      }
    },
    {
      "cell_type": "markdown",
      "source": [
        "Answer Here"
      ],
      "metadata": {
        "id": "VECbqPI7phqN"
      }
    },
    {
      "cell_type": "markdown",
      "source": [
        "##### 3. Will the gained insights help creating a positive business impact? \n",
        "Are there any insights that lead to negative growth? Justify with specific reason."
      ],
      "metadata": {
        "id": "Seke61FWphqN"
      }
    },
    {
      "cell_type": "markdown",
      "source": [
        "Answer Here"
      ],
      "metadata": {
        "id": "DW4_bGpfphqN"
      }
    },
    {
      "cell_type": "markdown",
      "source": [
        "#### Chart - 7"
      ],
      "metadata": {
        "id": "PIIx-8_IphqN"
      }
    },
    {
      "cell_type": "code",
      "source": [
        "# Chart - 7 visualization code\n",
        "#Question: What is the distribution of recommended airlines by aircraft type?\n",
        "plt.figure(figsize=(12, 6))\n",
        "air_top20 = air.head(20)\n",
        "\n",
        "sns.countplot(x='aircraft', hue='recommended', data=air_top20)\n",
        "plt.title('Distribution of Recommended Airlines by Aircraft Type (Top 20)')\n",
        "plt.xlabel('Aircraft Type')\n",
        "plt.ylabel('Count')\n",
        "plt.xticks(rotation=45)\n",
        "plt.legend(title='Recommended')\n",
        "plt.show()\n",
        "\n",
        "\n"
      ],
      "metadata": {
        "id": "lqAIGUfyphqO"
      },
      "execution_count": null,
      "outputs": []
    },
    {
      "cell_type": "markdown",
      "source": [
        "Visualized Solution: This stacked bar plot shows the distribution of recommended airlines by aircraft type. It provides insights into which aircraft types are associated with a higher number of positive recommendations."
      ],
      "metadata": {
        "id": "4RpA49B_7_ia"
      }
    },
    {
      "cell_type": "markdown",
      "source": [
        "##### 1. Why did you pick the specific chart?"
      ],
      "metadata": {
        "id": "t27r6nlMphqO"
      }
    },
    {
      "cell_type": "markdown",
      "source": [
        "Answer Here."
      ],
      "metadata": {
        "id": "iv6ro40sphqO"
      }
    },
    {
      "cell_type": "markdown",
      "source": [
        "##### 2. What is/are the insight(s) found from the chart?"
      ],
      "metadata": {
        "id": "r2jJGEOYphqO"
      }
    },
    {
      "cell_type": "markdown",
      "source": [
        "Answer Here"
      ],
      "metadata": {
        "id": "Po6ZPi4hphqO"
      }
    },
    {
      "cell_type": "markdown",
      "source": [
        "##### 3. Will the gained insights help creating a positive business impact? \n",
        "Are there any insights that lead to negative growth? Justify with specific reason."
      ],
      "metadata": {
        "id": "b0JNsNcRphqO"
      }
    },
    {
      "cell_type": "markdown",
      "source": [
        "Answer Here"
      ],
      "metadata": {
        "id": "xvSq8iUTphqO"
      }
    },
    {
      "cell_type": "markdown",
      "source": [
        "#### Chart - 8"
      ],
      "metadata": {
        "id": "BZR9WyysphqO"
      }
    },
    {
      "cell_type": "code",
      "source": [
        "# Chart - 8 visualization code\n",
        "#Question: How does the date of the review impact passenger recommendations?\n",
        "air['review_date'] = pd.to_datetime(air['review_date'])\n",
        "air['year'] = air['review_date'].dt.year\n",
        "\n",
        "sns.countplot(x='year', hue='recommended', data=air)\n",
        "plt.title('Distribution of Passenger Recommendations by Year')\n",
        "plt.xlabel('Year')\n",
        "plt.ylabel('Count')\n",
        "plt.legend(title='Recommended')\n",
        "plt.xticks(rotation=45)\n",
        "plt.show()\n",
        "\n"
      ],
      "metadata": {
        "id": "TdPTWpAVphqO"
      },
      "execution_count": null,
      "outputs": []
    },
    {
      "cell_type": "markdown",
      "source": [
        "Visualized Solution: This stacked bar plot displays the distribution of passenger recommendations over the years. It helps identify any trends or changes in recommendations over time."
      ],
      "metadata": {
        "id": "WrOekodx8o4Y"
      }
    },
    {
      "cell_type": "markdown",
      "source": [
        "##### 1. Why did you pick the specific chart?"
      ],
      "metadata": {
        "id": "jj7wYXLtphqO"
      }
    },
    {
      "cell_type": "markdown",
      "source": [
        "Answer Here."
      ],
      "metadata": {
        "id": "Ob8u6rCTphqO"
      }
    },
    {
      "cell_type": "markdown",
      "source": [
        "##### 2. What is/are the insight(s) found from the chart?"
      ],
      "metadata": {
        "id": "eZrbJ2SmphqO"
      }
    },
    {
      "cell_type": "markdown",
      "source": [
        "Answer Here"
      ],
      "metadata": {
        "id": "mZtgC_hjphqO"
      }
    },
    {
      "cell_type": "markdown",
      "source": [
        "##### 3. Will the gained insights help creating a positive business impact? \n",
        "Are there any insights that lead to negative growth? Justify with specific reason."
      ],
      "metadata": {
        "id": "rFu4xreNphqO"
      }
    },
    {
      "cell_type": "markdown",
      "source": [
        "Answer Here"
      ],
      "metadata": {
        "id": "ey_0qi68phqO"
      }
    },
    {
      "cell_type": "markdown",
      "source": [
        "#### Chart - 9"
      ],
      "metadata": {
        "id": "YJ55k-q6phqO"
      }
    },
    {
      "cell_type": "code",
      "source": [
        "# Chart - 9 visualization code\n",
        "#Question: What is the distribution of passenger recommendations by cabin class?\n",
        "sns.countplot(x='cabin', hue='recommended', data=air)\n",
        "plt.title('Distribution of Passenger Recommendations by Cabin Class')\n",
        "plt.xlabel('Cabin Class')\n",
        "plt.ylabel('Count')\n",
        "plt.legend(title='Recommended')\n",
        "plt.show()\n"
      ],
      "metadata": {
        "id": "B2aS4O1ophqO"
      },
      "execution_count": null,
      "outputs": []
    },
    {
      "cell_type": "markdown",
      "source": [
        "Visualized Solution: This stacked bar plot showcases the distribution of passenger recommendations across different cabin classes. It helps assess whether certain cabin classes are more likely to receive positive recommendations."
      ],
      "metadata": {
        "id": "DJGY_5qx9Aiq"
      }
    },
    {
      "cell_type": "markdown",
      "source": [
        "##### 1. Why did you pick the specific chart?"
      ],
      "metadata": {
        "id": "gCFgpxoyphqP"
      }
    },
    {
      "cell_type": "markdown",
      "source": [
        "Answer Here."
      ],
      "metadata": {
        "id": "TVxDimi2phqP"
      }
    },
    {
      "cell_type": "markdown",
      "source": [
        "##### 2. What is/are the insight(s) found from the chart?"
      ],
      "metadata": {
        "id": "OVtJsKN_phqQ"
      }
    },
    {
      "cell_type": "markdown",
      "source": [
        "Answer Here"
      ],
      "metadata": {
        "id": "ngGi97qjphqQ"
      }
    },
    {
      "cell_type": "markdown",
      "source": [
        "##### 3. Will the gained insights help creating a positive business impact? \n",
        "Are there any insights that lead to negative growth? Justify with specific reason."
      ],
      "metadata": {
        "id": "lssrdh5qphqQ"
      }
    },
    {
      "cell_type": "markdown",
      "source": [
        "Answer Here"
      ],
      "metadata": {
        "id": "tBpY5ekJphqQ"
      }
    },
    {
      "cell_type": "markdown",
      "source": [
        "#### Chart - 10"
      ],
      "metadata": {
        "id": "U2RJ9gkRphqQ"
      }
    },
    {
      "cell_type": "code",
      "source": [
        "# Chart - 10 visualization code\n",
        "#Question: How does the route affect passenger recommendations?\n",
        "plt.figure(figsize=(12, 6))\n",
        "sns.countplot(x='route', hue='recommended', data=air.head(20))\n",
        "plt.title('Distribution of Passenger Recommendations by Route (Top 20)')\n",
        "plt.xlabel('Route')\n",
        "plt.ylabel('Count')\n",
        "plt.xticks(rotation=45)\n",
        "plt.legend(title='Recommended')\n",
        "plt.show()\n",
        "\n"
      ],
      "metadata": {
        "id": "GM7a4YP4phqQ"
      },
      "execution_count": null,
      "outputs": []
    },
    {
      "cell_type": "markdown",
      "source": [
        "Visualized Solution: This stacked bar plot demonstrates the distribution of passenger recommendations based on different routes. It provides insights into which routes have a higher number of positive recommendations.\n",
        "\n"
      ],
      "metadata": {
        "id": "te9B0dNN9jR9"
      }
    },
    {
      "cell_type": "markdown",
      "source": [
        "##### 1. Why did you pick the specific chart?"
      ],
      "metadata": {
        "id": "1M8mcRywphqQ"
      }
    },
    {
      "cell_type": "markdown",
      "source": [
        "Answer Here."
      ],
      "metadata": {
        "id": "8agQvks0phqQ"
      }
    },
    {
      "cell_type": "markdown",
      "source": [
        "##### 2. What is/are the insight(s) found from the chart?"
      ],
      "metadata": {
        "id": "tgIPom80phqQ"
      }
    },
    {
      "cell_type": "markdown",
      "source": [
        "Answer Here"
      ],
      "metadata": {
        "id": "Qp13pnNzphqQ"
      }
    },
    {
      "cell_type": "markdown",
      "source": [
        "##### 3. Will the gained insights help creating a positive business impact? \n",
        "Are there any insights that lead to negative growth? Justify with specific reason."
      ],
      "metadata": {
        "id": "JMzcOPDDphqR"
      }
    },
    {
      "cell_type": "markdown",
      "source": [
        "Answer Here"
      ],
      "metadata": {
        "id": "R4Ka1PC2phqR"
      }
    },
    {
      "cell_type": "markdown",
      "source": [
        "#### Chart - 11"
      ],
      "metadata": {
        "id": "x-EpHcCOp1ci"
      }
    },
    {
      "cell_type": "code",
      "source": [
        "# Chart - 11 visualization code\n",
        "#Question: How does the date of the review impact passenger recommendations?\n",
        "air['review_date'] = pd.to_datetime(air['review_date'])\n",
        "air['year'] = air['review_date'].dt.year\n",
        "\n",
        "sns.countplot(x='year', hue='recommended', data=air)\n",
        "plt.title('Distribution of Passenger Recommendations by Year')\n",
        "plt.xlabel('Year')\n",
        "plt.ylabel('Count')\n",
        "plt.show()\n",
        "\n"
      ],
      "metadata": {
        "id": "mAQTIvtqp1cj"
      },
      "execution_count": null,
      "outputs": []
    },
    {
      "cell_type": "markdown",
      "source": [
        "Visualized Solution: This bar plot showcases the distribution of passenger recommendations based on the year of the review. It helps identify any trends or patterns in recommendations over time.\n",
        "\n"
      ],
      "metadata": {
        "id": "dN2joOQG-sfL"
      }
    },
    {
      "cell_type": "markdown",
      "source": [
        "##### 1. Why did you pick the specific chart?"
      ],
      "metadata": {
        "id": "X_VqEhTip1ck"
      }
    },
    {
      "cell_type": "markdown",
      "source": [
        "Answer Here."
      ],
      "metadata": {
        "id": "-vsMzt_np1ck"
      }
    },
    {
      "cell_type": "markdown",
      "source": [
        "##### 2. What is/are the insight(s) found from the chart?"
      ],
      "metadata": {
        "id": "8zGJKyg5p1ck"
      }
    },
    {
      "cell_type": "markdown",
      "source": [
        "Answer Here"
      ],
      "metadata": {
        "id": "ZYdMsrqVp1ck"
      }
    },
    {
      "cell_type": "markdown",
      "source": [
        "##### 3. Will the gained insights help creating a positive business impact? \n",
        "Are there any insights that lead to negative growth? Justify with specific reason."
      ],
      "metadata": {
        "id": "PVzmfK_Ep1ck"
      }
    },
    {
      "cell_type": "markdown",
      "source": [
        "Answer Here"
      ],
      "metadata": {
        "id": "druuKYZpp1ck"
      }
    },
    {
      "cell_type": "markdown",
      "source": [
        "#### Chart - 12"
      ],
      "metadata": {
        "id": "n3dbpmDWp1ck"
      }
    },
    {
      "cell_type": "code",
      "source": [
        "# Chart - 12 visualization code\n",
        "#Question: What is the distribution of recommended airlines by traveler type?\n",
        "sns.countplot(x='traveller_type', hue='recommended', data=air)\n",
        "plt.title('Distribution of Recommended Airlines by Traveler Type')\n",
        "plt.xlabel('Traveler Type')\n",
        "plt.ylabel('Count')\n",
        "plt.xticks(rotation=45)\n",
        "plt.legend(title='Recommended')\n",
        "plt.show()\n"
      ],
      "metadata": {
        "id": "bwevp1tKp1ck"
      },
      "execution_count": null,
      "outputs": []
    },
    {
      "cell_type": "markdown",
      "source": [
        "##### 1. Why did you pick the specific chart?"
      ],
      "metadata": {
        "id": "ylSl6qgtp1ck"
      }
    },
    {
      "cell_type": "markdown",
      "source": [
        "Answer Here."
      ],
      "metadata": {
        "id": "m2xqNkiQp1ck"
      }
    },
    {
      "cell_type": "markdown",
      "source": [
        "##### 2. What is/are the insight(s) found from the chart?"
      ],
      "metadata": {
        "id": "ZWILFDl5p1ck"
      }
    },
    {
      "cell_type": "markdown",
      "source": [
        "Answer Here"
      ],
      "metadata": {
        "id": "x-lUsV2mp1ck"
      }
    },
    {
      "cell_type": "markdown",
      "source": [
        "##### 3. Will the gained insights help creating a positive business impact? \n",
        "Are there any insights that lead to negative growth? Justify with specific reason."
      ],
      "metadata": {
        "id": "M7G43BXep1ck"
      }
    },
    {
      "cell_type": "markdown",
      "source": [
        "Answer Here"
      ],
      "metadata": {
        "id": "5wwDJXsLp1cl"
      }
    },
    {
      "cell_type": "markdown",
      "source": [
        "#### Chart - 13"
      ],
      "metadata": {
        "id": "Ag9LCva-p1cl"
      }
    },
    {
      "cell_type": "code",
      "source": [
        "plt.figure(figsize=(12, 6))\n",
        "sns.countplot(x='cabin', data=air)\n",
        "plt.title('Distribution of Cabin Classes')\n",
        "plt.xlabel('Cabin Class')\n",
        "plt.ylabel('Count')\n",
        "plt.xticks(rotation=45)\n",
        "plt.show()\n"
      ],
      "metadata": {
        "id": "G04rNQo-gq8l"
      },
      "execution_count": null,
      "outputs": []
    },
    {
      "cell_type": "markdown",
      "source": [
        "Visualized Solution: This pie chart displays the distribution of passenger recommendations, showing the percentage of passengers who would recommend the airline versus those who would not. It provides a clear visual representation of the recommendation distribution.\n",
        "\n"
      ],
      "metadata": {
        "id": "RwR7gcoCAXT5"
      }
    },
    {
      "cell_type": "code",
      "source": [
        "sns.boxplot(x='seat_comfort', y='overall', data=air)\n",
        "plt.title('Seat Comfort vs. Airline Ratings')\n",
        "plt.xlabel('Seat Comfort')\n",
        "plt.ylabel('Rating')\n",
        "plt.show()\n"
      ],
      "metadata": {
        "id": "Q1YIf7BUflv8"
      },
      "execution_count": null,
      "outputs": []
    },
    {
      "cell_type": "markdown",
      "source": [
        "Visualized Solution: This box plot compares the distribution of airline ratings for different levels of seat comfort. It helps assess whether higher seat comfort ratings are associated with higher overall airline ratings"
      ],
      "metadata": {
        "id": "C4EwoG3mgQ1e"
      }
    },
    {
      "cell_type": "markdown",
      "source": [
        "##### 1. Why did you pick the specific chart?"
      ],
      "metadata": {
        "id": "E6MkPsBcp1cl"
      }
    },
    {
      "cell_type": "markdown",
      "source": [
        "Answer Here."
      ],
      "metadata": {
        "id": "V22bRsFWp1cl"
      }
    },
    {
      "cell_type": "markdown",
      "source": [
        "##### 2. What is/are the insight(s) found from the chart?"
      ],
      "metadata": {
        "id": "2cELzS2fp1cl"
      }
    },
    {
      "cell_type": "markdown",
      "source": [
        "Answer Here"
      ],
      "metadata": {
        "id": "ozQPc2_Ip1cl"
      }
    },
    {
      "cell_type": "markdown",
      "source": [
        "##### 3. Will the gained insights help creating a positive business impact? \n",
        "Are there any insights that lead to negative growth? Justify with specific reason."
      ],
      "metadata": {
        "id": "3MPXvC8up1cl"
      }
    },
    {
      "cell_type": "markdown",
      "source": [
        "Answer Here"
      ],
      "metadata": {
        "id": "GL8l1tdLp1cl"
      }
    },
    {
      "cell_type": "code",
      "source": [
        "sns.histplot(air['ground_service'], bins=10, kde=True)\n",
        "plt.title('Distribution of Ground Service Ratings')\n",
        "plt.xlabel('Rating')\n",
        "plt.ylabel('Count')\n",
        "plt.show()\n"
      ],
      "metadata": {
        "id": "zLxby4UigTvh"
      },
      "execution_count": null,
      "outputs": []
    },
    {
      "cell_type": "markdown",
      "source": [
        "Visualized Solution: This histogram displays the distribution of ground service ratings. It provides an overview of the rating distribution and highlights any significant patterns or"
      ],
      "metadata": {
        "id": "lSEDhj0BgopO"
      }
    },
    {
      "cell_type": "markdown",
      "source": [
        "Visualized Solution: This bar plot displays the number of passengers in different cabin classes. It provides insights into the distribution of passengers across different cabin classes."
      ],
      "metadata": {
        "id": "FZHcFxkBg01X"
      }
    },
    {
      "cell_type": "code",
      "source": [
        "plt.figure(figsize=(12, 6))\n",
        "sns.violinplot(x='route', y='value_for_money', data=air[:20])\n",
        "plt.title('Value for Money Ratings by Route')\n",
        "plt.xlabel('Route')\n",
        "plt.ylabel('Value for Money Rating')\n",
        "plt.xticks(rotation=45)\n",
        "plt.show()\n"
      ],
      "metadata": {
        "id": "gcHQVzxYiFB5"
      },
      "execution_count": null,
      "outputs": []
    },
    {
      "cell_type": "markdown",
      "source": [
        "This code creates a violin plot that displays the distribution of value for money ratings for each route. It uses the top 20 data from the \"air\" DataFrame and sets the x-axis to the \"route\" column and the y-axis to the \"value_for_money\" column. The plot is labeled with a title, x-axis label, y-axis label, and the x-axis labels are rotated for better readability. The violin plot provides a visual representation of the distribution of values and can show multiple modes in the data.\n",
        "\n",
        "\n",
        "\n",
        "\n"
      ],
      "metadata": {
        "id": "TFL7_L6blX15"
      }
    },
    {
      "cell_type": "markdown",
      "source": [
        "#### Chart - 14 - Correlation Heatmap"
      ],
      "metadata": {
        "id": "NC_X3p0fY2L0"
      }
    },
    {
      "cell_type": "code",
      "source": [
        "# Select the relevant columns for correlation analysis\n",
        "selected_columns = ['overall', 'seat_comfort', 'cabin_service', 'food_bev', 'entertainment', 'ground_service', 'value_for_money', 'recommended']\n",
        "\n",
        "# Create a correlation matrix\n",
        "correlation_matrix = air[selected_columns].corr()\n",
        "\n",
        "# Generate a heatmap\n",
        "plt.figure(figsize=(10, 8))\n",
        "sns.heatmap(correlation_matrix, annot=True, cmap='coolwarm', linewidths=0.5)\n",
        "plt.title('Correlation Heatmap')\n",
        "plt.show()\n"
      ],
      "metadata": {
        "id": "xyC9zolEZNRQ"
      },
      "execution_count": null,
      "outputs": []
    },
    {
      "cell_type": "markdown",
      "source": [
        "##### 1. Why did you pick the specific chart?"
      ],
      "metadata": {
        "id": "UV0SzAkaZNRQ"
      }
    },
    {
      "cell_type": "markdown",
      "source": [
        "Answer Here."
      ],
      "metadata": {
        "id": "DVPuT8LYZNRQ"
      }
    },
    {
      "cell_type": "markdown",
      "source": [
        "##### 2. What is/are the insight(s) found from the chart?"
      ],
      "metadata": {
        "id": "YPEH6qLeZNRQ"
      }
    },
    {
      "cell_type": "markdown",
      "source": [
        "Answer Here"
      ],
      "metadata": {
        "id": "bfSqtnDqZNRR"
      }
    },
    {
      "cell_type": "markdown",
      "source": [
        "#### Chart - 15 - Pair Plot "
      ],
      "metadata": {
        "id": "q29F0dvdveiT"
      }
    },
    {
      "cell_type": "code",
      "source": [
        "# Pair Plot visualization code\n",
        "# Select the relevant variables for the pair plot\n",
        "variables = ['overall', 'seat_comfort', 'cabin_service', 'food_bev', 'entertainment', 'ground_service', 'value_for_money']\n",
        "\n",
        "# Create the pair plot\n",
        "sns.pairplot(air[variables])\n",
        "plt.title('Pair Plot of Variables')\n",
        "plt.show()"
      ],
      "metadata": {
        "id": "o58-TEIhveiU"
      },
      "execution_count": null,
      "outputs": []
    },
    {
      "cell_type": "markdown",
      "source": [
        "##### 1. Why did you pick the specific chart?"
      ],
      "metadata": {
        "id": "EXh0U9oCveiU"
      }
    },
    {
      "cell_type": "markdown",
      "source": [
        "Answer Here."
      ],
      "metadata": {
        "id": "eMmPjTByveiU"
      }
    },
    {
      "cell_type": "markdown",
      "source": [
        "##### 2. What is/are the insight(s) found from the chart?"
      ],
      "metadata": {
        "id": "22aHeOlLveiV"
      }
    },
    {
      "cell_type": "markdown",
      "source": [
        "Answer Here"
      ],
      "metadata": {
        "id": "uPQ8RGwHveiV"
      }
    },
    {
      "cell_type": "markdown",
      "source": [
        "Removing Multicollinearity features"
      ],
      "metadata": {
        "id": "XP6G8nuS9WHI"
      }
    },
    {
      "cell_type": "code",
      "source": [
        "# Creating a function to calculate VIF\n",
        "def calc_vif(X):\n",
        "    vif = pd.DataFrame()\n",
        "    vif[\"Variable\"] = X.columns\n",
        "    vif[\"VIF\"] = [variance_inflation_factor(X.values, i) for i in range(X.shape[1])]\n",
        "    return vif\n"
      ],
      "metadata": {
        "id": "ozLV8Kfy9Vqd"
      },
      "execution_count": null,
      "outputs": []
    },
    {
      "cell_type": "code",
      "source": [
        "import numpy as np\n",
        "\n",
        "# Remove missing values and infinite values from the data\n",
        "air_cleaned = air[[i for i in air.describe().columns if i not in ['recommended', 'value_for_money', 'overall']]].replace([np.inf, -np.inf], np.nan).dropna()\n",
        "\n",
        "# Calculate VIF for the cleaned data\n",
        "vif_results = calc_vif(air_cleaned)\n",
        "\n",
        "print(vif_results)\n",
        "\n"
      ],
      "metadata": {
        "id": "DamLIGG0-X2q"
      },
      "execution_count": null,
      "outputs": []
    },
    {
      "cell_type": "markdown",
      "source": [
        "# **Defining the dependent and independent variables.**"
      ],
      "metadata": {
        "id": "feF8-Epv5kSJ"
      }
    },
    {
      "cell_type": "code",
      "source": [
        "#separating the dependent and independent variables\n",
        "y = air['recommended']\n",
        "x = air.drop(columns = 'recommended')\n"
      ],
      "metadata": {
        "id": "IPfy9Gj55i6d"
      },
      "execution_count": null,
      "outputs": []
    },
    {
      "cell_type": "code",
      "source": [
        "\n",
        "x.columns"
      ],
      "metadata": {
        "id": "iQDkI-605ybY"
      },
      "execution_count": null,
      "outputs": []
    },
    {
      "cell_type": "markdown",
      "source": [
        "#**One Hot Encoding**"
      ],
      "metadata": {
        "id": "S36sNWBH52vj"
      }
    },
    {
      "cell_type": "code",
      "source": [
        "x = pd.get_dummies(x)\n",
        "     "
      ],
      "metadata": {
        "id": "KSCfUzXI52UP"
      },
      "execution_count": null,
      "outputs": []
    },
    {
      "cell_type": "code",
      "source": [
        "x.shape"
      ],
      "metadata": {
        "id": "ujy6OS_P6tlF"
      },
      "execution_count": null,
      "outputs": []
    },
    {
      "cell_type": "code",
      "source": [
        "x.head(2)"
      ],
      "metadata": {
        "id": "K_5BsBSl7Y_7"
      },
      "execution_count": null,
      "outputs": []
    },
    {
      "cell_type": "markdown",
      "source": [
        "The Percentage of both labels('yes','no) is approximately equal. So no need of Handling Class Imbalance technique."
      ],
      "metadata": {
        "id": "ocqNJk1Z_W_E"
      }
    },
    {
      "cell_type": "markdown",
      "source": [
        "## ***5. Hypothesis Testing***"
      ],
      "metadata": {
        "id": "g-ATYxFrGrvw"
      }
    },
    {
      "cell_type": "markdown",
      "source": [
        "### Based on your chart experiments, define three hypothetical statements from the dataset. In the next three questions, perform hypothesis testing to obtain final conclusion about the statements through your code and statistical testing."
      ],
      "metadata": {
        "id": "Yfr_Vlr8HBkt"
      }
    },
    {
      "cell_type": "markdown",
      "source": [
        "Answer \n",
        "\n",
        "Here are three hypothetical statements based on the dataset:\n",
        "\n",
        "1. Statement: Passengers who rate higher on \"value_for_money\" are more likely to recommend the airline.\n",
        "\n",
        "2. Statement: Passengers who have a higher overall rating are more likely to rate the seat comfort positively.\n",
        "\n",
        "3. Statement: Passengers who have a higher overall rating are more likely to rate the cabin service positively.\n",
        "\n",
        "To perform hypothesis testing and obtain a final conclusion for each statement, we'll use the following steps:\n",
        "\n",
        "1. Set up the null hypothesis (H0) and alternative hypothesis (H1) for each statement.\n",
        "2. Perform the appropriate statistical test based on the nature of the variables involved.\n",
        "3. Calculate the test statistic and p-value.\n",
        "4. Determine the significance level (α) for the test.\n",
        "5. Compare the p-value with the significance level to make a decision.\n",
        "6. Draw a conclusion based on the decision made.\n"
      ],
      "metadata": {
        "id": "-7MS06SUHkB-"
      }
    },
    {
      "cell_type": "markdown",
      "source": [
        "### Hypothetical Statement - 1"
      ],
      "metadata": {
        "id": "8yEUt7NnHlrM"
      }
    },
    {
      "cell_type": "markdown",
      "source": [
        "#### 1. State Your research hypothesis as a null hypothesis and alternate hypothesis."
      ],
      "metadata": {
        "id": "tEA2Xm5dHt1r"
      }
    },
    {
      "cell_type": "markdown",
      "source": [
        "Answer \n",
        "For Hypothetical Statement 1:\n",
        "\n",
        "Null Hypothesis (H0): Passengers who rate higher on \"value_for_money\" are not more likely to recommend the airline.\n",
        "\n",
        "Alternative Hypothesis (H1): Passengers who rate higher on \"value_for_money\" are more likely to recommend the airline."
      ],
      "metadata": {
        "id": "HI9ZP0laH0D-"
      }
    },
    {
      "cell_type": "markdown",
      "source": [
        "#### 2. Perform an appropriate statistical test."
      ],
      "metadata": {
        "id": "I79__PHVH19G"
      }
    },
    {
      "cell_type": "code",
      "source": [
        "# Perform Statistical Test to obtain P-Value\n",
        "# Drop rows with missing values\n",
        "cleaned_data = air.dropna(subset=['value_for_money', 'recommended'])\n",
        "\n",
        "# Perform statistical test\n",
        "observed_values = cleaned_data[cleaned_data['recommended'] == 1]['value_for_money']\n",
        "expected_values = cleaned_data[cleaned_data['recommended'] == 0]['value_for_money']\n",
        "\n",
        "# Perform t-test\n",
        "from scipy.stats import ttest_ind\n",
        "t_statistic, p_value = ttest_ind(observed_values, expected_values, nan_policy='omit')\n",
        "\n",
        "print(\"P-value:\", p_value)\n"
      ],
      "metadata": {
        "id": "oZrfquKtyian"
      },
      "execution_count": null,
      "outputs": []
    },
    {
      "cell_type": "markdown",
      "source": [
        "##### Which statistical test have you done to obtain P-Value?"
      ],
      "metadata": {
        "id": "Ou-I18pAyIpj"
      }
    },
    {
      "cell_type": "markdown",
      "source": [
        "Answer \n",
        "\n",
        "The independent samples t-test was conducted to compare the mean \"value_for_money\" ratings between the recommended and not recommended airlines. However, the obtained p-value was \"nan,\" indicating issues with the data or calculation. Therefore, no conclusive evidence can be drawn regarding a significant difference in value for money ratings between the two groups. Further investigation or data refinement may be necessary to obtain meaningful results."
      ],
      "metadata": {
        "id": "s2U0kk00ygSB"
      }
    },
    {
      "cell_type": "markdown",
      "source": [
        "##### Why did you choose the specific statistical test?"
      ],
      "metadata": {
        "id": "fF3858GYyt-u"
      }
    },
    {
      "cell_type": "markdown",
      "source": [
        "Answer \n",
        "\n",
        "I chose the independent samples t-test because it is commonly used to compare the means of two independent groups. In this case, I wanted to compare the mean \"value_for_money\" ratings between the recommended and not recommended airlines. The t-test allows for the assessment of whether there is a statistically significant difference in the means of the two groups. However, as the obtained p-value was \"nan,\" further investigation is needed to understand the underlying cause of this issue."
      ],
      "metadata": {
        "id": "HO4K0gP5y3B4"
      }
    },
    {
      "cell_type": "markdown",
      "source": [
        "### Hypothetical Statement - 2"
      ],
      "metadata": {
        "id": "4_0_7-oCpUZd"
      }
    },
    {
      "cell_type": "markdown",
      "source": [
        "#### 1. State Your research hypothesis as a null hypothesis and alternate hypothesis."
      ],
      "metadata": {
        "id": "hwyV_J3ipUZe"
      }
    },
    {
      "cell_type": "markdown",
      "source": [
        "Answer \n",
        "\n",
        "Null hypothesis (H0): There is no significant difference in the overall ratings between the different airline types.\n",
        "\n",
        "Alternate hypothesis (HA): There is a significant difference in the overall ratings between the different airline types."
      ],
      "metadata": {
        "id": "FnpLGJ-4pUZe"
      }
    },
    {
      "cell_type": "markdown",
      "source": [
        "## ***6. Feature Engineering & Data Pre-processing***"
      ],
      "metadata": {
        "id": "yLjJCtPM0KBk"
      }
    },
    {
      "cell_type": "markdown",
      "source": [
        "### 1. Handling Missing Values"
      ],
      "metadata": {
        "id": "xiyOF9F70UgQ"
      }
    },
    {
      "cell_type": "code",
      "source": [
        "\n",
        "# Count missing values\n",
        "missing_count = air.isnull().sum()\n",
        "\n",
        "print(\"Missing values count:\")\n",
        "print(missing_count)"
      ],
      "metadata": {
        "id": "-CVRTW9CrtZ_"
      },
      "execution_count": null,
      "outputs": []
    },
    {
      "cell_type": "code",
      "source": [
        "# Check for missing values\n",
        "missing_values = air.isnull().sum()\n",
        "print(\"Missing Values:\")\n",
        "print(missing_values)\n",
        "\n",
        "# Fill missing values with appropriate imputation method\n",
        "# For numerical columns, you can use mean imputation\n",
        "air['overall'] = air['overall'].fillna(air['overall'].mean())\n",
        "air['seat_comfort'] = air['seat_comfort'].fillna(air['seat_comfort'].mean())\n",
        "air['cabin_service'] = air['cabin_service'].fillna(air['cabin_service'].mean())\n",
        "air['food_bev'] = air['food_bev'].fillna(air['food_bev'].mean())\n",
        "air['entertainment'] = air['entertainment'].fillna(air['entertainment'].mean())\n",
        "air['ground_service'] = air['ground_service'].fillna(air['ground_service'].mean())\n",
        "air['value_for_money'] = air['value_for_money'].fillna(air['value_for_money'].mean())\n",
        "\n",
        "# For categorical columns, you can use mode imputation\n",
        "air['airline'] = air['airline'].fillna(air['airline'].mode().iloc[0])\n",
        "air['author'] = air['author'].fillna(air['author'].mode().iloc[0])\n",
        "air['customer_review'] = air['customer_review'].fillna(air['customer_review'].mode().iloc[0])\n",
        "air['aircraft'] = air['aircraft'].fillna(air['aircraft'].mode().iloc[0])\n",
        "air['traveller_type'] = air['traveller_type'].fillna(air['traveller_type'].mode().iloc[0])\n",
        "air['cabin'] = air['cabin'].fillna(air['cabin'].mode().iloc[0])\n",
        "air['route'] = air['route'].fillna(air['route'].mode().iloc[0])\n",
        "air['date_flown'] = air['date_flown'].fillna(air['date_flown'].mode().iloc[0])\n",
        "air['recommended'] = air['recommended'].fillna(air['recommended'].mode().iloc[0])\n"
      ],
      "metadata": {
        "id": "iRsAHk1K0fpS"
      },
      "execution_count": null,
      "outputs": []
    },
    {
      "cell_type": "code",
      "source": [
        "# Check for missing values\n",
        "missing_values = air.isnull().sum()\n",
        "print(\"Missing Values:\")\n",
        "print(missing_values)\n",
        "\n",
        "# Convert 'review_date' column to datetime format\n",
        "air['review_date'] = pd.to_datetime(air['review_date'], errors='coerce')\n",
        "\n",
        "# Fill missing values in 'review_date' column with a specific value or strategy\n",
        "# For example, you can fill the missing values with the median date or the most recent date\n",
        "median_date = air['review_date'].median()\n",
        "air['review_date'] = air['review_date'].fillna(median_date)\n"
      ],
      "metadata": {
        "id": "nRfjOfJ0rnLW"
      },
      "execution_count": null,
      "outputs": []
    },
    {
      "cell_type": "markdown",
      "source": [
        "#### What all missing value imputation techniques have you used and why did you use those techniques?"
      ],
      "metadata": {
        "id": "7wuGOrhz0itI"
      }
    },
    {
      "cell_type": "markdown",
      "source": [
        "Answer \n",
        "The code provided uses mean imputation for numerical columns and mode imputation for categorical columns to fill in missing values. Mean imputation replaces missing numerical values with the mean of the column, while mode imputation replaces missing categorical values with the most frequent category. These techniques are chosen based on the data type and assumptions about the missing data mechanism."
      ],
      "metadata": {
        "id": "1ixusLtI0pqI"
      }
    },
    {
      "cell_type": "markdown",
      "source": [
        "### 2. Handling Outliers"
      ],
      "metadata": {
        "id": "id1riN9m0vUs"
      }
    },
    {
      "cell_type": "code",
      "source": [
        "import numpy as np\n",
        "# Handling Outliers & Outlier treatments\n",
        "# Define a function to detect and handle outliers using z-score method\n",
        "def handle_outliers_zscore(data, threshold=3):\n",
        "    z_scores = np.abs(stats.zscore(data))\n",
        "    outliers = np.where(z_scores > threshold)\n",
        "    data_no_outliers = data[(z_scores <= threshold)]\n",
        "    return data_no_outliers\n",
        "\n",
        "# Apply outlier treatment to the 'value_for_money' column\n",
        "air['value_for_money'] = handle_outliers_zscore(air['value_for_money'])\n",
        "print(air['value_for_money'])\n"
      ],
      "metadata": {
        "id": "M6w2CzZf04JK"
      },
      "execution_count": null,
      "outputs": []
    },
    {
      "cell_type": "markdown",
      "source": [
        "##### What all outlier treatment techniques have you used and why did you use those techniques?"
      ],
      "metadata": {
        "id": "578E2V7j08f6"
      }
    },
    {
      "cell_type": "markdown",
      "source": [
        "Answer \n",
        "\n",
        "The code snippet uses the z-score method to detect and handle outliers. By calculating the z-score for each data point and applying a threshold, outliers are identified and replaced with the mean value of the column. This technique is effective in reducing the impact of outliers on statistical analyses and ensuring more robust results."
      ],
      "metadata": {
        "id": "uGZz5OrT1HH-"
      }
    },
    {
      "cell_type": "markdown",
      "source": [
        "### 3. Categorical Encoding"
      ],
      "metadata": {
        "id": "89xtkJwZ18nB"
      }
    },
    {
      "cell_type": "code",
      "source": [
        "# Encode your categorical columns\n",
        "\n",
        "# Encode categorical columns using get_dummies()\n",
        "encoded_data = pd.get_dummies(air, columns=['airline', 'traveller_type', 'cabin', 'route'])\n",
        "\n",
        "# Print the encoded data\n",
        "print(encoded_data.head())\n"
      ],
      "metadata": {
        "id": "21JmIYMG2hEo"
      },
      "execution_count": null,
      "outputs": []
    },
    {
      "cell_type": "markdown",
      "source": [
        "#### What all categorical encoding techniques have you used & why did you use those techniques?"
      ],
      "metadata": {
        "id": "67NQN5KX2AMe"
      }
    },
    {
      "cell_type": "markdown",
      "source": [
        "Answer \n",
        "\n",
        "In the code snippet provided, the categorical encoding technique used is one-hot encoding using the `get_dummies()` function. One-hot encoding is chosen because it converts categorical variables into binary vectors, representing the presence or absence of a category. This technique allows for the inclusion of categorical data in machine learning models that require numerical inputs, without introducing ordinality or magnitude assumptions."
      ],
      "metadata": {
        "id": "UDaue5h32n_G"
      }
    },
    {
      "cell_type": "markdown",
      "source": [
        "### 4. Textual Data Preprocessing \n",
        "(It's mandatory for textual dataset i.e., NLP, Sentiment Analysis, Text Clustering etc.)"
      ],
      "metadata": {
        "id": "Iwf50b-R2tYG"
      }
    },
    {
      "cell_type": "markdown",
      "source": [
        "#### 1. Expand Contraction"
      ],
      "metadata": {
        "id": "GMQiZwjn3iu7"
      }
    },
    {
      "cell_type": "code",
      "source": [
        "air.head()"
      ],
      "metadata": {
        "id": "enxD0P1bzXBE"
      },
      "execution_count": null,
      "outputs": []
    },
    {
      "cell_type": "code",
      "source": [
        "# Custom contraction dictionary\n",
        "contractions_dict = {\n",
        "    \"can't\": \"cannot\",\n",
        "    \"don't\": \"do not\",\n",
        "    \"won't\": \"will not\",\n",
        "    # Add more contractions and their expanded forms as needed\n",
        "}\n",
        "\n",
        "def expand_contractions(text):\n",
        "    words = text.split()\n",
        "    expanded_words = [contractions_dict.get(word.lower(), word) for word in words]\n",
        "    expanded_text = \" \".join(expanded_words)\n",
        "    return expanded_text\n",
        "\n",
        "# Apply expand_contractions function to the 'customer_review' variable\n",
        "air['customer_review'] = air['customer_review'].apply(expand_contractions)\n"
      ],
      "metadata": {
        "id": "PTouz10C3oNN"
      },
      "execution_count": null,
      "outputs": []
    },
    {
      "cell_type": "markdown",
      "source": [
        "This code defines a dictionary contractions that maps contractions to their expanded forms. The expand_contractions() function splits the input text into words, replaces contractions with their expanded forms using the dictionary mapping, and joins the expanded words back into a text string. "
      ],
      "metadata": {
        "id": "AisrOuBGwmK5"
      }
    },
    {
      "cell_type": "markdown",
      "source": [
        "#### 2. Lower Casing"
      ],
      "metadata": {
        "id": "WVIkgGqN3qsr"
      }
    },
    {
      "cell_type": "code",
      "source": [
        "# Lower Casing\n",
        "air['customer_review'] = air['customer_review'].str.lower()\n",
        "\n",
        "print(air['customer_review'])\n"
      ],
      "metadata": {
        "id": "88JnJ1jN3w7j"
      },
      "execution_count": null,
      "outputs": []
    },
    {
      "cell_type": "markdown",
      "source": [
        "To convert text to lower case, you can use the lower() method in Python. Here's an example code snippet to perform lower casing on the 'customer_review' variable:\n",
        "\n",
        "In this code, the str.lower() method is applied to the 'customer_review' column, which converts all the text in that column to lower case."
      ],
      "metadata": {
        "id": "6FnrvgFf2tm1"
      }
    },
    {
      "cell_type": "markdown",
      "source": [
        "#### 3. Removing Punctuations"
      ],
      "metadata": {
        "id": "XkPnILGE3zoT"
      }
    },
    {
      "cell_type": "code",
      "source": [
        "# Remove punctuations\n",
        "air['customer_review'] = air['customer_review'].str.replace('[{}]'.format(string.punctuation), '')\n",
        "\n",
        "print(air['customer_review'])\n"
      ],
      "metadata": {
        "id": "vqbBqNaA33c0"
      },
      "execution_count": null,
      "outputs": []
    },
    {
      "cell_type": "markdown",
      "source": [
        "This code will remove all punctuations from the 'customer_review' column and print the updated column."
      ],
      "metadata": {
        "id": "wi1U4XMV2iwz"
      }
    },
    {
      "cell_type": "markdown",
      "source": [
        "#### 4. Removing URLs & Removing words and digits contain digits."
      ],
      "metadata": {
        "id": "Hlsf0x5436Go"
      }
    },
    {
      "cell_type": "code",
      "source": [
        "# Remove URLs\n",
        "air['customer_review'] = air['customer_review'].apply(lambda x: re.sub(r'http\\S+|www.\\S+', '', x))\n",
        "\n",
        "# Remove words and digits containing digits\n",
        "air['customer_review'] = air['customer_review'].apply(lambda x: re.sub(r'\\w*\\d\\w*', '', x))\n",
        "\n",
        "print(air['customer_review'])\n"
      ],
      "metadata": {
        "id": "2sxKgKxu4Ip3"
      },
      "execution_count": null,
      "outputs": []
    },
    {
      "cell_type": "markdown",
      "source": [
        "This code uses regular expressions (re) to remove URLs and words/digits containing digits from the 'customer_review' column. The updated column will be printed."
      ],
      "metadata": {
        "id": "w5t773Sa2bxN"
      }
    },
    {
      "cell_type": "markdown",
      "source": [
        "#### 5. Removing Stopwords & Removing White spaces"
      ],
      "metadata": {
        "id": "mT9DMSJo4nBL"
      }
    },
    {
      "cell_type": "code",
      "source": [
        "# Remove Stopwords\n",
        "# Download stopwords if not already downloaded\n",
        "nltk.download('stopwords')\n",
        "\n",
        "# Get the set of stopwords\n",
        "stop_words = set(stopwords.words('english'))\n",
        "\n",
        "# Function to remove stopwords from text\n",
        "def remove_stopwords(text):\n",
        "    tokens = text.split()\n",
        "    filtered_tokens = [token for token in tokens if token.lower() not in stop_words]\n",
        "    return ' '.join(filtered_tokens)\n",
        "\n",
        "# Apply stopwords removal to 'customer_review' column\n",
        "air['customer_review'] = air['customer_review'].apply(remove_stopwords)\n",
        "\n",
        "print(air['customer_review'])\n",
        "\n"
      ],
      "metadata": {
        "id": "T2LSJh154s8W"
      },
      "execution_count": null,
      "outputs": []
    },
    {
      "cell_type": "markdown",
      "source": [
        "This code utilizes the NLTK library to download and access the stopwords list for the English language. It defines a function to remove stopwords from the text and applies it to the 'customer_review' column. The updated column will be printed."
      ],
      "metadata": {
        "id": "zdXusKH-2Zn2"
      }
    },
    {
      "cell_type": "code",
      "source": [
        "# Remove White spaces\n",
        "# Function to remove white spaces from text\n",
        "def remove_white_spaces(text):\n",
        "    cleaned_text = text.strip()\n",
        "    return cleaned_text\n",
        "\n",
        "# Apply white space removal to 'customer_review' column\n",
        "air['customer_review'] = air['customer_review'].apply(remove_white_spaces)\n",
        "\n",
        "print(air['customer_review'])\n"
      ],
      "metadata": {
        "id": "EgLJGffy4vm0"
      },
      "execution_count": null,
      "outputs": []
    },
    {
      "cell_type": "markdown",
      "source": [
        "This code defines a function that uses the strip() method to remove leading and trailing white spaces from the text. It then applies this function to the 'customer_review' column using the apply() method. The updated column will be printed."
      ],
      "metadata": {
        "id": "rtGxlUWu27w_"
      }
    },
    {
      "cell_type": "markdown",
      "source": [
        "#### 6. Rephrase Text"
      ],
      "metadata": {
        "id": "c49ITxTc407N"
      }
    },
    {
      "cell_type": "code",
      "source": [
        "# Rephrase Text\n",
        "# Function to rephrase text\n",
        "def rephrase_text(text):\n",
        "    rephrased_text = text.replace('good', 'great').replace('bad', 'poor')\n",
        "    return rephrased_text\n",
        "\n",
        "# Apply text rephrasing to 'customer_review' column\n",
        "air['customer_review'] = air['customer_review'].apply(rephrase_text)\n",
        "\n",
        "print(air['customer_review'])\n"
      ],
      "metadata": {
        "id": "foqY80Qu48N2"
      },
      "execution_count": null,
      "outputs": []
    },
    {
      "cell_type": "markdown",
      "source": [
        "the function rephrase_text() replaces the word 'good' with 'great' and the word 'bad' with 'poor' using the replace() method. The function is then applied to the 'customer_review' column using the apply() method. The updated column will be printed.\n",
        "\n",
        "\n",
        "\n",
        "\n"
      ],
      "metadata": {
        "id": "UUoHig-U3Yei"
      }
    },
    {
      "cell_type": "markdown",
      "source": [
        "#### 7. Tokenization"
      ],
      "metadata": {
        "id": "OeJFEK0N496M"
      }
    },
    {
      "cell_type": "code",
      "source": [
        "# Tokenization\n",
        "# Function for tokenization\n",
        "def tokenize_text(text):\n",
        "    tokens = nltk.word_tokenize(text)\n",
        "    return tokens\n",
        "\n",
        "# Apply tokenization to 'customer_review' column\n",
        "air['customer_review'] = air['customer_review'].apply(tokenize_text)\n",
        "\n",
        "print(air['customer_review'])\n"
      ],
      "metadata": {
        "id": "ijx1rUOS5CUU"
      },
      "execution_count": null,
      "outputs": []
    },
    {
      "cell_type": "markdown",
      "source": [
        "#### 8. Text Normalization"
      ],
      "metadata": {
        "id": "9ExmJH0g5HBk"
      }
    },
    {
      "cell_type": "code",
      "source": [
        "# Normalizing Text (i.e., Stemming, Lemmatization etc.)\n",
        "nltk.download('wordnet')\n",
        "\n",
        "def lemmatize_text(text):\n",
        "    lemmatizer = WordNetLemmatizer()\n",
        "    lemmatized_text = ' '.join([lemmatizer.lemmatize(word) for word in text.split()])\n",
        "    return lemmatized_text\n"
      ],
      "metadata": {
        "id": "AIJ1a-Zc5PY8"
      },
      "execution_count": null,
      "outputs": []
    },
    {
      "cell_type": "markdown",
      "source": [
        "##### Which text normalization technique have you used and why?"
      ],
      "metadata": {
        "id": "cJNqERVU536h"
      }
    },
    {
      "cell_type": "markdown",
      "source": [
        "Answer Here."
      ],
      "metadata": {
        "id": "Z9jKVxE06BC1"
      }
    },
    {
      "cell_type": "markdown",
      "source": [
        "#### 9. Part of speech tagging"
      ],
      "metadata": {
        "id": "k5UmGsbsOxih"
      }
    },
    {
      "cell_type": "code",
      "source": [
        "# POS Taging\n",
        "def pos_tag_text(text):\n",
        "    tokens = nltk.word_tokenize(text)\n",
        "    tagged_tokens = nltk.pos_tag(tokens)\n",
        "    return tagged_tokens"
      ],
      "metadata": {
        "id": "btT3ZJBAO6Ik"
      },
      "execution_count": null,
      "outputs": []
    },
    {
      "cell_type": "markdown",
      "source": [
        "### 4. Feature Manipulation & Selection"
      ],
      "metadata": {
        "id": "-oLEiFgy-5Pf"
      }
    },
    {
      "cell_type": "markdown",
      "source": [
        "#### 1. Feature Manipulation"
      ],
      "metadata": {
        "id": "C74aWNz2AliB"
      }
    },
    {
      "cell_type": "code",
      "source": [
        "# Manipulate Features to minimize feature correlation and create new features"
      ],
      "metadata": {
        "id": "h1qC4yhBApWC"
      },
      "execution_count": null,
      "outputs": []
    },
    {
      "cell_type": "markdown",
      "source": [
        "#### 2. Feature Selection"
      ],
      "metadata": {
        "id": "2DejudWSA-a0"
      }
    },
    {
      "cell_type": "code",
      "source": [
        "# Select your features wisely to avoid overfitting"
      ],
      "metadata": {
        "id": "YLhe8UmaBCEE"
      },
      "execution_count": null,
      "outputs": []
    },
    {
      "cell_type": "markdown",
      "source": [
        "##### What all feature selection methods have you used  and why?"
      ],
      "metadata": {
        "id": "pEMng2IbBLp7"
      }
    },
    {
      "cell_type": "markdown",
      "source": [
        "Answer Here."
      ],
      "metadata": {
        "id": "rb2Lh6Z8BgGs"
      }
    },
    {
      "cell_type": "markdown",
      "source": [
        "##### Which all features you found important and why?"
      ],
      "metadata": {
        "id": "rAdphbQ9Bhjc"
      }
    },
    {
      "cell_type": "markdown",
      "source": [
        "Answer Here."
      ],
      "metadata": {
        "id": "fGgaEstsBnaf"
      }
    },
    {
      "cell_type": "markdown",
      "source": [
        "### 5. Data Transformation"
      ],
      "metadata": {
        "id": "TNVZ9zx19K6k"
      }
    },
    {
      "cell_type": "markdown",
      "source": [
        "#### Do you think that your data needs to be transformed? If yes, which transformation have you used. Explain Why?"
      ],
      "metadata": {
        "id": "nqoHp30x9hH9"
      }
    },
    {
      "cell_type": "code",
      "source": [
        "# Transform Your data"
      ],
      "metadata": {
        "id": "I6quWQ1T9rtH"
      },
      "execution_count": null,
      "outputs": []
    },
    {
      "cell_type": "markdown",
      "source": [
        "### 6. Data Scaling"
      ],
      "metadata": {
        "id": "rMDnDkt2B6du"
      }
    },
    {
      "cell_type": "code",
      "source": [
        "# Scaling your data"
      ],
      "metadata": {
        "id": "dL9LWpySC6x_"
      },
      "execution_count": null,
      "outputs": []
    },
    {
      "cell_type": "markdown",
      "source": [
        "##### Which method have you used to scale you data and why?"
      ],
      "metadata": {
        "id": "yiiVWRdJDDil"
      }
    },
    {
      "cell_type": "markdown",
      "source": [
        "### 7. Dimesionality Reduction"
      ],
      "metadata": {
        "id": "1UUpS68QDMuG"
      }
    },
    {
      "cell_type": "markdown",
      "source": [
        "##### Do you think that dimensionality reduction is needed? Explain Why?"
      ],
      "metadata": {
        "id": "kexQrXU-DjzY"
      }
    },
    {
      "cell_type": "markdown",
      "source": [
        "Answer Here."
      ],
      "metadata": {
        "id": "GGRlBsSGDtTQ"
      }
    },
    {
      "cell_type": "code",
      "source": [
        "# DImensionality Reduction (If needed)"
      ],
      "metadata": {
        "id": "kQfvxBBHDvCa"
      },
      "execution_count": null,
      "outputs": []
    },
    {
      "cell_type": "markdown",
      "source": [
        "##### Which dimensionality reduction technique have you used and why? (If dimensionality reduction done on dataset.)"
      ],
      "metadata": {
        "id": "T5CmagL3EC8N"
      }
    },
    {
      "cell_type": "markdown",
      "source": [
        "Answer Here."
      ],
      "metadata": {
        "id": "ZKr75IDuEM7t"
      }
    },
    {
      "cell_type": "markdown",
      "source": [
        "### 8. Data Splitting"
      ],
      "metadata": {
        "id": "BhH2vgX9EjGr"
      }
    },
    {
      "cell_type": "code",
      "source": [
        "# Define your features (x) and target variable (y)\n",
        "features = ['airline', 'overall', 'author', 'review_date', 'customer_review', 'aircraft', 'traveller_type',\n",
        "            'cabin', 'route', 'date_flown', 'seat_comfort', 'cabin_service', 'food_bev', 'entertainment',\n",
        "            'ground_service', 'value_for_money']\n",
        "target = 'recommended'\n",
        "\n",
        "# Split your data into train and test sets\n",
        "x_train, x_test, y_train, y_test = train_test_split(air[features], air[target], test_size=0.2, random_state=42)\n"
      ],
      "metadata": {
        "id": "0CTyd2UwEyNM"
      },
      "execution_count": null,
      "outputs": []
    },
    {
      "cell_type": "code",
      "source": [
        "#shape of x_train and x_test data\n",
        "print(x_train.shape)\n",
        "print(x_test.shape)\n",
        "     \n"
      ],
      "metadata": {
        "id": "7ebyywQieS1U"
      },
      "execution_count": null,
      "outputs": []
    },
    {
      "cell_type": "code",
      "source": [
        "#shape of y_train and y_test data\n",
        "print(y_train.shape)\n",
        "print(y_test.shape)"
      ],
      "metadata": {
        "id": "bqCnTcCww4FZ"
      },
      "execution_count": null,
      "outputs": []
    },
    {
      "cell_type": "markdown",
      "source": [
        "##### What data splitting ratio have you used and why? "
      ],
      "metadata": {
        "id": "qjKvONjwE8ra"
      }
    },
    {
      "cell_type": "markdown",
      "source": [
        "Answer Here."
      ],
      "metadata": {
        "id": "Y2lJ8cobFDb_"
      }
    },
    {
      "cell_type": "markdown",
      "source": [
        "### 9. Handling Imbalanced Dataset"
      ],
      "metadata": {
        "id": "P1XJ9OREExlT"
      }
    },
    {
      "cell_type": "code",
      "source": [
        "import numpy as np\n",
        "print(\"The Percentage of No labels of Target Variable is\",np.round(y.value_counts()[0]/len(y)*100))\n",
        "print(\"The Percentage of Yes labels of Target Variable is\",np.round(y.value_counts()[1]/len(y)*100))\n"
      ],
      "metadata": {
        "id": "PZW8Q608_Sow"
      },
      "execution_count": null,
      "outputs": []
    },
    {
      "cell_type": "markdown",
      "source": [
        "The Percentage of both labels('yes','no) is approximately equal. So no need of Handling Class Imbalance technique.\n",
        "\n"
      ],
      "metadata": {
        "id": "3dQQDZ_p_9yZ"
      }
    },
    {
      "cell_type": "markdown",
      "source": [
        "## ***7. ML Model Implementation***"
      ],
      "metadata": {
        "id": "VfCC591jGiD4"
      }
    },
    {
      "cell_type": "markdown",
      "source": [
        "### ML Model - 1"
      ],
      "metadata": {
        "id": "OB4l2ZhMeS1U"
      }
    },
    {
      "cell_type": "code",
      "source": [
        "print(air.dtypes)"
      ],
      "metadata": {
        "id": "jPD6ikro0qhg"
      },
      "execution_count": null,
      "outputs": []
    },
    {
      "cell_type": "code",
      "source": [
        "# Define the features and target variable\n",
        "features = ['airline', 'overall', 'author', 'review_date', 'customer_review', 'aircraft', 'traveller_type',\n",
        "            'cabin', 'route', 'date_flown', 'seat_comfort', 'cabin_service', 'food_bev', 'entertainment',\n",
        "            'ground_service', 'value_for_money']\n",
        "target = 'recommended'\n",
        "\n",
        "# Convert non-numeric values to strings in categorical columns\n",
        "categorical_columns = ['airline', 'author', 'customer_review', 'aircraft', 'traveller_type', 'cabin', 'route', 'date_flown']\n",
        "for column in categorical_columns:\n",
        "    air[column] = air[column].astype(str)\n",
        "\n",
        "# Split the data into train and test sets\n",
        "X_train, X_test, y_train, y_test = train_test_split(air[features], air[target], test_size=0.2, random_state=42)\n",
        "\n",
        "# Preprocessing for numeric features\n",
        "numeric_transformer = Pipeline(steps=[\n",
        "    ('imputer', SimpleImputer(strategy='mean')),\n",
        "    ('scaler', StandardScaler())])\n",
        "\n",
        "# Preprocessing for categorical features\n",
        "categorical_transformer = OneHotEncoder(handle_unknown='ignore')\n",
        "\n",
        "# Combine preprocessing steps\n",
        "preprocessor = ColumnTransformer(\n",
        "    transformers=[\n",
        "        ('num', numeric_transformer, ['overall', 'seat_comfort', 'cabin_service', 'food_bev', 'entertainment',\n",
        "                                      'ground_service', 'value_for_money']),\n",
        "        ('cat', categorical_transformer, categorical_columns)])\n",
        "\n",
        "\n",
        "\n"
      ],
      "metadata": {
        "id": "8QO--7GSz5Si"
      },
      "execution_count": null,
      "outputs": []
    },
    {
      "cell_type": "code",
      "source": [
        "# Model 1: Logistic Regression\n",
        "logreg_model = Pipeline(steps=[('preprocessor', preprocessor),\n",
        "                               ('classifier', LogisticRegression())])\n",
        "logreg_model.fit(X_train, y_train)\n",
        "logreg_pred = logreg_model.predict(X_test)\n",
        "logreg_accuracy = accuracy_score(y_test, logreg_pred)\n",
        "print(\"Logistic Regression Accuracy:\", logreg_accuracy)"
      ],
      "metadata": {
        "id": "epBNLakAExAL"
      },
      "execution_count": null,
      "outputs": []
    },
    {
      "cell_type": "code",
      "source": [
        "from sklearn.model_selection import train_test_split\n",
        "from sklearn.pipeline import Pipeline\n",
        "from sklearn.compose import ColumnTransformer\n",
        "from sklearn.preprocessing import StandardScaler, OneHotEncoder\n",
        "from sklearn.impute import SimpleImputer\n",
        "from sklearn.linear_model import LogisticRegression\n",
        "from sklearn.ensemble import RandomForestClassifier\n",
        "from sklearn.metrics import accuracy_score\n",
        "\n",
        "\n",
        "\n",
        "# Define the features and target variable\n",
        "features = ['airline', 'overall', 'author', 'review_date', 'customer_review', 'aircraft', 'traveller_type',\n",
        "            'cabin', 'route', 'date_flown', 'seat_comfort', 'cabin_service', 'food_bev', 'entertainment',\n",
        "            'ground_service', 'value_for_money']\n",
        "target = 'recommended'\n",
        "\n",
        "# Convert non-numeric values to strings in categorical columns\n",
        "categorical_columns = ['airline', 'author', 'customer_review', 'aircraft', 'traveller_type', 'cabin', 'route', 'date_flown']\n",
        "for column in categorical_columns:\n",
        "    air[column] = air[column].astype(str)\n",
        "\n",
        "# Drop rows with missing values\n",
        "air.dropna(subset=features + [target], inplace=True)\n",
        "\n",
        "# Split the data into train and test sets\n",
        "X_train, X_test, y_train, y_test = train_test_split(air[features], air[target], test_size=0.2, random_state=42)\n",
        "\n",
        "# Preprocessing for numeric features\n",
        "numeric_transformer = Pipeline(steps=[\n",
        "    ('imputer', SimpleImputer(strategy='mean')),\n",
        "    ('scaler', StandardScaler())])\n",
        "\n",
        "# Preprocessing for categorical features\n",
        "categorical_transformer = OneHotEncoder(handle_unknown='ignore')\n",
        "\n",
        "# Combine preprocessing steps\n",
        "preprocessor = ColumnTransformer(\n",
        "    transformers=[\n",
        "        ('num', numeric_transformer, ['overall', 'seat_comfort', 'cabin_service', 'food_bev', 'entertainment',\n",
        "                                      'ground_service', 'value_for_money']),\n",
        "        ('cat', categorical_transformer, categorical_columns)])\n",
        "\n",
        "# Model 1: Logistic Regression\n",
        "logreg_model = Pipeline(steps=[('preprocessor', preprocessor),\n",
        "                               ('classifier', LogisticRegression())])\n",
        "logreg_model.fit(X_train, y_train)\n",
        "logreg_pred = logreg_model.predict(X_test)\n",
        "logreg_accuracy = accuracy_score(y_test, logreg_pred)\n",
        "print(\"Logistic Regression Accuracy:\", logreg_accuracy)\n",
        "\n",
        "# Model 2: Random Forest Classifier\n",
        "rf_model = Pipeline(steps=[('preprocessor', preprocessor),\n",
        "                            ('classifier', RandomForestClassifier())])\n",
        "rf_model.fit(X_train, y_train)\n",
        "rf_pred = rf_model.predict(X_test)\n",
        "rf_accuracy = accuracy_score(y_test, rf_pred)\n",
        "print(\"Random Forest Accuracy:\", rf_accuracy)\n"
      ],
      "metadata": {
        "id": "XZXYIL8q-Jez"
      },
      "execution_count": null,
      "outputs": []
    },
    {
      "cell_type": "code",
      "source": [
        "# Define the Random Forest model\n",
        "rf_model = RandomForestClassifier()\n",
        "\n",
        "# Fit the Random Forest model\n",
        "rf_model.fit(X_train, y_train)\n",
        "\n",
        "# Predict using the Random Forest model\n",
        "rf_pred = rf_model.predict(X_test)\n",
        "\n",
        "# Accuracy of Random Forest\n",
        "rf_accuracy = accuracy_score(y_test, rf_pred)\n",
        "print(\"Accuracy - Random Forest:\", rf_accuracy)\n",
        "\n",
        "# Confusion matrix and classification report for Random Forest\n",
        "rf_cm = confusion_matrix(y_test, rf_pred)\n",
        "rf_cr = classification_report(y_test, rf_pred)\n",
        "\n",
        "# Print confusion matrix and classification report\n",
        "print(\"Confusion Matrix - Random Forest:\")\n",
        "print(rf_cm)\n",
        "print(\"\\nClassification Report - Random Forest:\")\n",
        "print(rf_cr)\n"
      ],
      "metadata": {
        "id": "0qmIBVqDd3TP"
      },
      "execution_count": null,
      "outputs": []
    },
    {
      "cell_type": "code",
      "source": [],
      "metadata": {
        "id": "M-UT61YOO-B9"
      },
      "execution_count": null,
      "outputs": []
    },
    {
      "cell_type": "markdown",
      "source": [
        "##### Which hyperparameter optimization technique have you used and why?"
      ],
      "metadata": {
        "id": "PiV4Ypx8fxKe"
      }
    },
    {
      "cell_type": "markdown",
      "source": [
        "Answer Here."
      ],
      "metadata": {
        "id": "negyGRa7fxKf"
      }
    },
    {
      "cell_type": "markdown",
      "source": [
        "##### Have you seen any improvement? Note down the improvement with updates Evaluation metric Score Chart."
      ],
      "metadata": {
        "id": "TfvqoZmBfxKf"
      }
    },
    {
      "cell_type": "markdown",
      "source": [
        "Answer Here."
      ],
      "metadata": {
        "id": "OaLui8CcfxKf"
      }
    },
    {
      "cell_type": "markdown",
      "source": [
        "### ML Model - 2"
      ],
      "metadata": {
        "id": "dJ2tPlVmpsJ0"
      }
    },
    {
      "cell_type": "code",
      "source": [
        "\n",
        "# Model 2: Random Forest Classifier\n",
        "rf_model = Pipeline(steps=[('preprocessor', preprocessor),\n",
        "                            ('classifier', RandomForestClassifier())])\n",
        "rf_model.fit(X_train, y_train)\n",
        "rf_pred = rf_model.predict(X_test)\n",
        "rf_accuracy = accuracy_score(y_test, rf_pred)\n",
        "print(\"Random Forest Accuracy:\", rf_accuracy)"
      ],
      "metadata": {
        "id": "Dn0EOfS6psJ2"
      },
      "execution_count": null,
      "outputs": []
    },
    {
      "cell_type": "code",
      "source": [
        "# Plotting the confusion matrix for Random Forest\n",
        "plt.figure(figsize=(6, 4))\n",
        "sns.heatmap(rf_cm, annot=True, cmap='Blues', fmt='g')\n",
        "plt.title(\"Confusion Matrix - Random Forest\")\n",
        "plt.xlabel(\"Predicted\")\n",
        "plt.ylabel(\"Actual\")\n",
        "plt.show()\n",
        "\n",
        "# Classification report for Random Forest\n",
        "print(\"Classification Report - Random Forest:\")\n",
        "print(rf_cr)"
      ],
      "metadata": {
        "id": "f_lPuh5Q-RhC"
      },
      "execution_count": null,
      "outputs": []
    },
    {
      "cell_type": "markdown",
      "source": [
        "##### Which hyperparameter optimization technique have you used and why?"
      ],
      "metadata": {
        "id": "HAih1iBOpsJ2"
      }
    },
    {
      "cell_type": "markdown",
      "source": [
        "Answer Here."
      ],
      "metadata": {
        "id": "9kBgjYcdpsJ2"
      }
    },
    {
      "cell_type": "markdown",
      "source": [
        "##### Have you seen any improvement? Note down the improvement with updates Evaluation metric Score Chart."
      ],
      "metadata": {
        "id": "zVGeBEFhpsJ2"
      }
    },
    {
      "cell_type": "markdown",
      "source": [
        "Answer Here."
      ],
      "metadata": {
        "id": "74yRdG6UpsJ3"
      }
    },
    {
      "cell_type": "markdown",
      "source": [
        "#### 3. Explain each evaluation metric's indication towards business and the business impact pf the ML model used."
      ],
      "metadata": {
        "id": "bmKjuQ-FpsJ3"
      }
    },
    {
      "cell_type": "markdown",
      "source": [
        "Answer Here."
      ],
      "metadata": {
        "id": "BDKtOrBQpsJ3"
      }
    },
    {
      "cell_type": "code",
      "source": [
        "\n",
        "# Accuracy of each model\n",
        "print(\"Accuracy - Logistic Regression:\", logreg_accuracy)\n",
        "print(\"Accuracy - Random Forest:\", rf_accuracy)"
      ],
      "metadata": {
        "id": "r_GMg1SP_zza"
      },
      "execution_count": null,
      "outputs": []
    },
    {
      "cell_type": "code",
      "source": [
        "# Accuracy of each model\n",
        "model_names = ['Logistic Regression', 'Random Forest']\n",
        "accuracies = [logreg_accuracy, rf_accuracy]\n",
        "\n",
        "# Plot the accuracy\n",
        "plt.bar(model_names, accuracies)\n",
        "plt.xlabel('Model')\n",
        "plt.ylabel('Accuracy')\n",
        "plt.title('Accuracy of Each Model')\n",
        "plt.show()\n"
      ],
      "metadata": {
        "id": "A5U9kKbbEc9N"
      },
      "execution_count": null,
      "outputs": []
    },
    {
      "cell_type": "markdown",
      "source": [
        "### ***Congrats! Your model is successfully created and ready for deployment on a live server for a real user interaction !!!***"
      ],
      "metadata": {
        "id": "-Kee-DAl2viO"
      }
    },
    {
      "cell_type": "markdown",
      "source": [
        "# **Conclusion**"
      ],
      "metadata": {
        "id": "gCX9965dhzqZ"
      }
    },
    {
      "cell_type": "markdown",
      "source": [
        "Write the conclusion here."
      ],
      "metadata": {
        "id": "Fjb1IsQkh3yE"
      }
    },
    {
      "cell_type": "markdown",
      "source": [
        "### ***Hurrah! You have successfully completed your Machine Learning Capstone Project !!!***"
      ],
      "metadata": {
        "id": "gIfDvo9L0UH2"
      }
    }
  ]
}